{
 "cells": [
  {
   "cell_type": "code",
   "execution_count": 1,
   "id": "ade928ac",
   "metadata": {},
   "outputs": [
    {
     "name": "stdout",
     "output_type": "stream",
     "text": [
      "Hellow words\n"
     ]
    }
   ],
   "source": [
    "print(\"Hellow words\")"
   ]
  },
  {
   "cell_type": "code",
   "execution_count": 2,
   "id": "5ec4c61b",
   "metadata": {},
   "outputs": [
    {
     "name": "stdout",
     "output_type": "stream",
     "text": [
      "['False', 'None', 'True', 'and', 'as', 'assert', 'async', 'await', 'break', 'class', 'continue', 'def', 'del', 'elif', 'else', 'except', 'finally', 'for', 'from', 'global', 'if', 'import', 'in', 'is', 'lambda', 'nonlocal', 'not', 'or', 'pass', 'raise', 'return', 'try', 'while', 'with', 'yield']\n"
     ]
    }
   ],
   "source": [
    "import keyword\n",
    "print(keyword.kwlist)"
   ]
  },
  {
   "cell_type": "code",
   "execution_count": 3,
   "id": "aacc191b",
   "metadata": {},
   "outputs": [
    {
     "name": "stdout",
     "output_type": "stream",
     "text": [
      "shanker pande\n",
      "13\n",
      "<class 'str'>\n",
      "String? False\n"
     ]
    }
   ],
   "source": [
    "a=\"shanker pande\"\n",
    "print(a)\n",
    "print(len(a))\n",
    "print(type(a))\n",
    "print(\"String?\",isinstance(a,int))"
   ]
  },
  {
   "cell_type": "code",
   "execution_count": 4,
   "id": "6a41cac9",
   "metadata": {},
   "outputs": [
    {
     "data": {
      "text/plain": [
       "'ednap reknahs'"
      ]
     },
     "execution_count": 4,
     "metadata": {},
     "output_type": "execute_result"
    }
   ],
   "source": [
    "a[2]\n",
    "a[4]\n",
    "a[:]\n",
    "a[2:7]\n",
    "a[-1]\n",
    "a[::-1]"
   ]
  },
  {
   "cell_type": "code",
   "execution_count": 5,
   "id": "20804e2c",
   "metadata": {},
   "outputs": [
    {
     "name": "stdout",
     "output_type": "stream",
     "text": [
      "I am data sciensts\n",
      "18\n",
      "<class 'str'>\n",
      "stsneics atad ma I\n",
      "I am web devoper\n",
      "I am Mechanical Engineering\n",
      "I am data sciensts\n"
     ]
    }
   ],
   "source": [
    "b=\"I am data sciensts\"\n",
    "print(b)\n",
    "print(len(b))\n",
    "print(type(b))\n",
    "print(b[::-1])\n",
    "b=b.replace(\"data sciensts\",\"web devoper\")\n",
    "print(b)\n",
    "b=b.replace(\"web devoper\",\"Mechanical Engineering\")\n",
    "print(b)\n",
    "b=b.replace(\"Mechanical Engineering\",\"data sciensts\")\n",
    "print(b)"
   ]
  },
  {
   "cell_type": "code",
   "execution_count": 6,
   "id": "85f9d214",
   "metadata": {},
   "outputs": [
    {
     "name": "stdout",
     "output_type": "stream",
     "text": [
      "I am data scientictI am web devoperI am Software Engineer\n"
     ]
    }
   ],
   "source": [
    "a=\"I am data scientict\"\n",
    "b=\"I am web devoper\"\n",
    "c=\"I am Software Engineer\"\n",
    "d=a+b+c\n",
    "print(d)"
   ]
  },
  {
   "cell_type": "code",
   "execution_count": 7,
   "id": "9f40f3a6",
   "metadata": {},
   "outputs": [
    {
     "data": {
      "text/plain": [
       "True"
      ]
     },
     "execution_count": 7,
     "metadata": {},
     "output_type": "execute_result"
    }
   ],
   "source": [
    "\"I am data scientict\" in a"
   ]
  },
  {
   "cell_type": "code",
   "execution_count": 8,
   "id": "f1b85f30",
   "metadata": {},
   "outputs": [
    {
     "data": {
      "text/plain": [
       "True"
      ]
     },
     "execution_count": 8,
     "metadata": {},
     "output_type": "execute_result"
    }
   ],
   "source": [
    "\"I am web devoper\" in b"
   ]
  },
  {
   "cell_type": "code",
   "execution_count": 9,
   "id": "369e0a2a",
   "metadata": {},
   "outputs": [
    {
     "name": "stdout",
     "output_type": "stream",
     "text": [
      "4\n"
     ]
    }
   ],
   "source": [
    "print(2*2)"
   ]
  },
  {
   "cell_type": "code",
   "execution_count": 10,
   "id": "4f041f56",
   "metadata": {},
   "outputs": [
    {
     "data": {
      "text/plain": [
       "('I am ', 'data', ' scientict')"
      ]
     },
     "execution_count": 10,
     "metadata": {},
     "output_type": "execute_result"
    }
   ],
   "source": [
    "a.partition(\"data\")"
   ]
  },
  {
   "cell_type": "code",
   "execution_count": 11,
   "id": "c5597ef7",
   "metadata": {},
   "outputs": [
    {
     "data": {
      "text/plain": [
       "('I am web ', 'devoper', '')"
      ]
     },
     "execution_count": 11,
     "metadata": {},
     "output_type": "execute_result"
    }
   ],
   "source": [
    "b.partition(\"devoper\")"
   ]
  },
  {
   "cell_type": "code",
   "execution_count": 12,
   "id": "dac12e3e",
   "metadata": {},
   "outputs": [],
   "source": [
    "q=\"  i am abhishek i am from aurangabd i have complited my education in marathi medium \""
   ]
  },
  {
   "cell_type": "code",
   "execution_count": 13,
   "id": "9392560b",
   "metadata": {},
   "outputs": [
    {
     "data": {
      "text/plain": [
       "('  i am abhishek i am from ',\n",
       " 'aurangabd',\n",
       " ' i have complited my education in marathi medium ')"
      ]
     },
     "execution_count": 13,
     "metadata": {},
     "output_type": "execute_result"
    }
   ],
   "source": [
    "q.partition(\"aurangabd\")"
   ]
  },
  {
   "cell_type": "code",
   "execution_count": 14,
   "id": "f5d8a0d2",
   "metadata": {},
   "outputs": [
    {
     "data": {
      "text/plain": [
       "5"
      ]
     },
     "execution_count": 14,
     "metadata": {},
     "output_type": "execute_result"
    }
   ],
   "source": [
    "q.count(\"e\")"
   ]
  },
  {
   "cell_type": "code",
   "execution_count": 15,
   "id": "f7e87c1f",
   "metadata": {},
   "outputs": [
    {
     "data": {
      "text/plain": [
       "10"
      ]
     },
     "execution_count": 15,
     "metadata": {},
     "output_type": "execute_result"
    }
   ],
   "source": [
    "q.count(\"a\")"
   ]
  },
  {
   "cell_type": "code",
   "execution_count": 16,
   "id": "c7e5f8a2",
   "metadata": {},
   "outputs": [
    {
     "data": {
      "text/plain": [
       "1"
      ]
     },
     "execution_count": 16,
     "metadata": {},
     "output_type": "execute_result"
    }
   ],
   "source": [
    "q.count(\"s\")"
   ]
  },
  {
   "cell_type": "code",
   "execution_count": 17,
   "id": "00f3323f",
   "metadata": {},
   "outputs": [
    {
     "data": {
      "text/plain": [
       "['i',\n",
       " 'am',\n",
       " 'abhishek',\n",
       " 'i',\n",
       " 'am',\n",
       " 'from',\n",
       " 'aurangabd',\n",
       " 'i',\n",
       " 'have',\n",
       " 'complited',\n",
       " 'my',\n",
       " 'education',\n",
       " 'in',\n",
       " 'marathi',\n",
       " 'medium']"
      ]
     },
     "execution_count": 17,
     "metadata": {},
     "output_type": "execute_result"
    }
   ],
   "source": [
    "q.split()"
   ]
  },
  {
   "cell_type": "code",
   "execution_count": 18,
   "id": "697382b9",
   "metadata": {},
   "outputs": [],
   "source": [
    "s=\" abhishek\""
   ]
  },
  {
   "cell_type": "code",
   "execution_count": 19,
   "id": "c03aed8c",
   "metadata": {},
   "outputs": [
    {
     "data": {
      "text/plain": [
       "'abhishek'"
      ]
     },
     "execution_count": 19,
     "metadata": {},
     "output_type": "execute_result"
    }
   ],
   "source": [
    "s.lstrip()"
   ]
  },
  {
   "cell_type": "code",
   "execution_count": 20,
   "id": "5a67e2a7",
   "metadata": {},
   "outputs": [],
   "source": [
    "s=\"abhishek  \""
   ]
  },
  {
   "cell_type": "code",
   "execution_count": 21,
   "id": "741eb3c3",
   "metadata": {},
   "outputs": [
    {
     "data": {
      "text/plain": [
       "'abhishek'"
      ]
     },
     "execution_count": 21,
     "metadata": {},
     "output_type": "execute_result"
    }
   ],
   "source": [
    "s.rstrip()"
   ]
  },
  {
   "cell_type": "code",
   "execution_count": 22,
   "id": "dcadbbf2",
   "metadata": {},
   "outputs": [],
   "source": [
    "s=\"Hi There open your demate account\""
   ]
  },
  {
   "cell_type": "code",
   "execution_count": 23,
   "id": "0cb25c95",
   "metadata": {},
   "outputs": [
    {
     "data": {
      "text/plain": [
       "['Hi', 'There', 'open', 'your', 'demate', 'account']"
      ]
     },
     "execution_count": 23,
     "metadata": {},
     "output_type": "execute_result"
    }
   ],
   "source": [
    "s.split()"
   ]
  },
  {
   "cell_type": "code",
   "execution_count": 24,
   "id": "05f6d4fb",
   "metadata": {},
   "outputs": [
    {
     "data": {
      "text/plain": [
       "'hi there open your demate account'"
      ]
     },
     "execution_count": 24,
     "metadata": {},
     "output_type": "execute_result"
    }
   ],
   "source": [
    "s.lower()"
   ]
  },
  {
   "cell_type": "code",
   "execution_count": 25,
   "id": "a97b1661",
   "metadata": {},
   "outputs": [
    {
     "data": {
      "text/plain": [
       "'HI THERE OPEN YOUR DEMATE ACCOUNT'"
      ]
     },
     "execution_count": 25,
     "metadata": {},
     "output_type": "execute_result"
    }
   ],
   "source": [
    "s.upper()"
   ]
  },
  {
   "cell_type": "code",
   "execution_count": 26,
   "id": "438a694c",
   "metadata": {},
   "outputs": [
    {
     "data": {
      "text/plain": [
       "'  I AM ABHISHEK I AM FROM AURANGABD I HAVE COMPLITED MY EDUCATION IN MARATHI MEDIUM '"
      ]
     },
     "execution_count": 26,
     "metadata": {},
     "output_type": "execute_result"
    }
   ],
   "source": [
    "q.upper()"
   ]
  },
  {
   "cell_type": "code",
   "execution_count": 27,
   "id": "d817444a",
   "metadata": {},
   "outputs": [
    {
     "data": {
      "text/plain": [
       "'  i am abhishek i am from aurangabd i have complited my education in marathi medium '"
      ]
     },
     "execution_count": 27,
     "metadata": {},
     "output_type": "execute_result"
    }
   ],
   "source": [
    "q.lower()"
   ]
  },
  {
   "cell_type": "code",
   "execution_count": 28,
   "id": "77622934",
   "metadata": {},
   "outputs": [
    {
     "name": "stdout",
     "output_type": "stream",
     "text": [
      "suresh shanker\n"
     ]
    },
    {
     "data": {
      "text/plain": [
       "True"
      ]
     },
     "execution_count": 28,
     "metadata": {},
     "output_type": "execute_result"
    }
   ],
   "source": [
    "s=\"suresh\"\n",
    "r=\"shanker\"\n",
    "print(s,r)\n",
    "\"suresh\" in s"
   ]
  },
  {
   "cell_type": "code",
   "execution_count": 29,
   "id": "3b474325",
   "metadata": {},
   "outputs": [
    {
     "data": {
      "text/plain": [
       "True"
      ]
     },
     "execution_count": 29,
     "metadata": {},
     "output_type": "execute_result"
    }
   ],
   "source": [
    "s.startswith(\"su\")\n",
    "s.startswith(\"ka\")\n",
    "r.startswith(\"shank\")"
   ]
  },
  {
   "cell_type": "code",
   "execution_count": 30,
   "id": "1b3d29b5",
   "metadata": {},
   "outputs": [
    {
     "data": {
      "text/plain": [
       "True"
      ]
     },
     "execution_count": 30,
     "metadata": {},
     "output_type": "execute_result"
    }
   ],
   "source": [
    "r.startswith(\"ll\")\n",
    "r.startswith(\"kaka\")\n",
    "r.startswith(\"shanker\")"
   ]
  },
  {
   "cell_type": "code",
   "execution_count": 31,
   "id": "11a3880a",
   "metadata": {},
   "outputs": [
    {
     "data": {
      "text/plain": [
       "True"
      ]
     },
     "execution_count": 31,
     "metadata": {},
     "output_type": "execute_result"
    }
   ],
   "source": [
    "r.endswith(\"er\")\n",
    "r.endswith(\"f\")\n",
    "r.endswith(\"r\")\n",
    "r.endswith(\"ker\")"
   ]
  },
  {
   "cell_type": "code",
   "execution_count": 32,
   "id": "82766680",
   "metadata": {},
   "outputs": [
    {
     "name": "stdout",
     "output_type": "stream",
     "text": [
      "kkk\n"
     ]
    }
   ],
   "source": [
    "a=input()"
   ]
  },
  {
   "cell_type": "code",
   "execution_count": 33,
   "id": "95f20568",
   "metadata": {},
   "outputs": [
    {
     "name": "stdout",
     "output_type": "stream",
     "text": [
      "<class 'int'>\n",
      "<class 'float'>\n",
      "<class 'str'>\n",
      "<class 'bool'>\n"
     ]
    }
   ],
   "source": [
    "x=int(4.111)\n",
    "print(type(x))\n",
    "y=float(7)\n",
    "print(type(y))\n",
    "z=str(85)\n",
    "print(type(z))\n",
    "n=bool(4)\n",
    "print(type(n))"
   ]
  },
  {
   "cell_type": "code",
   "execution_count": 34,
   "id": "2130adc6",
   "metadata": {},
   "outputs": [
    {
     "name": "stdout",
     "output_type": "stream",
     "text": [
      "ABhishek shnaker anirudh\n"
     ]
    }
   ],
   "source": [
    "a,b,c=\"ABhishek\",\"shnaker\",\"anirudh\"\n",
    "print(a,b,c)"
   ]
  },
  {
   "cell_type": "code",
   "execution_count": 35,
   "id": "a6ef3615",
   "metadata": {},
   "outputs": [
    {
     "name": "stdout",
     "output_type": "stream",
     "text": [
      "my name is abhishek and my age is 23\n"
     ]
    }
   ],
   "source": [
    "a=23\n",
    "b=\"my name is abhishek and my age is {}\"\n",
    "print(b.format(a))"
   ]
  },
  {
   "cell_type": "code",
   "execution_count": 36,
   "id": "f002af6c",
   "metadata": {},
   "outputs": [
    {
     "name": "stdout",
     "output_type": "stream",
     "text": [
      "my laptop name ASUS and their price is 45000\n"
     ]
    }
   ],
   "source": [
    "a=\"my laptop name ASUS and their price is {}\"\n",
    "b=45000\n",
    "print(a.format(b))"
   ]
  },
  {
   "cell_type": "code",
   "execution_count": 37,
   "id": "892b9133",
   "metadata": {},
   "outputs": [
    {
     "name": "stdout",
     "output_type": "stream",
     "text": [
      "my room number is 12\n"
     ]
    }
   ],
   "source": [
    "a=\"my room number is {}\"\n",
    "b=12\n",
    "print(a.format(b))"
   ]
  },
  {
   "cell_type": "code",
   "execution_count": 38,
   "id": "90b1a0b0",
   "metadata": {},
   "outputs": [
    {
     "name": "stdout",
     "output_type": "stream",
     "text": [
      "my mobile price is 12000\n"
     ]
    }
   ],
   "source": [
    "a=\"my mobile price is {}\"\n",
    "b=12000\n",
    "print(a.format(b))"
   ]
  },
  {
   "cell_type": "code",
   "execution_count": 39,
   "id": "1248019e",
   "metadata": {},
   "outputs": [
    {
     "name": "stdout",
     "output_type": "stream",
     "text": [
      "my name abhishek i am living in AURANGABAD my laptop name AUSUS\n"
     ]
    }
   ],
   "source": [
    "a=\"my name abhishek i am living in {} my laptop name {}\"\n",
    "b=\"AURANGABAD\"\n",
    "c=\"AUSUS\"\n",
    "print(a.format(b,c))\n"
   ]
  },
  {
   "cell_type": "code",
   "execution_count": 40,
   "id": "0b58d8cb",
   "metadata": {},
   "outputs": [
    {
     "data": {
      "text/plain": [
       "3125"
      ]
     },
     "execution_count": 40,
     "metadata": {},
     "output_type": "execute_result"
    }
   ],
   "source": [
    "a=3+3\n",
    "a=5-3\n",
    "a=5*5\n",
    "a=5/2\n",
    "a=5**5\n",
    "a==1\n",
    "a"
   ]
  },
  {
   "cell_type": "code",
   "execution_count": 41,
   "id": "a981b656",
   "metadata": {},
   "outputs": [
    {
     "name": "stdout",
     "output_type": "stream",
     "text": [
      "abhi\n"
     ]
    }
   ],
   "source": [
    "w=\"abhi\"\n",
    "print(w)"
   ]
  },
  {
   "cell_type": "code",
   "execution_count": 42,
   "id": "a202bc3b",
   "metadata": {},
   "outputs": [
    {
     "data": {
      "text/plain": [
       "True"
      ]
     },
     "execution_count": 42,
     "metadata": {},
     "output_type": "execute_result"
    }
   ],
   "source": [
    "a=20>22 and 20>12\n",
    "a=20>12 and 33<77\n",
    "a= len(\"abhi\")>len(\"dd\") and len(\"dighule\")<len(\"s\")\n",
    "a= len(\"ABHISHEK\") >len(\"abhi\") or len(\"anirudh\") <len(\"abhi\")\n",
    "a"
   ]
  },
  {
   "cell_type": "code",
   "execution_count": 43,
   "id": "95fbd793",
   "metadata": {},
   "outputs": [
    {
     "name": "stdout",
     "output_type": "stream",
     "text": [
      "True\n",
      "False\n",
      "True\n",
      "False\n",
      "True\n",
      "False\n"
     ]
    }
   ],
   "source": [
    "a=10>9\n",
    "print(a)\n",
    "a=10<1\n",
    "print(a)\n",
    "a=10>=10\n",
    "print(a)\n",
    "a=10<=1\n",
    "print(a)\n",
    "a=2==2\n",
    "print(a)\n",
    "a= 4!=4\n",
    "print(a)"
   ]
  },
  {
   "cell_type": "code",
   "execution_count": 44,
   "id": "1927c663",
   "metadata": {},
   "outputs": [
    {
     "name": "stdout",
     "output_type": "stream",
     "text": [
      "2024-01-31 19:01:56.710061\n"
     ]
    }
   ],
   "source": [
    "import datetime\n",
    "x=datetime.datetime.now()\n",
    "print(x)"
   ]
  },
  {
   "cell_type": "code",
   "execution_count": 45,
   "id": "c49439dd",
   "metadata": {},
   "outputs": [
    {
     "name": "stdout",
     "output_type": "stream",
     "text": [
      "2024\n",
      "1\n",
      "31\n",
      "56\n",
      "710061\n",
      "Wednesday\n",
      "January\n",
      "20\n",
      "710061\n",
      "01/31/24\n",
      "2024-01-31\n",
      "19:01:56\n"
     ]
    }
   ],
   "source": [
    "print(x.year)\n",
    "print(x.month)\n",
    "print(x.day)\n",
    "print(x.second)\n",
    "print(x.microsecond)\n",
    "print(x.strftime(\"%A\"))\n",
    "print(x.strftime(\"%B\"))\n",
    "print(x.strftime(\"%C\"))\n",
    "print(x.strftime(\"%f\"))\n",
    "print(x.strftime(\"%D\"))\n",
    "print(x.strftime(\"%F\"))\n",
    "print(x.strftime(\"%X\"))"
   ]
  },
  {
   "cell_type": "code",
   "execution_count": 46,
   "id": "7d865da5",
   "metadata": {},
   "outputs": [
    {
     "name": "stdout",
     "output_type": "stream",
     "text": [
      "it is negetive\n"
     ]
    }
   ],
   "source": [
    "a=10\n",
    "b=20\n",
    "if a>b:\n",
    "    print(\"it is true\")\n",
    "else:\n",
    "    print(\"it is negetive\")"
   ]
  },
  {
   "cell_type": "code",
   "execution_count": 47,
   "id": "eff6a3cf",
   "metadata": {},
   "outputs": [
    {
     "name": "stdout",
     "output_type": "stream",
     "text": [
      "it is true\n"
     ]
    }
   ],
   "source": [
    "a=22\n",
    "b=19\n",
    "if a>b:\n",
    "    print(\"it is true\")\n",
    "else:\n",
    "    print(\"it is negective\")"
   ]
  },
  {
   "cell_type": "code",
   "execution_count": 48,
   "id": "b5f78186",
   "metadata": {},
   "outputs": [
    {
     "name": "stdout",
     "output_type": "stream",
     "text": [
      "a is not statisfied\n"
     ]
    }
   ],
   "source": [
    "a=23\n",
    "b=55\n",
    "if a>b:\n",
    "    print(\"it is true\")\n",
    "if a>=b:\n",
    "    print(\"it is equel\")\n",
    "else:\n",
    "    print(\"a is not statisfied\")"
   ]
  },
  {
   "cell_type": "code",
   "execution_count": 49,
   "id": "fde3181e",
   "metadata": {},
   "outputs": [
    {
     "name": "stdout",
     "output_type": "stream",
     "text": [
      "a is less than b\n",
      "a is less than b\n",
      "a is grethet than b and a is less than b\n"
     ]
    }
   ],
   "source": [
    "a=24\n",
    "b=33\n",
    "if a>b:\n",
    "    print(\"a is grether than b\")\n",
    "if a<b:\n",
    "    print(\"a is less than b\")\n",
    "if a>=b:\n",
    "    print(\"a is grether than and equel\")\n",
    "if a<=b:\n",
    "    print(\"a is less than b\")\n",
    "if a==b:\n",
    "    print(\"a is equel to equel b\")\n",
    "if a>b and a<b:\n",
    "    print(\"right\")\n",
    "if a>b or a<b:\n",
    "    print(\"a is grethet than b and a is less than b\")\n",
    "else:\n",
    "    print(\"all worng\")"
   ]
  },
  {
   "cell_type": "code",
   "execution_count": 50,
   "id": "0c5a8e4b",
   "metadata": {},
   "outputs": [
    {
     "name": "stdout",
     "output_type": "stream",
     "text": [
      "you are suitable candidant\n"
     ]
    }
   ],
   "source": [
    "handsome=\"true\"\n",
    "salary=\"true\"\n",
    "if handsome==\"true\" and salary==\"fslse\":\n",
    "    print(\"you will not marray\")\n",
    "if handsome==\"true\" and salary==\"true\":\n",
    "    print(\"you are suitable candidant\")\n",
    "else:\n",
    "    print(\"bagvon barose\")"
   ]
  },
  {
   "cell_type": "code",
   "execution_count": 51,
   "id": "a7e595ff",
   "metadata": {},
   "outputs": [
    {
     "name": "stdout",
     "output_type": "stream",
     "text": [
      "enter your age: 55\n",
      "you can apply for licence\n"
     ]
    }
   ],
   "source": [
    "age=int(input(\"enter your age: \"))\n",
    "if age>18:\n",
    "    print(\"you can apply for licence\")\n",
    "else:\n",
    "    print(\"itni jaldi kya hai\")"
   ]
  },
  {
   "cell_type": "code",
   "execution_count": 52,
   "id": "f1fff736",
   "metadata": {},
   "outputs": [
    {
     "name": "stdout",
     "output_type": "stream",
     "text": [
      "4\n",
      "6\n",
      "8\n",
      "10\n"
     ]
    }
   ],
   "source": [
    "i=2\n",
    "while i<9:\n",
    "    i+=2\n",
    "    print(i)"
   ]
  },
  {
   "cell_type": "code",
   "execution_count": 53,
   "id": "d151119b",
   "metadata": {},
   "outputs": [
    {
     "name": "stdout",
     "output_type": "stream",
     "text": [
      "2\n",
      "3\n",
      "4\n",
      "5\n",
      "6\n"
     ]
    }
   ],
   "source": [
    "i=1\n",
    "while i<9:\n",
    "    i+=1\n",
    "    if(i==7):\n",
    "        break\n",
    "    print(i)"
   ]
  },
  {
   "cell_type": "code",
   "execution_count": 54,
   "id": "8b2507b7",
   "metadata": {},
   "outputs": [
    {
     "name": "stdout",
     "output_type": "stream",
     "text": [
      "11\n",
      "12\n",
      "13\n",
      "14\n",
      "16\n",
      "17\n",
      "18\n",
      "19\n",
      "20\n"
     ]
    }
   ],
   "source": [
    "i=10\n",
    "while i<20:\n",
    "    i+=1\n",
    "    if(i==15):\n",
    "        continue\n",
    "    print(i)"
   ]
  },
  {
   "cell_type": "code",
   "execution_count": 55,
   "id": "0914f13c",
   "metadata": {},
   "outputs": [
    {
     "name": "stdout",
     "output_type": "stream",
     "text": [
      "12\n",
      "13\n",
      "14\n",
      "15\n",
      "16\n",
      "17\n",
      "18\n",
      "20\n",
      "21\n",
      "22\n",
      "23\n",
      "24\n",
      "25\n",
      "26\n",
      "27\n",
      "28\n",
      "29\n",
      "30\n",
      "31\n",
      "32\n",
      "33\n",
      "11 is not grether than 33\n"
     ]
    }
   ],
   "source": [
    "i=11\n",
    "while i<33:\n",
    "    i+=1\n",
    "    if(i==19):\n",
    "        continue\n",
    "    print(i)\n",
    "else:\n",
    "    print(\"11 is not grether than 33\")"
   ]
  },
  {
   "cell_type": "code",
   "execution_count": 56,
   "id": "8d24eeb2",
   "metadata": {},
   "outputs": [
    {
     "name": "stdout",
     "output_type": "stream",
     "text": [
      "A\n",
      "b\n",
      "h\n",
      "i\n",
      "s\n",
      "h\n",
      "e\n",
      "k\n"
     ]
    }
   ],
   "source": [
    "stuff=\"Abhishek\"\n",
    "for i in stuff:\n",
    "    print(i)"
   ]
  },
  {
   "cell_type": "code",
   "execution_count": 57,
   "id": "e75b1b66",
   "metadata": {},
   "outputs": [],
   "source": [
    "fruits=[\"Apple\",\"Banana\",\"Pineple\",\"chery\",\"mango\"]"
   ]
  },
  {
   "cell_type": "code",
   "execution_count": 58,
   "id": "c8dd50e5",
   "metadata": {},
   "outputs": [
    {
     "name": "stdout",
     "output_type": "stream",
     "text": [
      "Apple\n",
      "Banana\n",
      "Pineple\n",
      "chery\n",
      "mango\n"
     ]
    }
   ],
   "source": [
    "for i in fruits:\n",
    "    print(i)"
   ]
  },
  {
   "cell_type": "code",
   "execution_count": 59,
   "id": "8d4522e9",
   "metadata": {},
   "outputs": [
    {
     "name": "stdout",
     "output_type": "stream",
     "text": [
      "Apple\n",
      "Banana\n",
      "Pineple\n"
     ]
    }
   ],
   "source": [
    "for i in fruits:\n",
    "    if (i==\"chery\"):\n",
    "        break\n",
    "    print(i)"
   ]
  },
  {
   "cell_type": "code",
   "execution_count": 60,
   "id": "4b9f7dab",
   "metadata": {},
   "outputs": [
    {
     "name": "stdout",
     "output_type": "stream",
     "text": [
      "Apple\n",
      "Banana\n",
      "Pineple\n",
      "mango\n"
     ]
    }
   ],
   "source": [
    "for i in fruits:\n",
    "    if(i==\"chery\"):\n",
    "        continue\n",
    "    print(i)"
   ]
  },
  {
   "cell_type": "code",
   "execution_count": 61,
   "id": "a1076c0a",
   "metadata": {},
   "outputs": [
    {
     "name": "stdout",
     "output_type": "stream",
     "text": [
      "Abhishek pavan\n",
      "Abhishek rohit\n",
      "Abhishek anan\n",
      "Abhishek neru\n",
      "Abhishek baba\n",
      "shanker pavan\n",
      "shanker rohit\n",
      "shanker anan\n",
      "shanker neru\n",
      "shanker baba\n",
      "aniket pavan\n",
      "aniket rohit\n",
      "aniket anan\n",
      "aniket neru\n",
      "aniket baba\n",
      "anirudhh pavan\n",
      "anirudhh rohit\n",
      "anirudhh anan\n",
      "anirudhh neru\n",
      "anirudhh baba\n",
      "rutik pavan\n",
      "rutik rohit\n",
      "rutik anan\n",
      "rutik neru\n",
      "rutik baba\n"
     ]
    }
   ],
   "source": [
    "gruup1=[\"Abhishek\",\"shanker\",\"aniket\",\"anirudhh\",\"rutik\"]\n",
    "group2=[\"pavan\",\"rohit\",\"anan\",\"neru\",\"baba\"]\n",
    "for x in gruup1:\n",
    "    for r in group2:\n",
    "        print(x,r)"
   ]
  },
  {
   "cell_type": "code",
   "execution_count": 62,
   "id": "8f4e2f87",
   "metadata": {},
   "outputs": [
    {
     "data": {
      "text/plain": [
       "['Abhishek',\n",
       " 'shanker',\n",
       " 'aniket',\n",
       " 'anirudhh',\n",
       " 'rutik',\n",
       " 'pavan',\n",
       " 'rohit',\n",
       " 'anan',\n",
       " 'neru',\n",
       " 'baba']"
      ]
     },
     "execution_count": 62,
     "metadata": {},
     "output_type": "execute_result"
    }
   ],
   "source": [
    "x=gruup1+group2\n",
    "x"
   ]
  },
  {
   "cell_type": "code",
   "execution_count": 63,
   "id": "776828a0",
   "metadata": {},
   "outputs": [
    {
     "name": "stdout",
     "output_type": "stream",
     "text": [
      "A\n",
      "B\n",
      "H\n",
      "I\n",
      "S\n",
      "H\n",
      "E\n",
      "K\n",
      " \n",
      "D\n",
      "I\n",
      "G\n",
      "H\n",
      "U\n",
      "L\n",
      "E\n"
     ]
    }
   ],
   "source": [
    "for i in \"ABHISHEK DIGHULE\":\n",
    "    print(i)"
   ]
  },
  {
   "cell_type": "code",
   "execution_count": 64,
   "id": "5ed57d86",
   "metadata": {},
   "outputs": [
    {
     "name": "stdout",
     "output_type": "stream",
     "text": [
      "Aurangabed\n",
      "Hydrabad\n",
      "banglore\n",
      "chanai\n",
      "mumbai\n"
     ]
    }
   ],
   "source": [
    "city=[\"Aurangabed\",\"Hydrabad\",\"banglore\",\"chanai\",\"mumbai\"]\n",
    "for i in city:\n",
    "    print(i)"
   ]
  },
  {
   "cell_type": "code",
   "execution_count": 65,
   "id": "581a5d6e",
   "metadata": {},
   "outputs": [
    {
     "name": "stdout",
     "output_type": "stream",
     "text": [
      "Aurangabed\n",
      "chanai\n",
      "mumbai\n",
      "finally rechead\n"
     ]
    }
   ],
   "source": [
    "for i in city:\n",
    "    if(i==\"Hydrabad\"):\n",
    "        continue\n",
    "    if (i==\"banglore\"):\n",
    "        continue\n",
    "    print(i)\n",
    "else:\n",
    "    print(\"finally rechead\")"
   ]
  },
  {
   "cell_type": "code",
   "execution_count": 66,
   "id": "b040fa16",
   "metadata": {},
   "outputs": [
    {
     "name": "stdout",
     "output_type": "stream",
     "text": [
      "Aurangabed\n",
      "Hydrabad\n",
      "banglore\n",
      "chanai\n"
     ]
    }
   ],
   "source": [
    "for i in city:\n",
    "    if(i==\"mumbai\"):\n",
    "        break\n",
    "    print(i)"
   ]
  },
  {
   "cell_type": "code",
   "execution_count": 67,
   "id": "e44d756a",
   "metadata": {},
   "outputs": [
    {
     "name": "stdout",
     "output_type": "stream",
     "text": [
      "1\n",
      "3\n",
      "5\n",
      "7\n",
      "9\n"
     ]
    }
   ],
   "source": [
    "for i in range(1,10,2):\n",
    "    print(i)"
   ]
  },
  {
   "cell_type": "code",
   "execution_count": 68,
   "id": "9c6408fc",
   "metadata": {},
   "outputs": [
    {
     "name": "stdout",
     "output_type": "stream",
     "text": [
      "0\n",
      "1\n",
      "2\n",
      "3\n",
      "4\n",
      "5\n",
      "6\n",
      "7\n",
      "8\n",
      "9\n"
     ]
    }
   ],
   "source": [
    "for i in range(10):\n",
    "    print(i)"
   ]
  },
  {
   "cell_type": "code",
   "execution_count": 69,
   "id": "b7f58b41",
   "metadata": {},
   "outputs": [
    {
     "name": "stdout",
     "output_type": "stream",
     "text": [
      "['False', 'None', 'True', 'and', 'as', 'assert', 'async', 'await', 'break', 'class', 'continue', 'def', 'del', 'elif', 'else', 'except', 'finally', 'for', 'from', 'global', 'if', 'import', 'in', 'is', 'lambda', 'nonlocal', 'not', 'or', 'pass', 'raise', 'return', 'try', 'while', 'with', 'yield']\n"
     ]
    }
   ],
   "source": [
    "import keyword\n",
    "print(keyword.kwlist)"
   ]
  },
  {
   "cell_type": "code",
   "execution_count": 70,
   "id": "9b65a3c7",
   "metadata": {},
   "outputs": [
    {
     "name": "stdout",
     "output_type": "stream",
     "text": [
      "<class 'str'>\n",
      "<class 'int'>\n",
      "<class 'bool'>\n"
     ]
    },
    {
     "data": {
      "text/plain": [
       "8"
      ]
     },
     "execution_count": 70,
     "metadata": {},
     "output_type": "execute_result"
    }
   ],
   "source": [
    "s=\"abhishek\"\n",
    "a=2\n",
    "a1=True\n",
    "print(type(s))\n",
    "print(type(a))\n",
    "print(type(a1))\n",
    "len(s)"
   ]
  },
  {
   "cell_type": "code",
   "execution_count": 71,
   "id": "66f1529c",
   "metadata": {},
   "outputs": [
    {
     "name": "stdout",
     "output_type": "stream",
     "text": [
      "abhisjelk\n",
      "suredh\n",
      "d\n"
     ]
    }
   ],
   "source": [
    "a,v,s=\"abhisjelk\",\"suredh\",'d'\n",
    "print(a)\n",
    "print(v)\n",
    "print(s)"
   ]
  },
  {
   "cell_type": "code",
   "execution_count": 72,
   "id": "80b01e81",
   "metadata": {},
   "outputs": [
    {
     "data": {
      "text/plain": [
       "'isjelk'"
      ]
     },
     "execution_count": 72,
     "metadata": {},
     "output_type": "execute_result"
    }
   ],
   "source": [
    "a[3:]"
   ]
  },
  {
   "cell_type": "code",
   "execution_count": 73,
   "id": "cee7b2ee",
   "metadata": {},
   "outputs": [
    {
     "name": "stdout",
     "output_type": "stream",
     "text": [
      "my mobile name is noika\n",
      "<class 'str'>\n",
      "23\n"
     ]
    }
   ],
   "source": [
    "a=\"my mobile name is noika\"\n",
    "print(a)\n",
    "print(type(a))\n",
    "print(len(a))"
   ]
  },
  {
   "cell_type": "code",
   "execution_count": 74,
   "id": "6d09d442",
   "metadata": {},
   "outputs": [
    {
     "data": {
      "text/plain": [
       "'my mobile name is samsung'"
      ]
     },
     "execution_count": 74,
     "metadata": {},
     "output_type": "execute_result"
    }
   ],
   "source": [
    "a.replace(\"noika\",\"samsung\")"
   ]
  },
  {
   "cell_type": "code",
   "execution_count": 75,
   "id": "8326d3cf",
   "metadata": {},
   "outputs": [
    {
     "name": "stdout",
     "output_type": "stream",
     "text": [
      "0\n"
     ]
    }
   ],
   "source": [
    "a=a.count(\"ss\")\n",
    "print(a)"
   ]
  },
  {
   "cell_type": "code",
   "execution_count": 76,
   "id": "ae900aa8",
   "metadata": {},
   "outputs": [],
   "source": [
    "s=\"my name is abhishek\""
   ]
  },
  {
   "cell_type": "code",
   "execution_count": 77,
   "id": "161b4be8",
   "metadata": {},
   "outputs": [
    {
     "data": {
      "text/plain": [
       "('my name is ', 'abhishek', '')"
      ]
     },
     "execution_count": 77,
     "metadata": {},
     "output_type": "execute_result"
    }
   ],
   "source": [
    "s.partition(\"abhishek\")"
   ]
  },
  {
   "cell_type": "code",
   "execution_count": 78,
   "id": "38936bc5",
   "metadata": {},
   "outputs": [
    {
     "data": {
      "text/plain": [
       "['my', 'name', 'is', 'abhishek']"
      ]
     },
     "execution_count": 78,
     "metadata": {},
     "output_type": "execute_result"
    }
   ],
   "source": [
    "s.split()"
   ]
  },
  {
   "cell_type": "code",
   "execution_count": 79,
   "id": "2a3f6f18",
   "metadata": {},
   "outputs": [
    {
     "data": {
      "text/plain": [
       "'my name is abhishek'"
      ]
     },
     "execution_count": 79,
     "metadata": {},
     "output_type": "execute_result"
    }
   ],
   "source": [
    "s.strip()\n",
    "s.lstrip()\n",
    "s.rstrip()"
   ]
  },
  {
   "cell_type": "code",
   "execution_count": 80,
   "id": "84219a7d",
   "metadata": {},
   "outputs": [
    {
     "data": {
      "text/plain": [
       "True"
      ]
     },
     "execution_count": 80,
     "metadata": {},
     "output_type": "execute_result"
    }
   ],
   "source": [
    "\"abhishek\" in s"
   ]
  },
  {
   "cell_type": "code",
   "execution_count": 81,
   "id": "0123ae67",
   "metadata": {},
   "outputs": [
    {
     "data": {
      "text/plain": [
       "'MY NAME IS ABHISHEK'"
      ]
     },
     "execution_count": 81,
     "metadata": {},
     "output_type": "execute_result"
    }
   ],
   "source": [
    "s.upper()"
   ]
  },
  {
   "cell_type": "code",
   "execution_count": 82,
   "id": "ae49d50d",
   "metadata": {},
   "outputs": [
    {
     "data": {
      "text/plain": [
       "'my name is abhishek'"
      ]
     },
     "execution_count": 82,
     "metadata": {},
     "output_type": "execute_result"
    }
   ],
   "source": [
    "s.lower()"
   ]
  },
  {
   "cell_type": "code",
   "execution_count": 83,
   "id": "16035e31",
   "metadata": {},
   "outputs": [
    {
     "data": {
      "text/plain": [
       "False"
      ]
     },
     "execution_count": 83,
     "metadata": {},
     "output_type": "execute_result"
    }
   ],
   "source": [
    "s.startswith(\"a\")"
   ]
  },
  {
   "cell_type": "code",
   "execution_count": 84,
   "id": "da029af6",
   "metadata": {},
   "outputs": [
    {
     "data": {
      "text/plain": [
       "True"
      ]
     },
     "execution_count": 84,
     "metadata": {},
     "output_type": "execute_result"
    }
   ],
   "source": [
    "s.startswith(\"my\")"
   ]
  },
  {
   "cell_type": "code",
   "execution_count": 85,
   "id": "252113ca",
   "metadata": {},
   "outputs": [
    {
     "data": {
      "text/plain": [
       "True"
      ]
     },
     "execution_count": 85,
     "metadata": {},
     "output_type": "execute_result"
    }
   ],
   "source": [
    "s.endswith(\"ek\")"
   ]
  },
  {
   "cell_type": "code",
   "execution_count": 86,
   "id": "c8e937a9",
   "metadata": {},
   "outputs": [
    {
     "name": "stdout",
     "output_type": "stream",
     "text": [
      "Age:44\n"
     ]
    }
   ],
   "source": [
    "s=int(input(\"Age:\"))"
   ]
  },
  {
   "cell_type": "code",
   "execution_count": 87,
   "id": "fb6dcee9",
   "metadata": {},
   "outputs": [
    {
     "name": "stdout",
     "output_type": "stream",
     "text": [
      "False\n"
     ]
    }
   ],
   "source": [
    "a= 10<11 and 10>22\n",
    "print(a)"
   ]
  },
  {
   "cell_type": "code",
   "execution_count": 88,
   "id": "d781ed1c",
   "metadata": {},
   "outputs": [
    {
     "name": "stdout",
     "output_type": "stream",
     "text": [
      "True\n"
     ]
    }
   ],
   "source": [
    "a=10>9 and 11<=11\n",
    "print(a)"
   ]
  },
  {
   "cell_type": "code",
   "execution_count": 89,
   "id": "0c9740e7",
   "metadata": {},
   "outputs": [
    {
     "name": "stdout",
     "output_type": "stream",
     "text": [
      "True\n"
     ]
    }
   ],
   "source": [
    "a= 10<11 or 10>22\n",
    "print(a)"
   ]
  },
  {
   "cell_type": "code",
   "execution_count": 90,
   "id": "4e8d3eb0",
   "metadata": {},
   "outputs": [
    {
     "name": "stdout",
     "output_type": "stream",
     "text": [
      "False\n"
     ]
    }
   ],
   "source": [
    "a= not(10<11 or 10>22)\n",
    "print(a)"
   ]
  },
  {
   "cell_type": "code",
   "execution_count": 91,
   "id": "f096fd0e",
   "metadata": {},
   "outputs": [
    {
     "name": "stdout",
     "output_type": "stream",
     "text": [
      "2024-01-31 19:02:07.545910\n",
      "2024\n",
      "31\n",
      "1\n",
      "Wednesday\n"
     ]
    }
   ],
   "source": [
    "import datetime\n",
    "x=datetime.datetime.now()\n",
    "print(x)\n",
    "print(x.year)\n",
    "print(x.day)\n",
    "print(x.month)\n",
    "print(x.strftime(\"%A\"))"
   ]
  },
  {
   "cell_type": "code",
   "execution_count": 92,
   "id": "cc7d420d",
   "metadata": {},
   "outputs": [
    {
     "name": "stdout",
     "output_type": "stream",
     "text": [
      "a is lessthen b\n"
     ]
    }
   ],
   "source": [
    "a=10\n",
    "b=13\n",
    "if a<b:\n",
    "    print(\"a is lessthen b\")"
   ]
  },
  {
   "cell_type": "code",
   "execution_count": 93,
   "id": "2cc8f738",
   "metadata": {},
   "outputs": [
    {
     "name": "stdout",
     "output_type": "stream",
     "text": [
      "wrong number\n"
     ]
    }
   ],
   "source": [
    "a=4\n",
    "b=9\n",
    "if a>b:\n",
    "    print(\"a is gretherthen b\")\n",
    "else:\n",
    "    print(\"wrong number\")"
   ]
  },
  {
   "cell_type": "code",
   "execution_count": 94,
   "id": "3e6fcc14",
   "metadata": {},
   "outputs": [
    {
     "name": "stdout",
     "output_type": "stream",
     "text": [
      "aaa\n"
     ]
    }
   ],
   "source": [
    "a=20\n",
    "b=12\n",
    "if a<b and a>b:\n",
    "    print(\"hard\")\n",
    "else:\n",
    "    print(\"aaa\")"
   ]
  },
  {
   "cell_type": "code",
   "execution_count": 95,
   "id": "e586ea56",
   "metadata": {},
   "outputs": [
    {
     "name": "stdout",
     "output_type": "stream",
     "text": [
      "hard\n"
     ]
    }
   ],
   "source": [
    "a=20\n",
    "b=12\n",
    "if a<b or a>b:\n",
    "    print(\"hard\")\n",
    "else:\n",
    "    print(\"aaa\")"
   ]
  },
  {
   "cell_type": "code",
   "execution_count": 96,
   "id": "740b17eb",
   "metadata": {},
   "outputs": [
    {
     "name": "stdout",
     "output_type": "stream",
     "text": [
      "hard\n"
     ]
    }
   ],
   "source": [
    "a=20\n",
    "b=12\n",
    "if not(a<b and a>b):\n",
    "    print(\"hard\")\n",
    "else:\n",
    "    print(\"aaa\")"
   ]
  },
  {
   "cell_type": "code",
   "execution_count": 97,
   "id": "2899f9a5",
   "metadata": {},
   "outputs": [
    {
     "name": "stdout",
     "output_type": "stream",
     "text": [
      "11\n",
      "12\n",
      "13\n"
     ]
    }
   ],
   "source": [
    "a=10\n",
    "while a<19:\n",
    "    if(a==13):\n",
    "        break\n",
    "    a+=1\n",
    "    print(a)\n",
    "else:\n",
    "    print(\"abhishek\")"
   ]
  },
  {
   "cell_type": "code",
   "execution_count": 98,
   "id": "9b5e715f",
   "metadata": {},
   "outputs": [
    {
     "name": "stdout",
     "output_type": "stream",
     "text": [
      "Aurangabed\n",
      "Hydrabad\n",
      "banglore\n",
      "chanai\n",
      "mumbai\n"
     ]
    }
   ],
   "source": [
    "for i in city:\n",
    "    print(i)"
   ]
  },
  {
   "cell_type": "code",
   "execution_count": 99,
   "id": "e62f1da3",
   "metadata": {},
   "outputs": [
    {
     "name": "stdout",
     "output_type": "stream",
     "text": [
      "Aurangabed\n",
      "Hydrabad\n",
      "banglore\n"
     ]
    }
   ],
   "source": [
    "for i in city:\n",
    "    if (i==\"chanai\"):\n",
    "        break\n",
    "    print(i)"
   ]
  },
  {
   "cell_type": "code",
   "execution_count": 100,
   "id": "437826a2",
   "metadata": {},
   "outputs": [
    {
     "name": "stdout",
     "output_type": "stream",
     "text": [
      "Aurangabed\n",
      "Hydrabad\n",
      "banglore\n",
      "mumbai\n"
     ]
    }
   ],
   "source": [
    "for i in city:\n",
    "    if (i==\"chanai\"):\n",
    "        continue\n",
    "    print(i)"
   ]
  },
  {
   "cell_type": "code",
   "execution_count": 101,
   "id": "bb597d1f",
   "metadata": {},
   "outputs": [
    {
     "name": "stdout",
     "output_type": "stream",
     "text": [
      "Abhishek pavan\n",
      "Abhishek rohit\n",
      "Abhishek anan\n",
      "Abhishek neru\n",
      "Abhishek baba\n",
      "shanker pavan\n",
      "shanker rohit\n",
      "shanker anan\n",
      "shanker neru\n",
      "shanker baba\n",
      "aniket pavan\n",
      "aniket rohit\n",
      "aniket anan\n",
      "aniket neru\n",
      "aniket baba\n",
      "anirudhh pavan\n",
      "anirudhh rohit\n",
      "anirudhh anan\n",
      "anirudhh neru\n",
      "anirudhh baba\n",
      "rutik pavan\n",
      "rutik rohit\n",
      "rutik anan\n",
      "rutik neru\n",
      "rutik baba\n"
     ]
    }
   ],
   "source": [
    "for i in gruup1:\n",
    "    for x in group2:\n",
    "        print(i,x)"
   ]
  },
  {
   "cell_type": "code",
   "execution_count": 102,
   "id": "a0b4e8e5",
   "metadata": {},
   "outputs": [
    {
     "data": {
      "text/plain": [
       "True"
      ]
     },
     "execution_count": 102,
     "metadata": {},
     "output_type": "execute_result"
    }
   ],
   "source": [
    "\"pavan\" in group2"
   ]
  },
  {
   "cell_type": "code",
   "execution_count": 103,
   "id": "6fc97182",
   "metadata": {},
   "outputs": [
    {
     "name": "stdout",
     "output_type": "stream",
     "text": [
      "0\n",
      "1\n",
      "2\n",
      "3\n",
      "4\n",
      "5\n",
      "6\n",
      "7\n",
      "8\n",
      "9\n"
     ]
    }
   ],
   "source": [
    "for i in range(10):\n",
    "    print(i)"
   ]
  },
  {
   "cell_type": "markdown",
   "id": "31be21d7",
   "metadata": {},
   "source": [
    "# LIST"
   ]
  },
  {
   "cell_type": "code",
   "execution_count": 104,
   "id": "c381d5cf",
   "metadata": {},
   "outputs": [
    {
     "name": "stdout",
     "output_type": "stream",
     "text": [
      "['Abhishek', 'Shnaker', 'Abhishek', 'Anirudh', 'Aniket', 'hardhal']\n",
      "<class 'list'>\n",
      "6\n",
      "<class 'list'>\n",
      "2\n"
     ]
    }
   ],
   "source": [
    "thelist=[\"Abhishek\",\"Shnaker\",\"Abhishek\",\"Anirudh\",\"Aniket\",\"hardhal\"]#chnageble #duplictes allowed #order\n",
    "l=list((\"mama\",\"kaka\"))\n",
    "print(thelist)\n",
    "print(type(thelist))\n",
    "print(len(thelist))\n",
    "print(type(l))\n",
    "print(len(l))"
   ]
  },
  {
   "cell_type": "code",
   "execution_count": 105,
   "id": "ca68228c",
   "metadata": {},
   "outputs": [
    {
     "data": {
      "text/plain": [
       "2"
      ]
     },
     "execution_count": 105,
     "metadata": {},
     "output_type": "execute_result"
    }
   ],
   "source": [
    "thelist.count(\"Abhishek\")"
   ]
  },
  {
   "cell_type": "code",
   "execution_count": 106,
   "id": "b00467dd",
   "metadata": {},
   "outputs": [
    {
     "data": {
      "text/plain": [
       "3"
      ]
     },
     "execution_count": 106,
     "metadata": {},
     "output_type": "execute_result"
    }
   ],
   "source": [
    "thelist.index(\"Anirudh\")"
   ]
  },
  {
   "cell_type": "code",
   "execution_count": 107,
   "id": "02e4c44f",
   "metadata": {},
   "outputs": [
    {
     "data": {
      "text/plain": [
       "['Shnaker', 'Abhishek']"
      ]
     },
     "execution_count": 107,
     "metadata": {},
     "output_type": "execute_result"
    }
   ],
   "source": [
    "#indexing\n",
    "thelist[1]\n",
    "thelist[-3]\n",
    "thelist[::-1]\n",
    "thelist[::2]\n",
    "thelist[1:3]"
   ]
  },
  {
   "cell_type": "code",
   "execution_count": 108,
   "id": "eb39b8d4",
   "metadata": {},
   "outputs": [
    {
     "name": "stdout",
     "output_type": "stream",
     "text": [
      "['ABHISHEK', 'SHANKER', 'ANIRUDH', 'ANIKET', 'HARSHAL', 'MONOJ', 'SURESH', 'hardhal']\n"
     ]
    }
   ],
   "source": [
    "thelist[1]=\"SHANKER\"\n",
    "thelist[0]=\"ABHISHEK\"\n",
    "thelist[2]=\"ANIRUDH\"\n",
    "thelist[3]=\"ANIKET\"\n",
    "\n",
    "thelist[4:5]=[\"HARSHAL\",\"MONOJ\"]\n",
    "thelist.insert(6,\"SURESH\")\n",
    "print(thelist)"
   ]
  },
  {
   "cell_type": "code",
   "execution_count": 109,
   "id": "fabf6416",
   "metadata": {},
   "outputs": [
    {
     "data": {
      "text/plain": [
       "True"
      ]
     },
     "execution_count": 109,
     "metadata": {},
     "output_type": "execute_result"
    }
   ],
   "source": [
    "\"ABHISHEK\" in thelist"
   ]
  },
  {
   "cell_type": "code",
   "execution_count": 110,
   "id": "ccd1634e",
   "metadata": {},
   "outputs": [
    {
     "name": "stdout",
     "output_type": "stream",
     "text": [
      "WOW\n"
     ]
    }
   ],
   "source": [
    "if \"ABHISHEK\" in thelist:\n",
    "    print(\"WOW\")\n",
    "else:\n",
    "    print(\"Bad\")"
   ]
  },
  {
   "cell_type": "code",
   "execution_count": 111,
   "id": "8f2b909c",
   "metadata": {},
   "outputs": [],
   "source": [
    "thelist.append(\"gajanan\")"
   ]
  },
  {
   "cell_type": "code",
   "execution_count": 112,
   "id": "a96eedb7",
   "metadata": {},
   "outputs": [
    {
     "data": {
      "text/plain": [
       "['ABHISHEK',\n",
       " 'SHANKER',\n",
       " 'ANIRUDH',\n",
       " 'ANIKET',\n",
       " 'HARSHAL',\n",
       " 'MONOJ',\n",
       " 'SURESH',\n",
       " 'hardhal',\n",
       " 'gajanan']"
      ]
     },
     "execution_count": 112,
     "metadata": {},
     "output_type": "execute_result"
    }
   ],
   "source": [
    "thelist"
   ]
  },
  {
   "cell_type": "code",
   "execution_count": 113,
   "id": "bd938ef2",
   "metadata": {},
   "outputs": [],
   "source": [
    "thelist.remove(\"gajanan\")"
   ]
  },
  {
   "cell_type": "code",
   "execution_count": 114,
   "id": "5193dcba",
   "metadata": {},
   "outputs": [
    {
     "data": {
      "text/plain": [
       "'HARSHAL'"
      ]
     },
     "execution_count": 114,
     "metadata": {},
     "output_type": "execute_result"
    }
   ],
   "source": [
    "thelist.pop(4)"
   ]
  },
  {
   "cell_type": "code",
   "execution_count": 115,
   "id": "d16a87ae",
   "metadata": {},
   "outputs": [
    {
     "data": {
      "text/plain": [
       "['ABHISHEK', 'SHANKER', 'ANIRUDH', 'ANIKET', 'MONOJ', 'SURESH', 'hardhal']"
      ]
     },
     "execution_count": 115,
     "metadata": {},
     "output_type": "execute_result"
    }
   ],
   "source": [
    "thelist"
   ]
  },
  {
   "cell_type": "code",
   "execution_count": 116,
   "id": "616bfd6f",
   "metadata": {},
   "outputs": [],
   "source": [
    "del thelist[3]"
   ]
  },
  {
   "cell_type": "code",
   "execution_count": 117,
   "id": "9ff8d5c6",
   "metadata": {},
   "outputs": [],
   "source": [
    "thelist.clear()"
   ]
  },
  {
   "cell_type": "code",
   "execution_count": 118,
   "id": "d2414257",
   "metadata": {},
   "outputs": [
    {
     "data": {
      "text/plain": [
       "[]"
      ]
     },
     "execution_count": 118,
     "metadata": {},
     "output_type": "execute_result"
    }
   ],
   "source": [
    "thelist"
   ]
  },
  {
   "cell_type": "code",
   "execution_count": 119,
   "id": "37973c06",
   "metadata": {},
   "outputs": [],
   "source": [
    "Name=[\"ROHIT\",\"SHNAKER\",\"ANIRUDH\",\"ABHISHEK\",\"ANIKET\"]\n",
    "laptop=[\"HP\",\"ASUS\",\"NO\",\"ASUS\",\"NO\"]"
   ]
  },
  {
   "cell_type": "code",
   "execution_count": 120,
   "id": "1296378d",
   "metadata": {
    "scrolled": true
   },
   "outputs": [
    {
     "data": {
      "text/plain": [
       "['ROHIT',\n",
       " 'SHNAKER',\n",
       " 'ANIRUDH',\n",
       " 'ABHISHEK',\n",
       " 'ANIKET',\n",
       " 'HP',\n",
       " 'ASUS',\n",
       " 'NO',\n",
       " 'ASUS',\n",
       " 'NO']"
      ]
     },
     "execution_count": 120,
     "metadata": {},
     "output_type": "execute_result"
    }
   ],
   "source": [
    "Name.extend(laptop)\n",
    "Name"
   ]
  },
  {
   "cell_type": "code",
   "execution_count": 121,
   "id": "3aacfbcd",
   "metadata": {},
   "outputs": [
    {
     "data": {
      "text/plain": [
       "['ROHIT',\n",
       " 'SHNAKER',\n",
       " 'ANIRUDH',\n",
       " 'ABHISHEK',\n",
       " 'ANIKET',\n",
       " 'HP',\n",
       " 'ASUS',\n",
       " 'NO',\n",
       " 'ASUS',\n",
       " 'NO',\n",
       " 'HP',\n",
       " 'ASUS',\n",
       " 'NO',\n",
       " 'ASUS',\n",
       " 'NO']"
      ]
     },
     "execution_count": 121,
     "metadata": {},
     "output_type": "execute_result"
    }
   ],
   "source": [
    "info= Name+laptop\n",
    "info"
   ]
  },
  {
   "cell_type": "code",
   "execution_count": 122,
   "id": "a12b44b4",
   "metadata": {},
   "outputs": [
    {
     "name": "stdout",
     "output_type": "stream",
     "text": [
      "ROHIT\n",
      "SHNAKER\n",
      "ANIRUDH\n",
      "ABHISHEK\n",
      "ANIKET\n",
      "HP\n",
      "ASUS\n",
      "NO\n",
      "ASUS\n",
      "NO\n"
     ]
    }
   ],
   "source": [
    "for i in Name:\n",
    "    print(i)"
   ]
  },
  {
   "cell_type": "code",
   "execution_count": 123,
   "id": "99c043a7",
   "metadata": {},
   "outputs": [
    {
     "name": "stdout",
     "output_type": "stream",
     "text": [
      "ROHIT\n",
      "SHNAKER\n",
      "ANIRUDH\n",
      "ABHISHEK\n",
      "ANIKET\n",
      "HP\n",
      "ASUS\n",
      "NO\n",
      "ASUS\n",
      "NO\n"
     ]
    }
   ],
   "source": [
    "for i in range(len(Name)):\n",
    "    print(Name[i])"
   ]
  },
  {
   "cell_type": "code",
   "execution_count": 124,
   "id": "659f09e7",
   "metadata": {},
   "outputs": [
    {
     "name": "stdout",
     "output_type": "stream",
     "text": [
      "ROHIT\n",
      "SHNAKER\n",
      "ANIRUDH\n",
      "ABHISHEK\n",
      "ANIKET\n",
      "HP\n",
      "ASUS\n",
      "NO\n",
      "ASUS\n",
      "NO\n"
     ]
    }
   ],
   "source": [
    "i=0\n",
    "while i<len(Name):\n",
    "    print(Name[i])\n",
    "    i+=1"
   ]
  },
  {
   "cell_type": "code",
   "execution_count": 125,
   "id": "1a4a7b26",
   "metadata": {},
   "outputs": [
    {
     "name": "stdout",
     "output_type": "stream",
     "text": [
      "ROHIT\n",
      "SHNAKER\n",
      "ANIRUDH\n",
      "ABHISHEK\n",
      "ANIKET\n",
      "HP\n",
      "ASUS\n",
      "NO\n",
      "ASUS\n",
      "NO\n"
     ]
    },
    {
     "data": {
      "text/plain": [
       "[None, None, None, None, None, None, None, None, None, None]"
      ]
     },
     "execution_count": 125,
     "metadata": {},
     "output_type": "execute_result"
    }
   ],
   "source": [
    "[print (i) for i in Name]"
   ]
  },
  {
   "cell_type": "code",
   "execution_count": 1,
   "id": "e527ab72",
   "metadata": {},
   "outputs": [
    {
     "name": "stdout",
     "output_type": "stream",
     "text": [
      "['Oppo', 'Vivo', 'Xiomi', 'Nokia', 'Motorola']\n"
     ]
    }
   ],
   "source": [
    "mobile=[\"Redmi\",\"Oppo\",\"Vivo\",\"Xiomi\",\"Sumsung\",\"Nokia\",\"Motorola\"]\n",
    "newlist=[]\n",
    "for i in mobile:\n",
    "    if \"o\" in i:\n",
    "        newlist.append(i)\n",
    "print(newlist)\n",
    "        "
   ]
  },
  {
   "cell_type": "code",
   "execution_count": 127,
   "id": "2048f5f7",
   "metadata": {},
   "outputs": [
    {
     "name": "stdout",
     "output_type": "stream",
     "text": [
      "['Nokia', 'Motorola']\n"
     ]
    }
   ],
   "source": [
    "nwelist=[]\n",
    "for i in mobile:\n",
    "    if \"a\" in i:\n",
    "        nwelist.append(i)\n",
    "print(nwelist)"
   ]
  },
  {
   "cell_type": "code",
   "execution_count": 128,
   "id": "1c62f891",
   "metadata": {},
   "outputs": [
    {
     "data": {
      "text/plain": [
       "['Nokia', 'Motorola']"
      ]
     },
     "execution_count": 128,
     "metadata": {},
     "output_type": "execute_result"
    }
   ],
   "source": [
    "[i for i in mobile if \"a\" in i]"
   ]
  },
  {
   "cell_type": "code",
   "execution_count": 129,
   "id": "09141bef",
   "metadata": {},
   "outputs": [
    {
     "data": {
      "text/plain": [
       "['REDMI', 'OPPO', 'VIVO', 'XIOMI', 'SUMSUNG', 'NOKIA', 'MOTOROLA']"
      ]
     },
     "execution_count": 129,
     "metadata": {},
     "output_type": "execute_result"
    }
   ],
   "source": [
    "[i.upper() for i in mobile ]"
   ]
  },
  {
   "cell_type": "code",
   "execution_count": 71,
   "id": "485dfe2c",
   "metadata": {},
   "outputs": [
    {
     "name": "stdout",
     "output_type": "stream",
     "text": [
      "['a', 'e', 'a', 'a', 'a', 'e', 'o', 'a', 'e', 'e', 'o']\n"
     ]
    }
   ],
   "source": [
    "words1 = [\"apple\", \"banana\", \"cherry\", \"orange\", \"lemon\"]#comprehention list\n",
    "vowels = \"aeiou\" # A string containing all the vowels\n",
    "vowels_from_words1 = [c for i in words1 for c in i if c in \"aeiou\"]\n",
    "print(vowels_from_words1)"
   ]
  },
  {
   "cell_type": "code",
   "execution_count": 72,
   "id": "627bacd2",
   "metadata": {},
   "outputs": [
    {
     "name": "stdout",
     "output_type": "stream",
     "text": [
      "['a', 'e', 'a', 'a', 'a', 'e', 'o', 'a', 'e', 'e', 'o']\n"
     ]
    }
   ],
   "source": [
    "words1 = [\"apple\", \"banana\", \"cherry\", \"orange\", \"lemon\"]\n",
    "vowels = \"aeiou\" # A string containing all the vowels\n",
    "vowels_from_words1 = [c for i in words1 for c in i if c in \"aeiou\"]\n",
    "print(vowels_from_words1)"
   ]
  },
  {
   "cell_type": "code",
   "execution_count": 130,
   "id": "f6cfd775",
   "metadata": {},
   "outputs": [
    {
     "data": {
      "text/plain": [
       "['Motorola', 'Nokia', 'Oppo', 'Redmi', 'Sumsung', 'Vivo', 'Xiomi']"
      ]
     },
     "execution_count": 130,
     "metadata": {},
     "output_type": "execute_result"
    }
   ],
   "source": [
    "mobile.sort()\n",
    "mobile"
   ]
  },
  {
   "cell_type": "code",
   "execution_count": 131,
   "id": "e431bdd8",
   "metadata": {},
   "outputs": [
    {
     "data": {
      "text/plain": [
       "['Xiomi', 'Vivo', 'Sumsung', 'Redmi', 'Oppo', 'Nokia', 'Motorola']"
      ]
     },
     "execution_count": 131,
     "metadata": {},
     "output_type": "execute_result"
    }
   ],
   "source": [
    "mobile.reverse()\n",
    "mobile"
   ]
  },
  {
   "cell_type": "code",
   "execution_count": 132,
   "id": "4ee2184a",
   "metadata": {},
   "outputs": [],
   "source": [
    "mobile.sort(key=str.lower)"
   ]
  },
  {
   "cell_type": "code",
   "execution_count": 133,
   "id": "50d2767d",
   "metadata": {
    "scrolled": true
   },
   "outputs": [
    {
     "data": {
      "text/plain": [
       "['Motorola', 'Nokia', 'Oppo', 'Redmi', 'Sumsung', 'Vivo', 'Xiomi']"
      ]
     },
     "execution_count": 133,
     "metadata": {},
     "output_type": "execute_result"
    }
   ],
   "source": [
    "mobile"
   ]
  },
  {
   "cell_type": "code",
   "execution_count": 134,
   "id": "12097a86",
   "metadata": {},
   "outputs": [
    {
     "data": {
      "text/plain": [
       "[2, 3, 3, 5, 5, 5, 7, 8, 9]"
      ]
     },
     "execution_count": 134,
     "metadata": {},
     "output_type": "execute_result"
    }
   ],
   "source": [
    "a=[2,5,3,9,5,7,8,3,5]\n",
    "a.sort()\n",
    "a"
   ]
  },
  {
   "cell_type": "code",
   "execution_count": 135,
   "id": "eafd6a5c",
   "metadata": {},
   "outputs": [
    {
     "data": {
      "text/plain": [
       "[9, 8, 7, 5, 5, 5, 3, 3, 2]"
      ]
     },
     "execution_count": 135,
     "metadata": {},
     "output_type": "execute_result"
    }
   ],
   "source": [
    "a.reverse()\n",
    "a"
   ]
  },
  {
   "cell_type": "markdown",
   "id": "907070e6",
   "metadata": {},
   "source": [
    "# Tuple"
   ]
  },
  {
   "cell_type": "code",
   "execution_count": 136,
   "id": "51877b0a",
   "metadata": {},
   "outputs": [
    {
     "name": "stdout",
     "output_type": "stream",
     "text": [
      "('abhishek', 'suresh', 'aniket', 'savita', 'vitthal', 'sadhana')\n",
      "('data', 'mama')\n",
      "<class 'tuple'>\n",
      "6\n"
     ]
    }
   ],
   "source": [
    "mylist=(\"abhishek\",\"suresh\",\"aniket\",\"savita\",\"vitthal\",\"sadhana\")\n",
    "print(mylist)\n",
    "o=tuple((\"data\",\"mama\"))\n",
    "print(o)\n",
    "print(type(mylist))\n",
    "print(len(mylist))"
   ]
  },
  {
   "cell_type": "code",
   "execution_count": 137,
   "id": "d097cb06",
   "metadata": {},
   "outputs": [
    {
     "data": {
      "text/plain": [
       "('aniket', 'savita', 'vitthal')"
      ]
     },
     "execution_count": 137,
     "metadata": {},
     "output_type": "execute_result"
    }
   ],
   "source": [
    "mylist[2]\n",
    "mylist[2:5]"
   ]
  },
  {
   "cell_type": "code",
   "execution_count": 138,
   "id": "d003ae6a",
   "metadata": {},
   "outputs": [
    {
     "data": {
      "text/plain": [
       "('abhishek',\n",
       " 'suresh',\n",
       " 'aniket',\n",
       " 'savita',\n",
       " 'vitthal',\n",
       " 'sadhana',\n",
       " 'damodhar',\n",
       " 'Yash')"
      ]
     },
     "execution_count": 138,
     "metadata": {},
     "output_type": "execute_result"
    }
   ],
   "source": [
    "k=list(mylist)\n",
    "k.append(\"damodhar\")\n",
    "mylist=tuple(k)\n",
    "mylist=list(mylist)\n",
    "mylist.append(\"Yash\")\n",
    "mylist=tuple(mylist)\n",
    "mylist"
   ]
  },
  {
   "cell_type": "code",
   "execution_count": 139,
   "id": "52c9eedf",
   "metadata": {},
   "outputs": [
    {
     "data": {
      "text/plain": [
       "('abhishek',\n",
       " 'DIGHULE',\n",
       " 'aniket',\n",
       " 'savita',\n",
       " 'vitthal',\n",
       " 'sadhana',\n",
       " 'damodhar',\n",
       " 'Yash')"
      ]
     },
     "execution_count": 139,
     "metadata": {},
     "output_type": "execute_result"
    }
   ],
   "source": [
    "mylist=list(mylist)\n",
    "mylist[1]=\"DIGHULE\"\n",
    "mylist=tuple(mylist)\n",
    "mylist"
   ]
  },
  {
   "cell_type": "code",
   "execution_count": 140,
   "id": "aadfa2df",
   "metadata": {},
   "outputs": [
    {
     "data": {
      "text/plain": [
       "True"
      ]
     },
     "execution_count": 140,
     "metadata": {},
     "output_type": "execute_result"
    }
   ],
   "source": [
    "\"DIGHULE\" in mylist"
   ]
  },
  {
   "cell_type": "code",
   "execution_count": 141,
   "id": "58430baa",
   "metadata": {},
   "outputs": [
    {
     "name": "stdout",
     "output_type": "stream",
     "text": [
      "It is true\n"
     ]
    }
   ],
   "source": [
    "if \"DIGHULE\" in mylist:\n",
    "    print(\"It is true\")\n",
    "else:\n",
    "    print(\"It is not true\")"
   ]
  },
  {
   "cell_type": "code",
   "execution_count": 142,
   "id": "a732007c",
   "metadata": {},
   "outputs": [
    {
     "data": {
      "text/plain": [
       "('abhishek', 'DIGHULE', 'aniket', 'savita', 'vitthal', 'sadhana', 'damodhar')"
      ]
     },
     "execution_count": 142,
     "metadata": {},
     "output_type": "execute_result"
    }
   ],
   "source": [
    "mylist=list(mylist)\n",
    "mylist.remove(\"Yash\")\n",
    "mylist=tuple(mylist)\n",
    "mylist"
   ]
  },
  {
   "cell_type": "code",
   "execution_count": 143,
   "id": "90a0dbfe",
   "metadata": {},
   "outputs": [
    {
     "data": {
      "text/plain": [
       "('abhishek', 'DIGHULE', 'aniket', 'savita', 'vitthal', 'sadhana', 'damodhar')"
      ]
     },
     "execution_count": 143,
     "metadata": {},
     "output_type": "execute_result"
    }
   ],
   "source": [
    "mylist=list(mylist)\n",
    "mylist.insert(1,\"AMIT\")\n",
    "mylist=tuple(mylist)\n",
    "mylist=list(mylist)\n",
    "mylist.pop(1)\n",
    "mylist=tuple(mylist)\n",
    "mylist\n"
   ]
  },
  {
   "cell_type": "code",
   "execution_count": 144,
   "id": "ec6a9161",
   "metadata": {},
   "outputs": [],
   "source": [
    "city=(\"Aurangabd\",\"Banglore\",\"chanai\",\"pune\",\"mumbai\")"
   ]
  },
  {
   "cell_type": "code",
   "execution_count": 145,
   "id": "347cfb79",
   "metadata": {},
   "outputs": [
    {
     "name": "stdout",
     "output_type": "stream",
     "text": [
      "aurangabd\n",
      "banglore\n",
      "chanai\n",
      "pune\n",
      "mumbai\n"
     ]
    }
   ],
   "source": [
    "for i in city:\n",
    "    print(i.lower())"
   ]
  },
  {
   "cell_type": "code",
   "execution_count": 146,
   "id": "33668ad9",
   "metadata": {},
   "outputs": [
    {
     "name": "stdout",
     "output_type": "stream",
     "text": [
      "0\n",
      "1\n",
      "2\n",
      "3\n",
      "4\n"
     ]
    }
   ],
   "source": [
    "i=0\n",
    "while i<len(city):\n",
    "    print(i)\n",
    "    i+=1"
   ]
  },
  {
   "cell_type": "code",
   "execution_count": 147,
   "id": "2f398590",
   "metadata": {},
   "outputs": [
    {
     "name": "stdout",
     "output_type": "stream",
     "text": [
      "abhishek\n",
      "DIGHULE\n",
      "aniket\n",
      "savita\n",
      "vitthal\n",
      "sadhana\n",
      "damodhar\n"
     ]
    }
   ],
   "source": [
    "for i in mylist:\n",
    "    print(i)"
   ]
  },
  {
   "cell_type": "code",
   "execution_count": 148,
   "id": "7c7174ad",
   "metadata": {},
   "outputs": [
    {
     "name": "stdout",
     "output_type": "stream",
     "text": [
      "Aurangabd\n",
      "Banglore\n",
      "chanai\n",
      "pune\n",
      "mumbai\n"
     ]
    }
   ],
   "source": [
    "for i in range(len(city)):\n",
    "    print(city[i])"
   ]
  },
  {
   "cell_type": "code",
   "execution_count": 149,
   "id": "c66d8219",
   "metadata": {},
   "outputs": [
    {
     "name": "stdout",
     "output_type": "stream",
     "text": [
      "['Aurangabd', 'Banglore', 'chanai', 'mumbai']\n",
      "('Aurangabd', 'Banglore', 'chanai', 'mumbai')\n"
     ]
    }
   ],
   "source": [
    "city=list(city)\n",
    "new=[]\n",
    "for i in city:\n",
    "    if \"a\" in i:\n",
    "        new.append(i)\n",
    "print(new)\n",
    "new=tuple(new)\n",
    "print(new)"
   ]
  },
  {
   "cell_type": "code",
   "execution_count": 150,
   "id": "82e3fde8",
   "metadata": {},
   "outputs": [
    {
     "name": "stdout",
     "output_type": "stream",
     "text": [
      "Aurangabd\n",
      "Banglore\n",
      "chanai\n",
      "mumbai\n"
     ]
    },
    {
     "data": {
      "text/plain": [
       "[None, None, None, None]"
      ]
     },
     "execution_count": 150,
     "metadata": {},
     "output_type": "execute_result"
    }
   ],
   "source": [
    "[print(i) for i in city if \"a\" in i]"
   ]
  },
  {
   "cell_type": "code",
   "execution_count": 151,
   "id": "62df0c48",
   "metadata": {},
   "outputs": [
    {
     "data": {
      "text/plain": [
       "['MUMBAI', 'MUMBAI', 'MUMBAI', 'MUMBAI', 'MUMBAI']"
      ]
     },
     "execution_count": 151,
     "metadata": {},
     "output_type": "execute_result"
    }
   ],
   "source": [
    "[i.upper() for x in city]"
   ]
  },
  {
   "cell_type": "code",
   "execution_count": 123,
   "id": "7701f9b2",
   "metadata": {},
   "outputs": [
    {
     "name": "stdout",
     "output_type": "stream",
     "text": [
      "[90, 63]\n"
     ]
    }
   ],
   "source": [
    "a=[4,12,35,36,90,44,63,28]\n",
    "maxwell = [x for x in a if x > 45] # Using list comprehension\n",
    "print(maxwell)"
   ]
  },
  {
   "cell_type": "code",
   "execution_count": 152,
   "id": "f721d816",
   "metadata": {},
   "outputs": [
    {
     "data": {
      "text/plain": [
       "['mumbai', 'mumbai', 'mumbai', 'mumbai', 'mumbai']"
      ]
     },
     "execution_count": 152,
     "metadata": {},
     "output_type": "execute_result"
    }
   ],
   "source": [
    "[i.lower() for x in city]"
   ]
  },
  {
   "cell_type": "code",
   "execution_count": 153,
   "id": "cb38cb1b",
   "metadata": {},
   "outputs": [
    {
     "data": {
      "text/plain": [
       "('DIGHULE', 'abhishek', 'aniket', 'damodhar', 'sadhana', 'savita', 'vitthal')"
      ]
     },
     "execution_count": 153,
     "metadata": {},
     "output_type": "execute_result"
    }
   ],
   "source": [
    "mylist=list(mylist)\n",
    "mylist.sort()\n",
    "mylist=tuple(mylist)\n",
    "mylist"
   ]
  },
  {
   "cell_type": "code",
   "execution_count": 154,
   "id": "a3a8a7cc",
   "metadata": {},
   "outputs": [
    {
     "data": {
      "text/plain": [
       "('vitthal', 'savita', 'sadhana', 'damodhar', 'aniket', 'abhishek', 'DIGHULE')"
      ]
     },
     "execution_count": 154,
     "metadata": {},
     "output_type": "execute_result"
    }
   ],
   "source": [
    "mylist=list(mylist)\n",
    "mylist.reverse()\n",
    "mylist=tuple(mylist)\n",
    "mylist"
   ]
  },
  {
   "cell_type": "code",
   "execution_count": 155,
   "id": "6da6987e",
   "metadata": {},
   "outputs": [
    {
     "data": {
      "text/plain": [
       "('abhishek', 'aniket', 'damodhar', 'DIGHULE', 'sadhana', 'savita', 'vitthal')"
      ]
     },
     "execution_count": 155,
     "metadata": {},
     "output_type": "execute_result"
    }
   ],
   "source": [
    "mylist=list(mylist)\n",
    "mylist.sort(key=str.lower)\n",
    "mylist=tuple(mylist)\n",
    "mylist"
   ]
  },
  {
   "cell_type": "code",
   "execution_count": 156,
   "id": "1c4c5a77",
   "metadata": {},
   "outputs": [
    {
     "data": {
      "text/plain": [
       "['ABHISHEK', 'ANIKET', 'DAMODHAR', 'DIGHULE', 'SADHANA', 'SAVITA', 'VITTHAL']"
      ]
     },
     "execution_count": 156,
     "metadata": {},
     "output_type": "execute_result"
    }
   ],
   "source": [
    "[i.upper() for i in mylist]"
   ]
  },
  {
   "cell_type": "code",
   "execution_count": 157,
   "id": "ea4426e2",
   "metadata": {},
   "outputs": [
    {
     "name": "stdout",
     "output_type": "stream",
     "text": [
      "['ABHISHEK', 'ANIKET', 'DAMODHAR', 'DIGHULE', 'SADHANA', 'SAVITA', 'VITTHAL']\n"
     ]
    }
   ],
   "source": [
    "capital=[]\n",
    "for i in mylist:\n",
    "    capital.append(i.upper())\n",
    "print(capital)"
   ]
  },
  {
   "cell_type": "code",
   "execution_count": 158,
   "id": "48bb9a97",
   "metadata": {},
   "outputs": [
    {
     "name": "stdout",
     "output_type": "stream",
     "text": [
      "<class 'tuple'>\n"
     ]
    }
   ],
   "source": [
    "typle1=(\"Mubai\",\"aurangabad\")\n",
    "tuple2=(\"pune\",\"bangolore\")\n",
    "print(type(typle1))"
   ]
  },
  {
   "cell_type": "code",
   "execution_count": 159,
   "id": "88aef030",
   "metadata": {},
   "outputs": [
    {
     "data": {
      "text/plain": [
       "('Mubai', 'aurangabad', 'pune', 'bangolore')"
      ]
     },
     "execution_count": 159,
     "metadata": {},
     "output_type": "execute_result"
    }
   ],
   "source": [
    "tuple3=typle1+tuple2\n",
    "tuple3"
   ]
  },
  {
   "cell_type": "code",
   "execution_count": 160,
   "id": "357839fc",
   "metadata": {},
   "outputs": [
    {
     "data": {
      "text/plain": [
       "()"
      ]
     },
     "execution_count": 160,
     "metadata": {},
     "output_type": "execute_result"
    }
   ],
   "source": [
    "typle1=list(typle1)\n",
    "typle1.clear()\n",
    "typle1=tuple(typle1)\n",
    "typle1"
   ]
  },
  {
   "cell_type": "code",
   "execution_count": 161,
   "id": "5cde46e9",
   "metadata": {},
   "outputs": [
    {
     "name": "stdout",
     "output_type": "stream",
     "text": [
      "('pune', 'bangolore')\n"
     ]
    }
   ],
   "source": [
    "r=list(typle1)\n",
    "g=list(tuple2)\n",
    "r.extend(g)\n",
    "typle1=tuple(r)\n",
    "tuple2=tuple(g)\n",
    "print(typle1)"
   ]
  },
  {
   "cell_type": "code",
   "execution_count": 162,
   "id": "30407f9d",
   "metadata": {},
   "outputs": [
    {
     "name": "stdout",
     "output_type": "stream",
     "text": [
      "('Hero Honda', 'Maruti', 'bajaj', 'activa')\n"
     ]
    }
   ],
   "source": [
    "mytuple1 = (\"Hero Honda\", \"Maruti\", \"spender\", \"bajaj\", \"activa\", \"vivPA\")\n",
    "newer=[]\n",
    "tata=list(mytuple1)\n",
    "for i in tata:\n",
    "    if \"a\" in i:\n",
    "        newer.append(i)\n",
    "        abhi=tuple(newer)\n",
    "print(abhi)"
   ]
  },
  {
   "cell_type": "code",
   "execution_count": 163,
   "id": "755f396c",
   "metadata": {},
   "outputs": [
    {
     "data": {
      "text/plain": [
       "['HERO HONDA', 'MARUTI', 'SPENDER', 'BAJAJ', 'ACTIVA', 'VIVPA']"
      ]
     },
     "execution_count": 163,
     "metadata": {},
     "output_type": "execute_result"
    }
   ],
   "source": [
    "[i.upper() for i in mytuple1 ]"
   ]
  },
  {
   "cell_type": "code",
   "execution_count": 164,
   "id": "12253b34",
   "metadata": {},
   "outputs": [
    {
     "data": {
      "text/plain": [
       "['hero honda', 'maruti', 'spender', 'bajaj', 'activa', 'vivpa']"
      ]
     },
     "execution_count": 164,
     "metadata": {},
     "output_type": "execute_result"
    }
   ],
   "source": [
    "[i.lower() for i in mytuple1 ]"
   ]
  },
  {
   "cell_type": "code",
   "execution_count": 165,
   "id": "3a1021f0",
   "metadata": {},
   "outputs": [
    {
     "name": "stdout",
     "output_type": "stream",
     "text": [
      "Hero Honda\n",
      "Maruti\n",
      "bajaj\n",
      "activa\n"
     ]
    },
    {
     "data": {
      "text/plain": [
       "[None, None, None, None]"
      ]
     },
     "execution_count": 165,
     "metadata": {},
     "output_type": "execute_result"
    }
   ],
   "source": [
    "[print(i) for i in mytuple1 if \"a\" in i ]"
   ]
  },
  {
   "cell_type": "markdown",
   "id": "08c08fa3",
   "metadata": {},
   "source": [
    "# set"
   ]
  },
  {
   "cell_type": "code",
   "execution_count": 166,
   "id": "2a4d33ee",
   "metadata": {},
   "outputs": [
    {
     "name": "stdout",
     "output_type": "stream",
     "text": [
      "<class 'set'>\n",
      "4\n"
     ]
    }
   ],
   "source": [
    "a={\"Abhishek\",\"rohit\",\"aniket\",\"baba\"}#Unorder #unchanble #duplicated not allowed\n",
    "print(type(a))\n",
    "print(len(a))"
   ]
  },
  {
   "cell_type": "code",
   "execution_count": 167,
   "id": "0aa60b2a",
   "metadata": {},
   "outputs": [
    {
     "data": {
      "text/plain": [
       "True"
      ]
     },
     "execution_count": 167,
     "metadata": {},
     "output_type": "execute_result"
    }
   ],
   "source": [
    "\"Abhishek\" in a"
   ]
  },
  {
   "cell_type": "code",
   "execution_count": 168,
   "id": "45945ebb",
   "metadata": {},
   "outputs": [
    {
     "name": "stdout",
     "output_type": "stream",
     "text": [
      "it is true\n"
     ]
    }
   ],
   "source": [
    "if \"Abhishek\" in a:\n",
    "    print(\"it is true\")\n",
    "else:\n",
    "    print(\"it is wrog\")"
   ]
  },
  {
   "cell_type": "code",
   "execution_count": 169,
   "id": "8fd7bafc",
   "metadata": {},
   "outputs": [
    {
     "data": {
      "text/plain": [
       "{'Abhishek', 'aniket', 'baba', 'pande', 'rohit', 'sklill'}"
      ]
     },
     "execution_count": 169,
     "metadata": {},
     "output_type": "execute_result"
    }
   ],
   "source": [
    "a.add(\"pande\")\n",
    "a.add(\"sklill\")\n",
    "a"
   ]
  },
  {
   "cell_type": "code",
   "execution_count": 170,
   "id": "4e966894",
   "metadata": {},
   "outputs": [
    {
     "data": {
      "text/plain": [
       "{'Abhishek', 'aniket', 'baba', 'rohit'}"
      ]
     },
     "execution_count": 170,
     "metadata": {},
     "output_type": "execute_result"
    }
   ],
   "source": [
    "a.remove(\"sklill\")\n",
    "a.remove(\"pande\")\n",
    "a"
   ]
  },
  {
   "cell_type": "code",
   "execution_count": 171,
   "id": "06f9b222",
   "metadata": {},
   "outputs": [
    {
     "data": {
      "text/plain": [
       "{'Abhishek', 'aniket', 'rohit'}"
      ]
     },
     "execution_count": 171,
     "metadata": {},
     "output_type": "execute_result"
    }
   ],
   "source": [
    "a.discard(\"baba\")\n",
    "a"
   ]
  },
  {
   "cell_type": "code",
   "execution_count": 172,
   "id": "c02d2ac1",
   "metadata": {},
   "outputs": [],
   "source": [
    "myset1={\"asus\",\"hp\",\"dell\",\"apple\",\"lenovo\",\"gammimg\"}\n",
    "myset2={2033,\"hp\",\"dell\",25604,5685,458}"
   ]
  },
  {
   "cell_type": "code",
   "execution_count": 173,
   "id": "07f5b22f",
   "metadata": {},
   "outputs": [
    {
     "data": {
      "text/plain": [
       "{2033, 25604, 458, 5685, 'apple', 'asus', 'dell', 'gammimg', 'hp', 'lenovo'}"
      ]
     },
     "execution_count": 173,
     "metadata": {},
     "output_type": "execute_result"
    }
   ],
   "source": [
    "myset1.update(myset2)\n",
    "myset1"
   ]
  },
  {
   "cell_type": "code",
   "execution_count": 174,
   "id": "1f7727af",
   "metadata": {},
   "outputs": [
    {
     "data": {
      "text/plain": [
       "{2033, 25604, 458, 5685, 'apple', 'asus', 'dell', 'gammimg', 'hp', 'lenovo'}"
      ]
     },
     "execution_count": 174,
     "metadata": {},
     "output_type": "execute_result"
    }
   ],
   "source": [
    "myset1.union(myset2)\n",
    "myset1"
   ]
  },
  {
   "cell_type": "code",
   "execution_count": 175,
   "id": "eb0fb6b8",
   "metadata": {},
   "outputs": [
    {
     "name": "stdout",
     "output_type": "stream",
     "text": [
      "25604\n",
      "lenovo\n",
      "hp\n",
      "458\n",
      "dell\n",
      "2033\n",
      "apple\n",
      "5685\n",
      "asus\n",
      "gammimg\n"
     ]
    }
   ],
   "source": [
    "for i in myset1:\n",
    "    print(i)"
   ]
  },
  {
   "cell_type": "code",
   "execution_count": 176,
   "id": "2dcad038",
   "metadata": {},
   "outputs": [
    {
     "data": {
      "text/plain": [
       "{2033, 25604, 458, 5685, 'dell', 'hp'}"
      ]
     },
     "execution_count": 176,
     "metadata": {},
     "output_type": "execute_result"
    }
   ],
   "source": [
    "myset1.intersection_update(myset2)\n",
    "myset1"
   ]
  },
  {
   "cell_type": "code",
   "execution_count": 177,
   "id": "9d633a07",
   "metadata": {},
   "outputs": [
    {
     "data": {
      "text/plain": [
       "set()"
      ]
     },
     "execution_count": 177,
     "metadata": {},
     "output_type": "execute_result"
    }
   ],
   "source": [
    "myset1.symmetric_difference_update(myset2)\n",
    "myset1"
   ]
  },
  {
   "cell_type": "code",
   "execution_count": 178,
   "id": "cb54152d",
   "metadata": {},
   "outputs": [
    {
     "data": {
      "text/plain": [
       "{'Apple', 'Microsoft'}"
      ]
     },
     "execution_count": 178,
     "metadata": {},
     "output_type": "execute_result"
    }
   ],
   "source": [
    "x={\"Microsoft\",\"Google\",\"Apple\"} #return same string\n",
    "y={\"Microsoft\",\"Sunder Pichai\",\"Apple\"}\n",
    "x.intersection_update(y)\n",
    "x"
   ]
  },
  {
   "cell_type": "code",
   "execution_count": 179,
   "id": "e9a8a9ec",
   "metadata": {},
   "outputs": [
    {
     "data": {
      "text/plain": [
       "{'Sunder Pichai'}"
      ]
     },
     "execution_count": 179,
     "metadata": {},
     "output_type": "execute_result"
    }
   ],
   "source": [
    "x.symmetric_difference_update(y)\n",
    "x"
   ]
  },
  {
   "cell_type": "code",
   "execution_count": 180,
   "id": "b98e2ad9",
   "metadata": {},
   "outputs": [
    {
     "data": {
      "text/plain": [
       "{'Sunder Pichai'}"
      ]
     },
     "execution_count": 180,
     "metadata": {},
     "output_type": "execute_result"
    }
   ],
   "source": [
    "x.symmetric_difference(y)\n",
    "x"
   ]
  },
  {
   "cell_type": "code",
   "execution_count": 181,
   "id": "18bf0571",
   "metadata": {},
   "outputs": [
    {
     "data": {
      "text/plain": [
       "set()"
      ]
     },
     "execution_count": 181,
     "metadata": {},
     "output_type": "execute_result"
    }
   ],
   "source": [
    "x.clear()\n",
    "x"
   ]
  },
  {
   "cell_type": "code",
   "execution_count": 182,
   "id": "33b70972",
   "metadata": {},
   "outputs": [],
   "source": [
    "del x"
   ]
  },
  {
   "cell_type": "markdown",
   "id": "e2e5f468",
   "metadata": {},
   "source": [
    "# Dictionari"
   ]
  },
  {
   "cell_type": "code",
   "execution_count": 183,
   "id": "6ec2a221",
   "metadata": {
    "scrolled": false
   },
   "outputs": [
    {
     "name": "stdout",
     "output_type": "stream",
     "text": [
      "{'abhishek': 20, 'rohit': 14, 'shanker': 16, 'aniket': 22, 'color': ['black', 'grenn', 'red']}\n",
      "5\n",
      "<class 'dict'>\n",
      "{'maharathra': 'Aurangabd', 'karnatka': 'Banglore', 'Madya pradesh': 'Indor'}\n"
     ]
    }
   ],
   "source": [
    "name={\"abhishek\":20,\"rohit\":14,\"shanker\":16,\"aniket\":22,\"color\":[\"black\",\"grenn\",\"red\"]}\n",
    "np={\"maharathra\":\"Aurangabd\",\"karnatka\":\"Banglore\",\"Madya pradesh\":\"Indor\"}\n",
    "print(name)\n",
    "print(len(name))\n",
    "print(type(name))\n",
    "print(np)"
   ]
  },
  {
   "cell_type": "code",
   "execution_count": 184,
   "id": "be1dcc9a",
   "metadata": {},
   "outputs": [],
   "source": [
    "name.update(np)"
   ]
  },
  {
   "cell_type": "code",
   "execution_count": 185,
   "id": "f2adc99c",
   "metadata": {},
   "outputs": [
    {
     "data": {
      "text/plain": [
       "('Madya pradesh', 'Indor')"
      ]
     },
     "execution_count": 185,
     "metadata": {},
     "output_type": "execute_result"
    }
   ],
   "source": [
    "name.popitem()"
   ]
  },
  {
   "cell_type": "code",
   "execution_count": 186,
   "id": "43654cfa",
   "metadata": {},
   "outputs": [
    {
     "data": {
      "text/plain": [
       "{'abhishek': 20,\n",
       " 'rohit': 14,\n",
       " 'shanker': 16,\n",
       " 'aniket': 22,\n",
       " 'color': ['black', 'grenn', 'red'],\n",
       " 'maharathra': 'Aurangabd',\n",
       " 'karnatka': 'Banglore'}"
      ]
     },
     "execution_count": 186,
     "metadata": {},
     "output_type": "execute_result"
    }
   ],
   "source": [
    "name"
   ]
  },
  {
   "cell_type": "code",
   "execution_count": 187,
   "id": "00360be6",
   "metadata": {},
   "outputs": [
    {
     "data": {
      "text/plain": [
       "['black', 'grenn', 'red']"
      ]
     },
     "execution_count": 187,
     "metadata": {},
     "output_type": "execute_result"
    }
   ],
   "source": [
    "name[\"abhishek\"]\n",
    "name[\"rohit\"]\n",
    "name[\"color\"]"
   ]
  },
  {
   "cell_type": "code",
   "execution_count": 188,
   "id": "8ba440d8",
   "metadata": {},
   "outputs": [
    {
     "data": {
      "text/plain": [
       "{'abhishek': 20,\n",
       " 'rohit': 14,\n",
       " 'shanker': 16,\n",
       " 'aniket': 22,\n",
       " 'color': ['black', 'grenn', 'red'],\n",
       " 'maharathra': 'Aurangabd',\n",
       " 'karnatka': 'Banglore',\n",
       " 'Laptop': 'Asus',\n",
       " 'hp': 'mouse'}"
      ]
     },
     "execution_count": 188,
     "metadata": {},
     "output_type": "execute_result"
    }
   ],
   "source": [
    "name[\"Laptop\"]=\"Asus\"\n",
    "name[\"hp\"]=\"mouse\"\n",
    "name"
   ]
  },
  {
   "cell_type": "code",
   "execution_count": 189,
   "id": "91f4bcf1",
   "metadata": {},
   "outputs": [
    {
     "data": {
      "text/plain": [
       "dict_keys(['abhishek', 'rohit', 'shanker', 'aniket', 'color', 'maharathra', 'karnatka', 'Laptop', 'hp'])"
      ]
     },
     "execution_count": 189,
     "metadata": {},
     "output_type": "execute_result"
    }
   ],
   "source": [
    "name.keys()"
   ]
  },
  {
   "cell_type": "code",
   "execution_count": 190,
   "id": "36a9cafb",
   "metadata": {},
   "outputs": [
    {
     "data": {
      "text/plain": [
       "dict_items([('abhishek', 20), ('rohit', 14), ('shanker', 16), ('aniket', 22), ('color', ['black', 'grenn', 'red']), ('maharathra', 'Aurangabd'), ('karnatka', 'Banglore'), ('Laptop', 'Asus'), ('hp', 'mouse')])"
      ]
     },
     "execution_count": 190,
     "metadata": {},
     "output_type": "execute_result"
    }
   ],
   "source": [
    "name.items()"
   ]
  },
  {
   "cell_type": "code",
   "execution_count": 191,
   "id": "ead9a170",
   "metadata": {},
   "outputs": [
    {
     "data": {
      "text/plain": [
       "dict_values([20, 14, 16, 22, ['black', 'grenn', 'red'], 'Aurangabd', 'Banglore', 'Asus', 'mouse'])"
      ]
     },
     "execution_count": 191,
     "metadata": {},
     "output_type": "execute_result"
    }
   ],
   "source": [
    "name.values()"
   ]
  },
  {
   "cell_type": "code",
   "execution_count": 192,
   "id": "7e2dbb27",
   "metadata": {},
   "outputs": [
    {
     "data": {
      "text/plain": [
       "{'abhishek': 20,\n",
       " 'rohit': 14,\n",
       " 'shanker': 16,\n",
       " 'aniket': 22,\n",
       " 'color': ['black', 'grenn', 'red'],\n",
       " 'maharathra': 'Aurangabd',\n",
       " 'karnatka': 'Banglore',\n",
       " 'Laptop': 'Asus',\n",
       " 'hp': 12000}"
      ]
     },
     "execution_count": 192,
     "metadata": {},
     "output_type": "execute_result"
    }
   ],
   "source": [
    "name[\"hp\"]=12000\n",
    "name"
   ]
  },
  {
   "cell_type": "code",
   "execution_count": 193,
   "id": "263cf958",
   "metadata": {},
   "outputs": [
    {
     "data": {
      "text/plain": [
       "{'abhishek': 20,\n",
       " 'rohit': 14,\n",
       " 'shanker': 16,\n",
       " 'aniket': 22,\n",
       " 'color': ['black', 'grenn', 'red'],\n",
       " 'maharathra': 'Aurangabd',\n",
       " 'karnatka': 'Banglore',\n",
       " 'Laptop': 30000,\n",
       " 'hp': 12000}"
      ]
     },
     "execution_count": 193,
     "metadata": {},
     "output_type": "execute_result"
    }
   ],
   "source": [
    "name[\"Laptop\"]=30000\n",
    "name"
   ]
  },
  {
   "cell_type": "code",
   "execution_count": 194,
   "id": "0d5a4f83",
   "metadata": {},
   "outputs": [
    {
     "name": "stdout",
     "output_type": "stream",
     "text": [
      "it is true\n"
     ]
    }
   ],
   "source": [
    "if \"abhishek\" in name:\n",
    "    print(\"it is true\")\n",
    "else:\n",
    "    print(\"gii\")"
   ]
  },
  {
   "cell_type": "code",
   "execution_count": 195,
   "id": "b9cbc0bd",
   "metadata": {},
   "outputs": [
    {
     "data": {
      "text/plain": [
       "{'abhishek': 20,\n",
       " 'rohit': 14,\n",
       " 'shanker': 16,\n",
       " 'aniket': 22,\n",
       " 'color': ['black', 'grenn', 'red'],\n",
       " 'maharathra': 'Aurangabd',\n",
       " 'karnatka': 'Banglore',\n",
       " 'Laptop': 'ASUS',\n",
       " 'hp': 12000}"
      ]
     },
     "execution_count": 195,
     "metadata": {},
     "output_type": "execute_result"
    }
   ],
   "source": [
    "name[\"Laptop\"]=\"ASUS\" #update\n",
    "name"
   ]
  },
  {
   "cell_type": "code",
   "execution_count": 196,
   "id": "4415c55a",
   "metadata": {},
   "outputs": [
    {
     "data": {
      "text/plain": [
       "{'abhishek': 20,\n",
       " 'rohit': 14,\n",
       " 'shanker': 16,\n",
       " 'aniket': 22,\n",
       " 'color': ['black', 'grenn', 'red'],\n",
       " 'maharathra': 'Aurangabd',\n",
       " 'karnatka': 'Banglore',\n",
       " 'hp': 12000}"
      ]
     },
     "execution_count": 196,
     "metadata": {},
     "output_type": "execute_result"
    }
   ],
   "source": [
    "name.pop(\"Laptop\")#delete\n",
    "name"
   ]
  },
  {
   "cell_type": "code",
   "execution_count": 197,
   "id": "8fc950ca",
   "metadata": {},
   "outputs": [
    {
     "name": "stdout",
     "output_type": "stream",
     "text": [
      "abhishek\n",
      "rohit\n",
      "shanker\n",
      "aniket\n",
      "color\n",
      "maharathra\n",
      "karnatka\n",
      "hp\n"
     ]
    }
   ],
   "source": [
    "for i in name:\n",
    "    print(i)"
   ]
  },
  {
   "cell_type": "code",
   "execution_count": 198,
   "id": "dd6fca55",
   "metadata": {},
   "outputs": [
    {
     "name": "stdout",
     "output_type": "stream",
     "text": [
      "abhishek\n",
      "rohit\n",
      "shanker\n",
      "aniket\n",
      "color\n",
      "maharathra\n",
      "karnatka\n",
      "hp\n"
     ]
    }
   ],
   "source": [
    "for i in name.keys():\n",
    "    print(i)"
   ]
  },
  {
   "cell_type": "code",
   "execution_count": 199,
   "id": "a68e8c21",
   "metadata": {},
   "outputs": [
    {
     "name": "stdout",
     "output_type": "stream",
     "text": [
      "('abhishek', 20)\n",
      "('rohit', 14)\n",
      "('shanker', 16)\n",
      "('aniket', 22)\n",
      "('color', ['black', 'grenn', 'red'])\n",
      "('maharathra', 'Aurangabd')\n",
      "('karnatka', 'Banglore')\n",
      "('hp', 12000)\n"
     ]
    }
   ],
   "source": [
    "for i in name.items():\n",
    "    print(i)"
   ]
  },
  {
   "cell_type": "code",
   "execution_count": 200,
   "id": "c80876e7",
   "metadata": {},
   "outputs": [
    {
     "name": "stdout",
     "output_type": "stream",
     "text": [
      "20\n",
      "14\n",
      "16\n",
      "22\n",
      "['black', 'grenn', 'red']\n",
      "Aurangabd\n",
      "Banglore\n",
      "12000\n"
     ]
    }
   ],
   "source": [
    "for i in name.values():\n",
    "    print(i)"
   ]
  },
  {
   "cell_type": "code",
   "execution_count": 201,
   "id": "fae214da",
   "metadata": {},
   "outputs": [],
   "source": [
    "name.clear()"
   ]
  },
  {
   "cell_type": "code",
   "execution_count": 202,
   "id": "9678c5e4",
   "metadata": {
    "scrolled": true
   },
   "outputs": [
    {
     "data": {
      "text/plain": [
       "{}"
      ]
     },
     "execution_count": 202,
     "metadata": {},
     "output_type": "execute_result"
    }
   ],
   "source": [
    "name"
   ]
  },
  {
   "cell_type": "code",
   "execution_count": 203,
   "id": "2c3956ca",
   "metadata": {},
   "outputs": [],
   "source": [
    "del name"
   ]
  },
  {
   "cell_type": "code",
   "execution_count": 204,
   "id": "795abddb",
   "metadata": {},
   "outputs": [
    {
     "name": "stdout",
     "output_type": "stream",
     "text": [
      "['False', 'None', 'True', 'and', 'as', 'assert', 'async', 'await', 'break', 'class', 'continue', 'def', 'del', 'elif', 'else', 'except', 'finally', 'for', 'from', 'global', 'if', 'import', 'in', 'is', 'lambda', 'nonlocal', 'not', 'or', 'pass', 'raise', 'return', 'try', 'while', 'with', 'yield']\n"
     ]
    }
   ],
   "source": [
    "import keyword\n",
    "print(keyword.kwlist)"
   ]
  },
  {
   "cell_type": "code",
   "execution_count": 205,
   "id": "64cb4248",
   "metadata": {},
   "outputs": [],
   "source": [
    "a=\"abhishek\""
   ]
  },
  {
   "cell_type": "code",
   "execution_count": 206,
   "id": "dd66753f",
   "metadata": {},
   "outputs": [
    {
     "data": {
      "text/plain": [
       "2"
      ]
     },
     "execution_count": 206,
     "metadata": {},
     "output_type": "execute_result"
    }
   ],
   "source": [
    "a.count(\"h\")"
   ]
  },
  {
   "cell_type": "code",
   "execution_count": 207,
   "id": "43bd8d5f",
   "metadata": {},
   "outputs": [
    {
     "data": {
      "text/plain": [
       "1"
      ]
     },
     "execution_count": 207,
     "metadata": {},
     "output_type": "execute_result"
    }
   ],
   "source": [
    "a.count(\"e\")"
   ]
  },
  {
   "cell_type": "code",
   "execution_count": 208,
   "id": "0e1da98c",
   "metadata": {},
   "outputs": [],
   "source": [
    "a=\"i am new in your country can you help me out? \""
   ]
  },
  {
   "cell_type": "code",
   "execution_count": 209,
   "id": "1d6bbd54",
   "metadata": {},
   "outputs": [
    {
     "data": {
      "text/plain": [
       "4"
      ]
     },
     "execution_count": 209,
     "metadata": {},
     "output_type": "execute_result"
    }
   ],
   "source": [
    "a.count(\"o\")"
   ]
  },
  {
   "cell_type": "code",
   "execution_count": 210,
   "id": "b6ec9e19",
   "metadata": {},
   "outputs": [
    {
     "data": {
      "text/plain": [
       "('i am new in your ', 'country', ' can you help me out? ')"
      ]
     },
     "execution_count": 210,
     "metadata": {},
     "output_type": "execute_result"
    }
   ],
   "source": [
    "a.partition(\"country\")"
   ]
  },
  {
   "cell_type": "code",
   "execution_count": 211,
   "id": "360ab9cf",
   "metadata": {},
   "outputs": [
    {
     "data": {
      "text/plain": [
       "'i am new in your country can you help me out?'"
      ]
     },
     "execution_count": 211,
     "metadata": {},
     "output_type": "execute_result"
    }
   ],
   "source": [
    "a.rstrip()"
   ]
  },
  {
   "cell_type": "code",
   "execution_count": 212,
   "id": "eda4546e",
   "metadata": {},
   "outputs": [
    {
     "data": {
      "text/plain": [
       "'i am new in your country can you help me out? '"
      ]
     },
     "execution_count": 212,
     "metadata": {},
     "output_type": "execute_result"
    }
   ],
   "source": [
    "a.lstrip()"
   ]
  },
  {
   "cell_type": "code",
   "execution_count": 213,
   "id": "5e25fd31",
   "metadata": {},
   "outputs": [
    {
     "data": {
      "text/plain": [
       "'i am new in your country can you help me out?'"
      ]
     },
     "execution_count": 213,
     "metadata": {},
     "output_type": "execute_result"
    }
   ],
   "source": [
    "a.strip()"
   ]
  },
  {
   "cell_type": "code",
   "execution_count": 214,
   "id": "181eaf1a",
   "metadata": {},
   "outputs": [
    {
     "data": {
      "text/plain": [
       "False"
      ]
     },
     "execution_count": 214,
     "metadata": {},
     "output_type": "execute_result"
    }
   ],
   "source": [
    "a.startswith(\"n\")"
   ]
  },
  {
   "cell_type": "code",
   "execution_count": 215,
   "id": "6ff6c2d9",
   "metadata": {},
   "outputs": [
    {
     "data": {
      "text/plain": [
       "True"
      ]
     },
     "execution_count": 215,
     "metadata": {},
     "output_type": "execute_result"
    }
   ],
   "source": [
    "a.startswith(\"i\")"
   ]
  },
  {
   "cell_type": "code",
   "execution_count": 216,
   "id": "1bfd4b8c",
   "metadata": {},
   "outputs": [
    {
     "data": {
      "text/plain": [
       "False"
      ]
     },
     "execution_count": 216,
     "metadata": {},
     "output_type": "execute_result"
    }
   ],
   "source": [
    "a.endswith(\"t\")"
   ]
  },
  {
   "cell_type": "code",
   "execution_count": 217,
   "id": "8523adeb",
   "metadata": {},
   "outputs": [
    {
     "data": {
      "text/plain": [
       "'I AM NEW IN YOUR COUNTRY CAN YOU HELP ME OUT? '"
      ]
     },
     "execution_count": 217,
     "metadata": {},
     "output_type": "execute_result"
    }
   ],
   "source": [
    "a.upper()"
   ]
  },
  {
   "cell_type": "code",
   "execution_count": 218,
   "id": "e58abc91",
   "metadata": {},
   "outputs": [
    {
     "data": {
      "text/plain": [
       "'i am new in your country can you help me out? '"
      ]
     },
     "execution_count": 218,
     "metadata": {},
     "output_type": "execute_result"
    }
   ],
   "source": [
    "a.lower()"
   ]
  },
  {
   "cell_type": "code",
   "execution_count": 219,
   "id": "b68be74b",
   "metadata": {},
   "outputs": [
    {
     "data": {
      "text/plain": [
       "['i', 'am', 'new', 'in', 'your', 'country', 'can', 'you', 'help', 'me', 'out?']"
      ]
     },
     "execution_count": 219,
     "metadata": {},
     "output_type": "execute_result"
    }
   ],
   "source": [
    "a.split()"
   ]
  },
  {
   "cell_type": "code",
   "execution_count": 220,
   "id": "86470afb",
   "metadata": {},
   "outputs": [
    {
     "name": "stdout",
     "output_type": "stream",
     "text": [
      "<class 'str'>\n",
      "46\n",
      "i am new in your country can you help me out? \n"
     ]
    }
   ],
   "source": [
    "print(type(a))\n",
    "print(len(a))\n",
    "print(a)"
   ]
  },
  {
   "cell_type": "code",
   "execution_count": 221,
   "id": "b7a81a6a",
   "metadata": {},
   "outputs": [
    {
     "name": "stdout",
     "output_type": "stream",
     "text": [
      "enter the age: abhishek\n"
     ]
    }
   ],
   "source": [
    "a=str(input(\"enter the age: \"))"
   ]
  },
  {
   "cell_type": "code",
   "execution_count": 222,
   "id": "e4345a4d",
   "metadata": {},
   "outputs": [],
   "source": [
    "a=\"i want a laptop but i don't buy untill price {}\"\n",
    "b=45000"
   ]
  },
  {
   "cell_type": "code",
   "execution_count": 223,
   "id": "14e3e580",
   "metadata": {
    "scrolled": true
   },
   "outputs": [
    {
     "name": "stdout",
     "output_type": "stream",
     "text": [
      "i want a laptop but i don't buy untill price 45000\n"
     ]
    }
   ],
   "source": [
    "print(a.format(b))"
   ]
  },
  {
   "cell_type": "code",
   "execution_count": 224,
   "id": "3fb9a5bf",
   "metadata": {},
   "outputs": [
    {
     "name": "stdout",
     "output_type": "stream",
     "text": [
      "my salary is 12000\n"
     ]
    }
   ],
   "source": [
    "c=\"my salary is {}\"\n",
    "v=12000\n",
    "print(c.format(v))"
   ]
  },
  {
   "cell_type": "code",
   "execution_count": 225,
   "id": "bc2e3678",
   "metadata": {},
   "outputs": [
    {
     "data": {
      "text/plain": [
       "datetime.datetime(2024, 1, 31, 19, 2, 15, 886539)"
      ]
     },
     "execution_count": 225,
     "metadata": {},
     "output_type": "execute_result"
    }
   ],
   "source": [
    "import datetime\n",
    "a=datetime.datetime.now()\n",
    "a"
   ]
  },
  {
   "cell_type": "code",
   "execution_count": 226,
   "id": "466128eb",
   "metadata": {},
   "outputs": [
    {
     "data": {
      "text/plain": [
       "'01/31/24'"
      ]
     },
     "execution_count": 226,
     "metadata": {},
     "output_type": "execute_result"
    }
   ],
   "source": [
    "a.strftime(\"%a\")\n",
    "a.strftime(\"%A\")\n",
    "a.strftime(\"%x\")"
   ]
  },
  {
   "cell_type": "code",
   "execution_count": 227,
   "id": "4f635031",
   "metadata": {},
   "outputs": [
    {
     "name": "stdout",
     "output_type": "stream",
     "text": [
      "not okk\n"
     ]
    }
   ],
   "source": [
    "a=34\n",
    "b=34\n",
    "if a<b:\n",
    "    print(\"its okkk\")\n",
    "else:\n",
    "    print(\"not okk\")"
   ]
  },
  {
   "cell_type": "code",
   "execution_count": 228,
   "id": "a61982cb",
   "metadata": {},
   "outputs": [
    {
     "name": "stdout",
     "output_type": "stream",
     "text": [
      "olkkk\n"
     ]
    }
   ],
   "source": [
    "if a<b and a>b:\n",
    "    print(\"it is okkk\")\n",
    "else:\n",
    "    print(\"olkkk\")"
   ]
  },
  {
   "cell_type": "code",
   "execution_count": 229,
   "id": "94160d14",
   "metadata": {},
   "outputs": [
    {
     "name": "stdout",
     "output_type": "stream",
     "text": [
      "thick nahi hai\n"
     ]
    }
   ],
   "source": [
    "if a>b or a<b:\n",
    "    print(\"thick hai\")\n",
    "else:\n",
    "    print(\"thick nahi hai\")"
   ]
  },
  {
   "cell_type": "code",
   "execution_count": 230,
   "id": "12bf2470",
   "metadata": {},
   "outputs": [
    {
     "name": "stdout",
     "output_type": "stream",
     "text": [
      "a is similar to b\n"
     ]
    }
   ],
   "source": [
    "if a==b:\n",
    "    print(\"a is similar to b\")\n",
    "if a>b:\n",
    "    print(\"a is grether than b\")"
   ]
  },
  {
   "cell_type": "code",
   "execution_count": 238,
   "id": "e4b51a1e",
   "metadata": {},
   "outputs": [
    {
     "name": "stdout",
     "output_type": "stream",
     "text": [
      "21\n",
      "22\n",
      "23\n",
      "24\n",
      "25\n",
      "26\n",
      "27\n",
      "28\n",
      "29\n",
      "30\n"
     ]
    }
   ],
   "source": [
    "a=20\n",
    "b=30\n",
    "while a<b:\n",
    "    a+=1\n",
    "    print(a)"
   ]
  },
  {
   "cell_type": "code",
   "execution_count": 240,
   "id": "6017ac7e",
   "metadata": {},
   "outputs": [],
   "source": [
    "while a<b and a>b:\n",
    "    a+=1\n",
    "    print(a)"
   ]
  },
  {
   "cell_type": "code",
   "execution_count": 1,
   "id": "05938c9d",
   "metadata": {},
   "outputs": [
    {
     "name": "stdout",
     "output_type": "stream",
     "text": [
      "10\n",
      "11\n",
      "12\n",
      "13\n",
      "14\n",
      "15\n"
     ]
    }
   ],
   "source": [
    "i=10\n",
    "while i<20:\n",
    "    print(i)\n",
    "    if (i == 15):\n",
    "        break\n",
    "    i += 1"
   ]
  },
  {
   "cell_type": "code",
   "execution_count": 5,
   "id": "4fbcc9f5",
   "metadata": {},
   "outputs": [
    {
     "name": "stdout",
     "output_type": "stream",
     "text": [
      "11\n",
      "12\n",
      "13\n",
      "14\n",
      "16\n",
      "17\n",
      "18\n",
      "19\n",
      "20\n"
     ]
    }
   ],
   "source": [
    "i=10\n",
    "while i<20:\n",
    "    i+=1\n",
    "    if (i==15):\n",
    "        continue\n",
    "    print(i)\n",
    "    "
   ]
  },
  {
   "cell_type": "code",
   "execution_count": 19,
   "id": "3d8cb0a5",
   "metadata": {},
   "outputs": [
    {
     "name": "stdout",
     "output_type": "stream",
     "text": [
      "abhishekj\n",
      "vishau\n",
      "math\n"
     ]
    }
   ],
   "source": [
    "a=[\"abhishekj\",\"vishau\",\"math\"]\n",
    "for i in a:\n",
    "    print(i)"
   ]
  },
  {
   "cell_type": "code",
   "execution_count": 20,
   "id": "ab193f11",
   "metadata": {},
   "outputs": [
    {
     "name": "stdout",
     "output_type": "stream",
     "text": [
      "abhishekj\n",
      "vishau\n",
      "math\n"
     ]
    }
   ],
   "source": [
    "for i in range(len(a)):\n",
    "    print(a[i])"
   ]
  },
  {
   "cell_type": "code",
   "execution_count": 25,
   "id": "70a09d68",
   "metadata": {},
   "outputs": [
    {
     "name": "stdout",
     "output_type": "stream",
     "text": [
      "['abhishekj', 'vishau']\n"
     ]
    }
   ],
   "source": [
    "n=[]\n",
    "for i in a:\n",
    "    if \"s\" in i:\n",
    "        n.append(i)\n",
    "print(n)"
   ]
  },
  {
   "cell_type": "code",
   "execution_count": 31,
   "id": "7d4f0ded",
   "metadata": {},
   "outputs": [
    {
     "name": "stdout",
     "output_type": "stream",
     "text": [
      "10\n",
      "11\n",
      "12\n",
      "13\n",
      "14\n",
      "15\n",
      "16\n",
      "17\n",
      "18\n",
      "19\n"
     ]
    }
   ],
   "source": [
    "for i in range(10,20):\n",
    "    print(i)"
   ]
  },
  {
   "cell_type": "code",
   "execution_count": 33,
   "id": "2beefcd8",
   "metadata": {},
   "outputs": [
    {
     "name": "stdout",
     "output_type": "stream",
     "text": [
      "apple\n"
     ]
    }
   ],
   "source": [
    "fruits = [\"apple\", \"banana\", \"cherry\"]\n",
    "for i in fruits:\n",
    "    if i==\"banana\":\n",
    "        break\n",
    "    print(i)"
   ]
  },
  {
   "cell_type": "code",
   "execution_count": 85,
   "id": "10df1f51",
   "metadata": {},
   "outputs": [
    {
     "name": "stdout",
     "output_type": "stream",
     "text": [
      "['Abhishek', 'SHanker', 'vishal', 'vani', 'pande']\n",
      "<class 'list'>\n",
      "5\n",
      "['chcha', 'mama', 'kaka', 'nana']\n"
     ]
    }
   ],
   "source": [
    "mylist=[\"Abhishek\",\"SHanker\",\"vishal\",\"vani\",\"pande\"]\n",
    "mylist1=[\"chcha\",\"mama\",\"kaka\",\"nana\"]\n",
    "print(mylist)\n",
    "print(type(mylist))\n",
    "print(len(mylist))\n",
    "print(mylist1)"
   ]
  },
  {
   "cell_type": "code",
   "execution_count": 70,
   "id": "61da539c",
   "metadata": {},
   "outputs": [],
   "source": [
    "mylist[1]=\"SHANKER\""
   ]
  },
  {
   "cell_type": "code",
   "execution_count": 71,
   "id": "276cb6c2",
   "metadata": {},
   "outputs": [],
   "source": [
    "mylist.append(\"laptop\")"
   ]
  },
  {
   "cell_type": "code",
   "execution_count": 72,
   "id": "6bee0620",
   "metadata": {},
   "outputs": [
    {
     "data": {
      "text/plain": [
       "['Abhishek', 'SHANKER', 'vishal', 'vani', 'pande', 'laptop']"
      ]
     },
     "execution_count": 72,
     "metadata": {},
     "output_type": "execute_result"
    }
   ],
   "source": [
    "mylist"
   ]
  },
  {
   "cell_type": "code",
   "execution_count": 73,
   "id": "112335c6",
   "metadata": {},
   "outputs": [],
   "source": [
    "mylist.remove(\"laptop\")"
   ]
  },
  {
   "cell_type": "code",
   "execution_count": 74,
   "id": "aaa4b0eb",
   "metadata": {},
   "outputs": [
    {
     "data": {
      "text/plain": [
       "['Abhishek', 'SHANKER', 'vishal', 'vani', 'pande']"
      ]
     },
     "execution_count": 74,
     "metadata": {},
     "output_type": "execute_result"
    }
   ],
   "source": [
    "mylist"
   ]
  },
  {
   "cell_type": "code",
   "execution_count": 75,
   "id": "52969787",
   "metadata": {},
   "outputs": [],
   "source": [
    "mylist.insert(1,\"rohit\")"
   ]
  },
  {
   "cell_type": "code",
   "execution_count": 76,
   "id": "a5fa99f8",
   "metadata": {},
   "outputs": [
    {
     "data": {
      "text/plain": [
       "['Abhishek', 'rohit', 'SHANKER', 'vishal', 'vani', 'pande']"
      ]
     },
     "execution_count": 76,
     "metadata": {},
     "output_type": "execute_result"
    }
   ],
   "source": [
    "mylist"
   ]
  },
  {
   "cell_type": "code",
   "execution_count": 77,
   "id": "f1157fb0",
   "metadata": {},
   "outputs": [
    {
     "data": {
      "text/plain": [
       "['pande', 'vani', 'vishal', 'SHANKER', 'rohit', 'Abhishek']"
      ]
     },
     "execution_count": 77,
     "metadata": {},
     "output_type": "execute_result"
    }
   ],
   "source": [
    "mylist[::-1]"
   ]
  },
  {
   "cell_type": "code",
   "execution_count": 78,
   "id": "5871e92e",
   "metadata": {},
   "outputs": [
    {
     "data": {
      "text/plain": [
       "0"
      ]
     },
     "execution_count": 78,
     "metadata": {},
     "output_type": "execute_result"
    }
   ],
   "source": [
    "mylist.count(\"a\")"
   ]
  },
  {
   "cell_type": "code",
   "execution_count": 80,
   "id": "15e41dc9",
   "metadata": {},
   "outputs": [
    {
     "data": {
      "text/plain": [
       "['Abhishek', 'SHANKER', 'pande', 'rohit', 'vani', 'vishal']"
      ]
     },
     "execution_count": 80,
     "metadata": {},
     "output_type": "execute_result"
    }
   ],
   "source": [
    "mylist.sort()\n",
    "mylist"
   ]
  },
  {
   "cell_type": "code",
   "execution_count": 81,
   "id": "c08e1e0b",
   "metadata": {},
   "outputs": [
    {
     "data": {
      "text/plain": [
       "['vishal', 'vani', 'rohit', 'pande', 'SHANKER', 'Abhishek']"
      ]
     },
     "execution_count": 81,
     "metadata": {},
     "output_type": "execute_result"
    }
   ],
   "source": [
    "mylist.reverse()\n",
    "mylist"
   ]
  },
  {
   "cell_type": "code",
   "execution_count": 86,
   "id": "a234a852",
   "metadata": {},
   "outputs": [],
   "source": [
    "mylist.extend(mylist1)"
   ]
  },
  {
   "cell_type": "code",
   "execution_count": 87,
   "id": "e7a6abd5",
   "metadata": {},
   "outputs": [
    {
     "data": {
      "text/plain": [
       "['Abhishek',\n",
       " 'SHanker',\n",
       " 'vishal',\n",
       " 'vani',\n",
       " 'pande',\n",
       " 'chcha',\n",
       " 'mama',\n",
       " 'kaka',\n",
       " 'nana']"
      ]
     },
     "execution_count": 87,
     "metadata": {},
     "output_type": "execute_result"
    }
   ],
   "source": [
    "mylist"
   ]
  },
  {
   "cell_type": "code",
   "execution_count": 88,
   "id": "0a4c0383",
   "metadata": {},
   "outputs": [
    {
     "name": "stdout",
     "output_type": "stream",
     "text": [
      "it is true\n"
     ]
    }
   ],
   "source": [
    "if \"Abhishek\" in mylist:\n",
    "    print(\"it is true\")"
   ]
  },
  {
   "cell_type": "code",
   "execution_count": 91,
   "id": "6be3277b",
   "metadata": {},
   "outputs": [
    {
     "name": "stdout",
     "output_type": "stream",
     "text": [
      "Abhishek\n",
      "SHanker\n",
      "vishal\n",
      "vani\n",
      "pande\n",
      "chcha\n",
      "mama\n",
      "kaka\n",
      "nana\n"
     ]
    }
   ],
   "source": [
    "i=0\n",
    "while i<len(mylist):\n",
    "    print(mylist[i])\n",
    "    i+=1"
   ]
  },
  {
   "cell_type": "code",
   "execution_count": 92,
   "id": "31eaac7a",
   "metadata": {},
   "outputs": [
    {
     "name": "stdout",
     "output_type": "stream",
     "text": [
      "Abhishek\n",
      "SHanker\n",
      "vishal\n",
      "vani\n",
      "pande\n",
      "chcha\n",
      "mama\n",
      "kaka\n",
      "nana\n"
     ]
    }
   ],
   "source": [
    "for i in mylist:\n",
    "    print(i)"
   ]
  },
  {
   "cell_type": "code",
   "execution_count": 100,
   "id": "46635a78",
   "metadata": {},
   "outputs": [],
   "source": [
    "nwe=[i for i in mylist if \"a\" in i]"
   ]
  },
  {
   "cell_type": "code",
   "execution_count": 101,
   "id": "9470c180",
   "metadata": {},
   "outputs": [
    {
     "data": {
      "text/plain": [
       "['SHanker', 'vishal', 'vani', 'pande', 'chcha', 'mama', 'kaka', 'nana']"
      ]
     },
     "execution_count": 101,
     "metadata": {},
     "output_type": "execute_result"
    }
   ],
   "source": [
    "nwe"
   ]
  },
  {
   "cell_type": "code",
   "execution_count": 143,
   "id": "a667cbb1",
   "metadata": {},
   "outputs": [],
   "source": [
    "s={\"abhishek\",\"rohit\",\"rohit\",\"abhishek\"}\n",
    "n={\"i phone \",\"redmi\",45,\"MAMA\"}"
   ]
  },
  {
   "cell_type": "code",
   "execution_count": 144,
   "id": "6610756f",
   "metadata": {},
   "outputs": [],
   "source": [
    "s.add(\"BABA\")"
   ]
  },
  {
   "cell_type": "code",
   "execution_count": 145,
   "id": "e7a15434",
   "metadata": {},
   "outputs": [
    {
     "data": {
      "text/plain": [
       "{45, 'BABA', 'MAMA', 'abhishek', 'i phone ', 'redmi', 'rohit'}"
      ]
     },
     "execution_count": 145,
     "metadata": {},
     "output_type": "execute_result"
    }
   ],
   "source": [
    "s.union(n)"
   ]
  },
  {
   "cell_type": "code",
   "execution_count": 146,
   "id": "8cdd18c5",
   "metadata": {},
   "outputs": [],
   "source": [
    "p=s.update(n)\n",
    "p"
   ]
  },
  {
   "cell_type": "code",
   "execution_count": 147,
   "id": "8753101c",
   "metadata": {},
   "outputs": [],
   "source": [
    "s.remove(\"BABA\")"
   ]
  },
  {
   "cell_type": "code",
   "execution_count": 148,
   "id": "8d2895d7",
   "metadata": {},
   "outputs": [
    {
     "data": {
      "text/plain": [
       "{45, 'MAMA', 'abhishek', 'i phone ', 'redmi', 'rohit'}"
      ]
     },
     "execution_count": 148,
     "metadata": {},
     "output_type": "execute_result"
    }
   ],
   "source": [
    "s"
   ]
  },
  {
   "cell_type": "code",
   "execution_count": 149,
   "id": "9ae6900d",
   "metadata": {},
   "outputs": [
    {
     "data": {
      "text/plain": [
       "{45, 'MAMA', 'abhishek', 'i phone ', 'redmi'}"
      ]
     },
     "execution_count": 149,
     "metadata": {},
     "output_type": "execute_result"
    }
   ],
   "source": [
    "s.discard(\"rohit\")\n",
    "s"
   ]
  },
  {
   "cell_type": "code",
   "execution_count": 150,
   "id": "fe27c6af",
   "metadata": {},
   "outputs": [
    {
     "data": {
      "text/plain": [
       "{45, 'MAMA', 'i phone ', 'redmi'}"
      ]
     },
     "execution_count": 150,
     "metadata": {},
     "output_type": "execute_result"
    }
   ],
   "source": [
    "s.intersection(n)"
   ]
  },
  {
   "cell_type": "code",
   "execution_count": 151,
   "id": "511492c5",
   "metadata": {},
   "outputs": [],
   "source": [
    "s.intersection_update(n)"
   ]
  },
  {
   "cell_type": "code",
   "execution_count": 152,
   "id": "423d9423",
   "metadata": {},
   "outputs": [
    {
     "data": {
      "text/plain": [
       "{45, 'MAMA', 'i phone ', 'redmi'}"
      ]
     },
     "execution_count": 152,
     "metadata": {},
     "output_type": "execute_result"
    }
   ],
   "source": [
    "s"
   ]
  },
  {
   "cell_type": "code",
   "execution_count": 153,
   "id": "cf3b30e0",
   "metadata": {},
   "outputs": [
    {
     "data": {
      "text/plain": [
       "set()"
      ]
     },
     "execution_count": 153,
     "metadata": {},
     "output_type": "execute_result"
    }
   ],
   "source": [
    "s.symmetric_difference(n)"
   ]
  },
  {
   "cell_type": "markdown",
   "id": "4677c1d9",
   "metadata": {},
   "source": [
    "## User Define Function"
   ]
  },
  {
   "cell_type": "code",
   "execution_count": 22,
   "id": "3780af7f",
   "metadata": {},
   "outputs": [
    {
     "name": "stdout",
     "output_type": "stream",
     "text": [
      "hi i am abhishek\n"
     ]
    }
   ],
   "source": [
    "def abhishek():\n",
    "    print(\"hi i am abhishek\")\n",
    "abhishek()Even"
   ]
  },
  {
   "cell_type": "code",
   "execution_count": 27,
   "id": "0a70e46c",
   "metadata": {},
   "outputs": [
    {
     "data": {
      "text/plain": [
       "'Hello Abhishek'"
      ]
     },
     "execution_count": 27,
     "metadata": {},
     "output_type": "execute_result"
    }
   ],
   "source": [
    "def greet():\n",
    "    return \"Hello Abhishek\"\n",
    "greet()"
   ]
  },
  {
   "cell_type": "code",
   "execution_count": 37,
   "id": "144f1c09",
   "metadata": {},
   "outputs": [
    {
     "data": {
      "text/plain": [
       "35"
      ]
     },
     "execution_count": 37,
     "metadata": {},
     "output_type": "execute_result"
    }
   ],
   "source": [
    "def greeet(items):\n",
    "    return items*5\n",
    "greeet(5)\n",
    "greeet(7)"
   ]
  },
  {
   "cell_type": "code",
   "execution_count": 44,
   "id": "78f327d7",
   "metadata": {},
   "outputs": [
    {
     "name": "stdout",
     "output_type": "stream",
     "text": [
      "addition : 5\n",
      "addition : 20\n"
     ]
    }
   ],
   "source": [
    "def calculator(a,b):\n",
    "    print(\"addition :\",a+b)\n",
    "calculator(2,3)\n",
    "calculator(10,10)"
   ]
  },
  {
   "cell_type": "code",
   "execution_count": 140,
   "id": "533ffe0c",
   "metadata": {},
   "outputs": [
    {
     "name": "stdout",
     "output_type": "stream",
     "text": [
      "6\n"
     ]
    }
   ],
   "source": [
    "def add(x,y):\n",
    "    return x+y\n",
    "print(add(3,3))"
   ]
  },
  {
   "cell_type": "code",
   "execution_count": 52,
   "id": "838fb797",
   "metadata": {},
   "outputs": [
    {
     "name": "stdout",
     "output_type": "stream",
     "text": [
      "HP PRICE IS : 56000\n",
      "ASUS PRICE IS : 45000\n",
      "LENOVO PRICE IS : 25000\n",
      "DELL PRICE IS : 85000\n",
      "VIVOBOOK15 PRICE IS : 40000\n"
     ]
    }
   ],
   "source": [
    "def laptop_price(HP,ASUS,LENOVO,DELL,VIVOBOOK15):\n",
    "    print(\"HP PRICE IS :\",HP)\n",
    "    print(\"ASUS PRICE IS :\",ASUS)\n",
    "    print(\"LENOVO PRICE IS :\",LENOVO)\n",
    "    print(\"DELL PRICE IS :\",DELL)\n",
    "    print(\"VIVOBOOK15 PRICE IS :\",VIVOBOOK15)\n",
    "laptop_price(56000,45000,25000,85000,40000)"
   ]
  },
  {
   "cell_type": "code",
   "execution_count": 128,
   "id": "f7ba3b95",
   "metadata": {},
   "outputs": [],
   "source": [
    "def grether_value(number):\n",
    "    if number>45:\n",
    "        return True"
   ]
  },
  {
   "cell_type": "code",
   "execution_count": 129,
   "id": "1851db44",
   "metadata": {},
   "outputs": [
    {
     "name": "stdout",
     "output_type": "stream",
     "text": [
      "[83, 55, 49, 66]\n"
     ]
    }
   ],
   "source": [
    "lst = [12, 6, 83, 55, 49, 66, 4, 22]\n",
    "result=list(filter(grether_value,lst))\n",
    "print(result)"
   ]
  },
  {
   "cell_type": "code",
   "execution_count": 64,
   "id": "5dfdf3ed",
   "metadata": {},
   "outputs": [
    {
     "name": "stdout",
     "output_type": "stream",
     "text": [
      "-------------------------------Frist_line-------------------------------------------\n",
      "APPLE price is : 150000\n",
      "SUMSUNG price is : 34000\n",
      "VIVO price is : 15000\n",
      "OPPO price is : 12000\n",
      "REDMI price is : 17000\n",
      "ONEPLUS price is : 50000\n",
      "LAVA price is : 7000\n",
      "-------------------------------Second_line------------------------------------------\n",
      "APPLE price is : 45000\n",
      "SUMSUNG price is : 3000\n",
      "VIVO price is : 17000\n",
      "OPPO price is : 2000\n",
      "REDMI price is : 18000\n",
      "ONEPLUS price is : 40000\n",
      "LAVA price is : 4000\n",
      "--------------------------------Third_line------------------------------------------\n",
      "APPLE price is : 170000\n",
      "SUMSUNG price is : 6000\n",
      "VIVO price is : 9000\n",
      "OPPO price is : 2000\n",
      "REDMI price is : 6000\n",
      "ONEPLUS price is : 80000\n",
      "LAVA price is : 1000\n",
      "---------------------------------End------------------------------------------------\n"
     ]
    }
   ],
   "source": [
    "def mobile_price(APPLE,SUMSUNG,VIVO,OPPO,REDMI,ONEPLUS,LAVA):\n",
    "    print(\"APPLE price is :\",APPLE)\n",
    "    print(\"SUMSUNG price is :\",SUMSUNG)\n",
    "    print(\"VIVO price is :\",VIVO)\n",
    "    print(\"OPPO price is :\",OPPO)\n",
    "    print(\"REDMI price is :\",REDMI)\n",
    "    print(\"ONEPLUS price is :\",ONEPLUS)\n",
    "    print(\"LAVA price is :\",LAVA)\n",
    "print(\"-------------------------------Frist_line-------------------------------------------\")\n",
    "mobile_price(150000,34000,15000,12000,17000,50000,7000)\n",
    "print(\"-------------------------------Second_line------------------------------------------\")\n",
    "mobile_price(45000,3000,17000,2000,18000,40000,4000)\n",
    "print(\"--------------------------------Third_line------------------------------------------\")\n",
    "mobile_price(170000,6000,9000,2000,6000,80000,1000)\n",
    "print(\"---------------------------------End------------------------------------------------\")"
   ]
  },
  {
   "cell_type": "code",
   "execution_count": 72,
   "id": "01114bdc",
   "metadata": {},
   "outputs": [
    {
     "name": "stdout",
     "output_type": "stream",
     "text": [
      "Name of student : Sadhana dighule\n",
      "School name : bagvati vidya mandir\n",
      "Father name : suresh\n",
      "Monther name : savita\n",
      "Brother name : vitthal\n",
      "Sister name : samta\n"
     ]
    }
   ],
   "source": [
    "def family_info(NAME,SCHOOL,FATHER,MOTHER,BROTHER,SISTER):\n",
    "    print(\"Name of student\",NAME)\n",
    "    print(\"School name\",SCHOOL)\n",
    "    print(\"Father name\",FATHER)\n",
    "    print(\"Monther name\",MOTHER)\n",
    "    print(\"Brother name\",BROTHER)\n",
    "    print(\"Sister name\",SISTER)\n",
    "family_info(NAME=\": Sadhana dighule\",SCHOOL=\": bagvati vidya mandir\",FATHER=\": suresh\",MOTHER=\": savita\",BROTHER=\": vitthal\",SISTER=\": samta\")"
   ]
  },
  {
   "cell_type": "code",
   "execution_count": 77,
   "id": "3ef9ea04",
   "metadata": {},
   "outputs": [
    {
     "name": "stdout",
     "output_type": "stream",
     "text": [
      "School name : Bagvati VIdya Mandir\n",
      "Age : 8.2\n",
      "Marks : 12\n",
      "City name: Smabajinagar\n"
     ]
    }
   ],
   "source": [
    "def personal_info(school,age,marks,city):\n",
    "    print(\"School name :\",school)\n",
    "    print(\"Age :\",age)\n",
    "    print(\"Marks :\",marks)\n",
    "    print(\"City name:\",city)\n",
    "personal_info(school=\"Bagvati VIdya Mandir\",age=\"8.2\",marks=\"12\",city=\"Smabajinagar\")"
   ]
  },
  {
   "cell_type": "code",
   "execution_count": 113,
   "id": "8dca979c",
   "metadata": {},
   "outputs": [
    {
     "name": "stdout",
     "output_type": "stream",
     "text": [
      "the number 2 is Even\n"
     ]
    }
   ],
   "source": [
    "def even(number):\n",
    "    if number%2==0:\n",
    "        print(\"the number {} is Even\".format(number))\n",
    "    else:\n",
    "        print(\"the number {} is odd\".format(number))\n",
    "even(2)"
   ]
  },
  {
   "cell_type": "code",
   "execution_count": 123,
   "id": "1eba5759",
   "metadata": {},
   "outputs": [
    {
     "name": "stdout",
     "output_type": "stream",
     "text": [
      "[5, 10, 15, 20, 25, 30, 35, 40, 45, 50]\n"
     ]
    }
   ],
   "source": [
    "list1=[1,2,3,4,5,6,7,8,9,10]\n",
    "def multiply(number):\n",
    "    return number*5\n",
    "final_ans=map(multiply,list1)\n",
    "print(list(final_ans))"
   ]
  },
  {
   "cell_type": "code",
   "execution_count": 131,
   "id": "82c2b032",
   "metadata": {},
   "outputs": [
    {
     "data": {
      "text/plain": [
       "62.6"
      ]
     },
     "execution_count": 131,
     "metadata": {},
     "output_type": "execute_result"
    }
   ],
   "source": [
    "def celsius_to_fahrenheit(k):\n",
    "    return (k *9/5)+32\n",
    "celsius_to_fahrenheit(17)"
   ]
  },
  {
   "cell_type": "code",
   "execution_count": 132,
   "id": "125ce5f6",
   "metadata": {},
   "outputs": [
    {
     "name": "stdout",
     "output_type": "stream",
     "text": [
      "[50.0, 73.4, 93.2, 75.2, 131.0]\n"
     ]
    }
   ],
   "source": [
    "def C(k):\n",
    "    return (k *9/5)+32\n",
    "tem_1=[10,23,34,24,55]\n",
    "result=map(celsius_to_fahrenheit,tem_1)\n",
    "print(list(result))"
   ]
  },
  {
   "cell_type": "code",
   "execution_count": 139,
   "id": "156bdb11",
   "metadata": {},
   "outputs": [
    {
     "name": "stdout",
     "output_type": "stream",
     "text": [
      "[False, True, False, True, False, True, False, True, False, True]\n"
     ]
    }
   ],
   "source": [
    "def EVEN(number):\n",
    "    return number%2==0\n",
    "list2=[1,2,3,4,5,6,7,8,9,10]\n",
    "result=map(EVEN,list2)\n",
    "print(list(result))"
   ]
  },
  {
   "cell_type": "code",
   "execution_count": 3,
   "id": "2beb5eab",
   "metadata": {},
   "outputs": [],
   "source": [
    "def get_vowels(string):\n",
    "  vowels = \"aeiouAEIOU\" # A string containing all the vowels\n",
    "  vowel_list = [] # An empty list to store the vowels\n",
    "  for char in string: # Loop over each character in the string\n",
    "    if char in vowels: # Check if the character is a vowel\n",
    "      vowel_list.append(char) # Append the vowel to the list\n",
    "  return vowel_list # Return the list of vowels"
   ]
  },
  {
   "cell_type": "code",
   "execution_count": 4,
   "id": "91362f94",
   "metadata": {},
   "outputs": [
    {
     "name": "stdout",
     "output_type": "stream",
     "text": [
      "['a', 'e']\n",
      "['a', 'a', 'a']\n",
      "['e']\n",
      "['o', 'a', 'e']\n",
      "['e', 'o']\n"
     ]
    }
   ],
   "source": [
    "words1 = [\"apple\", \"banana\", \"cherry\", \"orange\", \"lemon\"]\n",
    "for word in words1:\n",
    "  print(get_vowels(word))"
   ]
  },
  {
   "cell_type": "markdown",
   "id": "93b7082a",
   "metadata": {},
   "source": [
    "## Lambda function"
   ]
  },
  {
   "cell_type": "markdown",
   "id": "105e62c6",
   "metadata": {},
   "source": [
    "when you have list then you can uses following function.......\n",
    "* map---you want each and every element then you can use map function\n",
    "* filter---you want specifice value then you can use filter function\n",
    "* reduce----you want to use only 1 value"
   ]
  },
  {
   "cell_type": "markdown",
   "id": "507d4adf",
   "metadata": {},
   "source": [
    "## Basic"
   ]
  },
  {
   "cell_type": "code",
   "execution_count": 142,
   "id": "83f88bac",
   "metadata": {},
   "outputs": [
    {
     "name": "stdout",
     "output_type": "stream",
     "text": [
      "6\n"
     ]
    }
   ],
   "source": [
    "add1=lambda x,y:x+y\n",
    "print(add1(3,3))"
   ]
  },
  {
   "cell_type": "code",
   "execution_count": 144,
   "id": "9ae23447",
   "metadata": {},
   "outputs": [
    {
     "name": "stdout",
     "output_type": "stream",
     "text": [
      "10\n"
     ]
    }
   ],
   "source": [
    "print((lambda x,y: x+y)(5,5))"
   ]
  },
  {
   "cell_type": "code",
   "execution_count": 200,
   "id": "95c30216",
   "metadata": {},
   "outputs": [
    {
     "data": {
      "text/plain": [
       "100"
      ]
     },
     "execution_count": 200,
     "metadata": {},
     "output_type": "execute_result"
    }
   ],
   "source": [
    "l1=lambda x,y: x*y\n",
    "l1(10,10)"
   ]
  },
  {
   "cell_type": "code",
   "execution_count": 204,
   "id": "a2230099",
   "metadata": {},
   "outputs": [
    {
     "data": {
      "text/plain": [
       "25"
      ]
     },
     "execution_count": 204,
     "metadata": {},
     "output_type": "execute_result"
    }
   ],
   "source": [
    "l5=lambda x: x*x\n",
    "l5(5)"
   ]
  },
  {
   "cell_type": "code",
   "execution_count": 150,
   "id": "f553f8b8",
   "metadata": {},
   "outputs": [
    {
     "data": {
      "text/plain": [
       "100"
      ]
     },
     "execution_count": 150,
     "metadata": {},
     "output_type": "execute_result"
    }
   ],
   "source": [
    "c=lambda c: c*10\n",
    "c(10)"
   ]
  },
  {
   "cell_type": "code",
   "execution_count": 149,
   "id": "685ec913",
   "metadata": {},
   "outputs": [
    {
     "data": {
      "text/plain": [
       "True"
      ]
     },
     "execution_count": 149,
     "metadata": {},
     "output_type": "execute_result"
    }
   ],
   "source": [
    "l2=lambda x: x%2==0\n",
    "l2(16)"
   ]
  },
  {
   "cell_type": "code",
   "execution_count": 151,
   "id": "ec5d75e9",
   "metadata": {},
   "outputs": [
    {
     "name": "stdout",
     "output_type": "stream",
     "text": [
      "50.0\n"
     ]
    }
   ],
   "source": [
    "l3=lambda c:c*9/5 +32\n",
    "print(l3(10))"
   ]
  },
  {
   "cell_type": "code",
   "execution_count": 175,
   "id": "42ff1392",
   "metadata": {},
   "outputs": [
    {
     "name": "stdout",
     "output_type": "stream",
     "text": [
      "percentage of first year\n",
      "0.97\n",
      "----------------------------------------------\n",
      "0.97\n",
      "----------------------------------------------\n",
      "percentage of first year 0.97\n"
     ]
    }
   ],
   "source": [
    "#used basic lambda function\n",
    "l4=lambda x: x/500\n",
    "print(\"percentage of first year\")\n",
    "print(l4(485))\n",
    "\n",
    "\n",
    "print(\"----------------------------------------------\")\n",
    "\n",
    "#used anyonomus function\n",
    "print((lambda x: x/500)(485))\n",
    "print(\"----------------------------------------------\")\n",
    "\n",
    "#used user define function\n",
    "def percentage(x,y):\n",
    "    print(\"percentage of first year\",x/y)\n",
    "percentage(485,500)"
   ]
  },
  {
   "cell_type": "code",
   "execution_count": 197,
   "id": "d99ef4a0",
   "metadata": {},
   "outputs": [
    {
     "name": "stdout",
     "output_type": "stream",
     "text": [
      "49\n"
     ]
    }
   ],
   "source": [
    "from functools import reduce # You need to import this module to use reduce() in Python 3\n",
    "sum_of_list3 = reduce(lambda x, y: x+y, list3)\n",
    "print(sum_of_list3)"
   ]
  },
  {
   "cell_type": "code",
   "execution_count": 196,
   "id": "01784495",
   "metadata": {},
   "outputs": [
    {
     "name": "stdout",
     "output_type": "stream",
     "text": [
      "[2, 4, 8, 6, 4, 10]\n"
     ]
    }
   ],
   "source": [
    "even_list3 = list(filter(lambda x: x%2 == 0, list3))\n",
    "print(even_list3)"
   ]
  },
  {
   "cell_type": "code",
   "execution_count": 195,
   "id": "122b94aa",
   "metadata": {},
   "outputs": [
    {
     "name": "stdout",
     "output_type": "stream",
     "text": [
      "[4, 9, 25, 16, 49, 64, 36, 16, 100]\n"
     ]
    }
   ],
   "source": [
    "squared_list3 = list(map(lambda x: x*x, list3))\n",
    "print(squared_list3)"
   ]
  },
  {
   "cell_type": "code",
   "execution_count": 198,
   "id": "d1047562",
   "metadata": {},
   "outputs": [
    {
     "name": "stdout",
     "output_type": "stream",
     "text": [
      "8\n"
     ]
    }
   ],
   "source": [
    "length=lambda x: len(x)\n",
    "print(length(\"abhishek\"))"
   ]
  },
  {
   "cell_type": "markdown",
   "id": "e61fa544",
   "metadata": {},
   "source": [
    "## map"
   ]
  },
  {
   "cell_type": "code",
   "execution_count": 209,
   "id": "3fd0e1c4",
   "metadata": {},
   "outputs": [
    {
     "name": "stdout",
     "output_type": "stream",
     "text": [
      "[50.0, 73.4, 93.2, 75.2, 131.0]\n"
     ]
    }
   ],
   "source": [
    "tem_3=[10,23,34,24,55]\n",
    "p=list(map(lambda c:c*9/5 +32,tem_1))\n",
    "print(list(p))"
   ]
  },
  {
   "cell_type": "code",
   "execution_count": 8,
   "id": "696e8690",
   "metadata": {
    "scrolled": true
   },
   "outputs": [
    {
     "name": "stdout",
     "output_type": "stream",
     "text": [
      "['a', 'e', 'a', 'a', 'a', 'e', 'o', 'a', 'e', 'e', 'o']\n"
     ]
    }
   ],
   "source": [
    "words1 = [\"apple\", \"banana\", \"cherry\", \"orange\", \"lemon\"]\n",
    "vowels = \"aeiou\" # A string containing all the vowels\n",
    "vowels_from_words1 = [letter for word in words1 for letter in word if letter in vowels]\n",
    "print(vowels_from_words1)"
   ]
  },
  {
   "cell_type": "code",
   "execution_count": 36,
   "id": "c8425336",
   "metadata": {},
   "outputs": [
    {
     "name": "stdout",
     "output_type": "stream",
     "text": [
      "['a', 'e', 'a', 'a', 'a', 'e', 'o', 'a', 'e', 'e', 'o']\n"
     ]
    }
   ],
   "source": [
    "words1 = [\"apple\", \"banana\", \"cherry\", \"orange\", \"lemon\"]\n",
    "vowels = \"aeiou\" # A string containing all the vowels\n",
    "vowels_from_words1 = [c for i in words1 for c in i if c in \"aeiou\"]\n",
    "print(vowels_from_words1)"
   ]
  },
  {
   "cell_type": "code",
   "execution_count": 24,
   "id": "d4f9e99b",
   "metadata": {},
   "outputs": [
    {
     "name": "stdout",
     "output_type": "stream",
     "text": [
      "[2, 3, 1, 3, 2]\n"
     ]
    }
   ],
   "source": [
    "# Define a function that counts the number of vowels in a word\n",
    "def count_vowels(word):\n",
    "    vowels = \"aeiou\"\n",
    "    count = 0\n",
    "    for letter in word.lower():\n",
    "        if letter in vowels:\n",
    "            count += 1\n",
    "    return count\n",
    "\n",
    "# Create a list of words\n",
    "words = [\"apple\", \"banana\", \"cherry\", \"orange\", \"lemon\"]\n",
    "\n",
    "# Use the map function to apply the counting function to the list\n",
    "vowel_counts = map(count_vowels, words)\n",
    "\n",
    "# Convert the map object to a list and print it\n",
    "print(list(vowel_counts)) # [2, 3, 2, 3, 2]"
   ]
  },
  {
   "cell_type": "code",
   "execution_count": 38,
   "id": "9a97d485",
   "metadata": {},
   "outputs": [
    {
     "name": "stdout",
     "output_type": "stream",
     "text": [
      "12\n"
     ]
    }
   ],
   "source": [
    "string=\"hi i am abhishek i am from india\"\n",
    "vowels=[string.count(x)for x in \"aeiou\"]\n",
    "print(sum(vowels))"
   ]
  },
  {
   "cell_type": "code",
   "execution_count": 70,
   "id": "db1ba496",
   "metadata": {},
   "outputs": [
    {
     "name": "stdout",
     "output_type": "stream",
     "text": [
      "[['a', 'e'], ['a', 'a', 'a'], ['e'], ['o', 'a', 'e'], ['e', 'o']]\n"
     ]
    }
   ],
   "source": [
    "words1 = [\"apple\", \"banana\", \"cherry\", \"orange\", \"lemon\"]\n",
    "vowel = list(map(lambda a: list(x for x in a if x in \"aeiou\"), words1))\n",
    "print(vowel)"
   ]
  },
  {
   "cell_type": "code",
   "execution_count": 73,
   "id": "b29699a6",
   "metadata": {},
   "outputs": [
    {
     "name": "stdout",
     "output_type": "stream",
     "text": [
      "[['a', 'i', 'e'], ['u', 'e'], ['a', 'o', 'a'], ['o', 'i'], ['a', 'e']]\n"
     ]
    }
   ],
   "source": [
    "words1 = [\"abhishek\", \"suresh\", \"damodhar\", \"rohit\", \"shanker\"]\n",
    "vowel = lambda a: list(i for i in a if i in \"aeiou\")\n",
    "result=list(map(vowel,words1))\n",
    "print(result)"
   ]
  },
  {
   "cell_type": "code",
   "execution_count": 75,
   "id": "3d8768b3",
   "metadata": {},
   "outputs": [
    {
     "name": "stdout",
     "output_type": "stream",
     "text": [
      "[['o', 'o'], ['i', 'o'], ['e', 'i'], ['u', 'u'], ['a', 'e']]\n"
     ]
    }
   ],
   "source": [
    "words1 = \"opppo\", \"vivo\", \"redmi\", \"sumsung\", \"apple\"\n",
    "vowel = lambda a: list(i for i in a if i in \"aeiou\")\n",
    "result=list(map(vowel,words1))\n",
    "print(result)"
   ]
  },
  {
   "cell_type": "code",
   "execution_count": 89,
   "id": "c10daf2c",
   "metadata": {},
   "outputs": [
    {
     "data": {
      "text/plain": [
       "['abhishek', 'anirudh', 'rohit', 'shanker', 'vitthal']"
      ]
     },
     "execution_count": 89,
     "metadata": {},
     "output_type": "execute_result"
    }
   ],
   "source": [
    "#sorted Alpfabetically\n",
    "words3 = [\"abhishek\", \"shanker\", \"rohit\", \"anirudh\", \"vitthal\"]\n",
    "sorted(words3,key=lambda x:x)"
   ]
  },
  {
   "cell_type": "code",
   "execution_count": 90,
   "id": "83a63b60",
   "metadata": {},
   "outputs": [
    {
     "data": {
      "text/plain": [
       "['rohit', 'shanker', 'anirudh', 'vitthal', 'abhishek']"
      ]
     },
     "execution_count": 90,
     "metadata": {},
     "output_type": "execute_result"
    }
   ],
   "source": [
    "#sorted by length\n",
    "words4 = [\"abhishek\", \"shanker\", \"rohit\", \"anirudh\", \"vitthal\"]\n",
    "sorted(words4,key=lambda x: len(x))"
   ]
  },
  {
   "cell_type": "code",
   "execution_count": 91,
   "id": "3b780e70",
   "metadata": {},
   "outputs": [
    {
     "data": {
      "text/plain": [
       "'d'"
      ]
     },
     "execution_count": 91,
     "metadata": {},
     "output_type": "execute_result"
    }
   ],
   "source": [
    "#finding maximam value in a dictonari\n",
    "data={\"a\":20,\"b\":2,\"c\":16,\"d\":45}\n",
    "max(data,key=lambda x: x)"
   ]
  },
  {
   "cell_type": "code",
   "execution_count": 126,
   "id": "077ad4d6",
   "metadata": {},
   "outputs": [
    {
     "data": {
      "text/plain": [
       "'a'"
      ]
     },
     "execution_count": 126,
     "metadata": {},
     "output_type": "execute_result"
    }
   ],
   "source": [
    "#finding minimum value in a dictonari\n",
    "data={\"a\":20,\"b\":2,\"c\":16,\"d\":45}\n",
    "min(data,key=lambda x: x)"
   ]
  },
  {
   "cell_type": "markdown",
   "id": "7942cfac",
   "metadata": {},
   "source": [
    "## filter"
   ]
  },
  {
   "cell_type": "code",
   "execution_count": 122,
   "id": "fa947292",
   "metadata": {},
   "outputs": [
    {
     "name": "stdout",
     "output_type": "stream",
     "text": [
      "[90, 63]\n",
      "[90, 63]\n",
      "[4, 12, 35, 36, 44, 28]\n"
     ]
    }
   ],
   "source": [
    "a=[4,12,35,36,90,44,63,28]\n",
    "maxwell = [x for x in a if x > 45] # Using list comprehension\n",
    "print(maxwell)\n",
    "maxwell = list(filter(lambda x: x > 45, a)) # Using filter function\n",
    "print(maxwell)\n",
    "maxwell= list(filter(lambda x: x<50,a))\n",
    "print(list(maxwell))"
   ]
  },
  {
   "cell_type": "code",
   "execution_count": 138,
   "id": "cfcf56f8",
   "metadata": {},
   "outputs": [
    {
     "name": "stdout",
     "output_type": "stream",
     "text": [
      "[6, 14, 66]\n"
     ]
    }
   ],
   "source": [
    "list4=[111,37,6,14,21,66,81,31,57]\n",
    "def prime_number(number):\n",
    "    return number%2==0\n",
    "result=list(filter(prime_number,list4))\n",
    "print(result)"
   ]
  },
  {
   "cell_type": "code",
   "execution_count": 140,
   "id": "488cc06a",
   "metadata": {},
   "outputs": [
    {
     "name": "stdout",
     "output_type": "stream",
     "text": [
      "[111, 66, 81, 57]\n"
     ]
    }
   ],
   "source": [
    "def maximam_number(number):\n",
    "    return number>50\n",
    "result=list(filter(maximam_number,list4))\n",
    "print(result)"
   ]
  },
  {
   "cell_type": "code",
   "execution_count": 142,
   "id": "6bcb9382",
   "metadata": {},
   "outputs": [
    {
     "name": "stdout",
     "output_type": "stream",
     "text": [
      "[37, 6, 14, 21, 31]\n"
     ]
    }
   ],
   "source": [
    "def Minimum_Number(number):\n",
    "    return number<50\n",
    "result=list(filter(Minimum_Number,list4))\n",
    "print(result)"
   ]
  },
  {
   "cell_type": "code",
   "execution_count": 145,
   "id": "2a0bf59b",
   "metadata": {},
   "outputs": [
    {
     "name": "stdout",
     "output_type": "stream",
     "text": [
      "[6, 14, 66]\n"
     ]
    }
   ],
   "source": [
    "even_number=list(filter(lambda x: x%2==0,list4))\n",
    "print(even_number)"
   ]
  },
  {
   "cell_type": "code",
   "execution_count": 4,
   "id": "1b6f308b",
   "metadata": {},
   "outputs": [
    {
     "name": "stdout",
     "output_type": "stream",
     "text": [
      "['apple', 'banana', 'orange']\n"
     ]
    }
   ],
   "source": [
    "words1 = [\"apple\", \"banana\", \"cherry\", \"orange\", \"lemon\"]\n",
    "def words(letters):\n",
    "    return 'a' in letters # Returns True if 'a' is in letters, False otherwise\n",
    "result=list(filter(words,words1))\n",
    "print(result)"
   ]
  },
  {
   "cell_type": "code",
   "execution_count": 7,
   "id": "ed7f9597",
   "metadata": {},
   "outputs": [
    {
     "name": "stdout",
     "output_type": "stream",
     "text": [
      "['apple', 'banana', 'orange']\n"
     ]
    }
   ],
   "source": [
    "words1 = [\"apple\", \"banana\", \"cherry\", \"orange\", \"lemon\"]\n",
    "words_with_a = lambda list_of_words: list(filter(words, list_of_words))\n",
    "print(words_with_a(words1))"
   ]
  },
  {
   "cell_type": "code",
   "execution_count": 10,
   "id": "200553f4",
   "metadata": {},
   "outputs": [
    {
     "name": "stdout",
     "output_type": "stream",
     "text": [
      "['apple']\n"
     ]
    }
   ],
   "source": [
    "def letters(world):\n",
    "    return world[0]==\"a\"\n",
    "result=list(filter(letters,words1))\n",
    "print(result)"
   ]
  },
  {
   "cell_type": "code",
   "execution_count": 8,
   "id": "770f74ec",
   "metadata": {},
   "outputs": [
    {
     "name": "stdout",
     "output_type": "stream",
     "text": [
      "['apple']\n"
     ]
    }
   ],
   "source": [
    "words = [\"apple\", \"banana\", \"cherry\", \"orange\", \"lemon\"]\n",
    "words_starting_with_a = filter(lambda word: word[0] == 'a', words)\n",
    "print(list(words_starting_with_a))"
   ]
  },
  {
   "cell_type": "markdown",
   "id": "75fafae5",
   "metadata": {},
   "source": [
    "## Reduce"
   ]
  },
  {
   "cell_type": "code",
   "execution_count": 11,
   "id": "1fb813e0",
   "metadata": {},
   "outputs": [],
   "source": [
    "from functools import reduce"
   ]
  },
  {
   "cell_type": "code",
   "execution_count": 16,
   "id": "5c517fbc",
   "metadata": {},
   "outputs": [
    {
     "name": "stdout",
     "output_type": "stream",
     "text": [
      "131\n"
     ]
    }
   ],
   "source": [
    "number=[10,23,43,25,30]\n",
    "def addition(x,y):\n",
    "    return x+y\n",
    "result=reduce(addition,number)\n",
    "print(result)"
   ]
  },
  {
   "cell_type": "code",
   "execution_count": 18,
   "id": "e4958557",
   "metadata": {},
   "outputs": [
    {
     "name": "stdout",
     "output_type": "stream",
     "text": [
      "131\n"
     ]
    }
   ],
   "source": [
    "result=reduce(lambda x,y: x+y,number)\n",
    "print(result)"
   ]
  },
  {
   "cell_type": "code",
   "execution_count": 23,
   "id": "76b3f55a",
   "metadata": {},
   "outputs": [
    {
     "name": "stdout",
     "output_type": "stream",
     "text": [
      "12\n"
     ]
    }
   ],
   "source": [
    "number=[25,10,2,1,0]\n",
    "def addition(x,y):\n",
    "    return x-y\n",
    "result=reduce(addition,number)\n",
    "print(result)"
   ]
  },
  {
   "cell_type": "code",
   "execution_count": 24,
   "id": "e23535d7",
   "metadata": {},
   "outputs": [
    {
     "name": "stdout",
     "output_type": "stream",
     "text": [
      "12\n"
     ]
    }
   ],
   "source": [
    "result=reduce(lambda x,y: x-y,number)\n",
    "print(result)"
   ]
  },
  {
   "cell_type": "code",
   "execution_count": 26,
   "id": "e3545206",
   "metadata": {},
   "outputs": [
    {
     "name": "stdout",
     "output_type": "stream",
     "text": [
      "451584\n"
     ]
    }
   ],
   "source": [
    "number=[12,14,48,56]\n",
    "def addition(x,y):\n",
    "    return x*y\n",
    "result=reduce(addition,number)\n",
    "print(result)"
   ]
  },
  {
   "cell_type": "code",
   "execution_count": 27,
   "id": "c66eb123",
   "metadata": {},
   "outputs": [
    {
     "name": "stdout",
     "output_type": "stream",
     "text": [
      "451584\n"
     ]
    }
   ],
   "source": [
    "result=reduce(lambda x,y: x*y,number)\n",
    "print(result)"
   ]
  },
  {
   "cell_type": "code",
   "execution_count": 28,
   "id": "6b6df2e0",
   "metadata": {},
   "outputs": [
    {
     "name": "stdout",
     "output_type": "stream",
     "text": [
      "0.00031887755102040814\n"
     ]
    }
   ],
   "source": [
    "number=[12,14,48,56]\n",
    "def addition(x,y):\n",
    "    return x/y\n",
    "result=reduce(addition,number)\n",
    "print(result)"
   ]
  },
  {
   "cell_type": "code",
   "execution_count": 29,
   "id": "b3f1cc6c",
   "metadata": {},
   "outputs": [
    {
     "name": "stdout",
     "output_type": "stream",
     "text": [
      "0.00031887755102040814\n"
     ]
    }
   ],
   "source": [
    "result=reduce(lambda x,y: x/y,number)\n",
    "print(result)"
   ]
  },
  {
   "cell_type": "code",
   "execution_count": 32,
   "id": "0cb3cb2f",
   "metadata": {},
   "outputs": [
    {
     "name": "stdout",
     "output_type": "stream",
     "text": [
      "4411\n"
     ]
    }
   ],
   "source": [
    "numbers=[10,15,31,55,10]\n",
    "result=reduce(lambda x,y:x+y ,map(lambda x: x*x,numbers))\n",
    "print(result)"
   ]
  },
  {
   "cell_type": "markdown",
   "id": "1100dfba",
   "metadata": {},
   "source": [
    "## Numpy"
   ]
  },
  {
   "cell_type": "code",
   "execution_count": 2,
   "id": "22576a75",
   "metadata": {},
   "outputs": [
    {
     "name": "stdout",
     "output_type": "stream",
     "text": [
      "version : 1.25.2\n",
      "--------------------------------------------------------------------\n",
      "[]\n",
      "<class 'numpy.ndarray'>\n",
      "0\n",
      "(0,)\n",
      "0\n",
      "float64\n",
      "1\n",
      "--------------------------------------------------------------------\n",
      "[10 20 30 40 50]\n",
      "<class 'type'>\n",
      "5\n",
      "(5,)\n",
      "5\n",
      "int32\n",
      "1\n",
      "--------------------------------------------------------------------\n",
      "[10 20 30 40 50]\n",
      "<class 'numpy.ndarray'>\n",
      "(5,)\n",
      "5\n",
      "int32\n",
      "1\n",
      "--------------------------------------------------------------------\n",
      "{50, 20, 40, 10, 30}\n",
      "<class 'numpy.ndarray'>\n",
      "()\n",
      "1\n",
      "object\n",
      "0\n",
      "--------------------------------------------------------------------\n",
      "{'a': 10, 'b': 20, 'c': 30}\n",
      "<class 'numpy.ndarray'>\n",
      "()\n",
      "1\n",
      "object\n",
      "0\n",
      "--------------------------------------------------------------------\n",
      "['10' 'True' 'abhishek' '4.4']\n",
      "<class 'numpy.ndarray'>\n",
      "(4,)\n",
      "4\n",
      "<U32\n",
      "1\n",
      "--------------------------------------------------------------------\n",
      "['abhishek' 'suresh' 'vitthal' 'sadhana']\n",
      "<class 'numpy.ndarray'>\n",
      "(4,)\n",
      "4\n",
      "<U8\n",
      "1\n"
     ]
    }
   ],
   "source": [
    "import numpy as np\n",
    "a=np.array([])#empty array\n",
    "print(\"version :\",np.__version__)\n",
    "print(\"--------------------------------------------------------------------\")\n",
    "print(a)\n",
    "print(type(a))\n",
    "print(len(a))\n",
    "print(a.shape)\n",
    "print(a.size)\n",
    "print(a.dtype)\n",
    "print(a.ndim)\n",
    "print(\"--------------------------------------------------------------------\")\n",
    "a=np.array([10,20,30,40,50])\n",
    "print(a)\n",
    "print(type)\n",
    "print(len(a))\n",
    "print(a.shape)\n",
    "print(a.size)\n",
    "print(a.dtype)\n",
    "print(a.ndim)\n",
    "print(\"--------------------------------------------------------------------\")\n",
    "a=np.array((10,20,30,40,50))\n",
    "print(a)\n",
    "print(type(a))\n",
    "print(a.shape)\n",
    "print(a.size)\n",
    "print(a.dtype)\n",
    "print(a.ndim)\n",
    "print(\"--------------------------------------------------------------------\")\n",
    "a=np.array({10,20,30,40,50})\n",
    "print(a)\n",
    "print(type(a))\n",
    "print(a.shape)\n",
    "print(a.size)\n",
    "print(a.dtype)\n",
    "print(a.ndim)\n",
    "print(\"--------------------------------------------------------------------\")\n",
    "a=np.array({\"a\":10,\"b\":20,\"c\":30})\n",
    "print(a)\n",
    "print(type(a))\n",
    "print(a.shape)\n",
    "print(a.size)\n",
    "print(a.dtype)\n",
    "print(a.ndim)\n",
    "print(\"--------------------------------------------------------------------\")\n",
    "a=np.array([10,True,\"abhishek\",4.4])\n",
    "print(a)\n",
    "print(type(a))\n",
    "print(a.shape)\n",
    "print(a.size)\n",
    "print(a.dtype)\n",
    "print(a.ndim)\n",
    "print(\"--------------------------------------------------------------------\")\n",
    "a=np.array([\"abhishek\",\"suresh\",\"vitthal\",\"sadhana\"])\n",
    "print(a)\n",
    "print(type(a))\n",
    "print(a.shape)\n",
    "print(a.size)\n",
    "print(a.dtype)\n",
    "print(a.ndim)"
   ]
  },
  {
   "cell_type": "code",
   "execution_count": 3,
   "id": "42ef113b",
   "metadata": {},
   "outputs": [
    {
     "name": "stdout",
     "output_type": "stream",
     "text": [
      "suresh\n",
      "['sadhana' 'vitthal' 'suresh' 'abhishek']\n",
      "sadhana\n",
      "vitthal\n"
     ]
    }
   ],
   "source": [
    "print(a[1])\n",
    "print(a[::-1])\n",
    "print(a[-1])\n",
    "print(a[2])"
   ]
  },
  {
   "cell_type": "code",
   "execution_count": 37,
   "id": "04a8f26f",
   "metadata": {},
   "outputs": [
    {
     "name": "stdout",
     "output_type": "stream",
     "text": [
      "1\n",
      "2\n",
      "3\n",
      "5\n"
     ]
    }
   ],
   "source": [
    "a=np.array([10,20,30,40,50])#1D array\n",
    "print(a.ndim)\n",
    "a=np.array([[10,20],[30,40],[50,60]])#2D array\n",
    "print(a.ndim)\n",
    "a=np.array([[[10,20,30],[40,50,60],[70,80,90]]])#3D array\n",
    "print(a.ndim)\n",
    "a=np.array([3,3,4,5,6],ndmin=5)\n",
    "print(a.ndim)"
   ]
  },
  {
   "cell_type": "code",
   "execution_count": 35,
   "id": "612dba88",
   "metadata": {},
   "outputs": [
    {
     "name": "stdout",
     "output_type": "stream",
     "text": [
      "[[10 20 30]\n",
      " [12 14 15]\n",
      " [19 17 55]]\n",
      "<class 'numpy.ndarray'>\n",
      "int32\n",
      "3\n",
      "(3, 3)\n",
      "float64\n",
      "[[10. 20. 30.]\n",
      " [12. 14. 15.]\n",
      " [19. 17. 55.]]\n",
      "9\n",
      "2\n",
      "[[10. 20. 30.]\n",
      " [12. 14. 15.]\n",
      " [19. 17. 55.]]\n",
      "[[10. 20. 30.]\n",
      " [12. 14. 15.]\n",
      " [19. 17. 55.]]\n",
      "[[10. 20. 30.]\n",
      " [12. 14. 15.]\n",
      " [19. 17. 55.]]\n"
     ]
    }
   ],
   "source": [
    "list1=[10,20,30]\n",
    "list2=[12,14,15]\n",
    "list3=[19,17,55]\n",
    "a=np.array([list1+list2+list3]).reshape(3,3)\n",
    "print(a)\n",
    "print(type(a))\n",
    "print(a.dtype)\n",
    "print(len(a))\n",
    "print(a.shape)\n",
    "a=a.astype(float)\n",
    "print(a.dtype)\n",
    "print(a)\n",
    "print(a.size)\n",
    "print(a.ndim)\n",
    "print(a)\n",
    "x=a.copy()\n",
    "print(x)\n",
    "y=a.view()\n",
    "print(y)"
   ]
  },
  {
   "cell_type": "code",
   "execution_count": 6,
   "id": "70ca51fb",
   "metadata": {},
   "outputs": [
    {
     "name": "stdout",
     "output_type": "stream",
     "text": [
      "[10. 20. 30. 12. 14. 15. 19. 17. 55.]\n"
     ]
    }
   ],
   "source": [
    "for i in a:\n",
    "    print(i)"
   ]
  },
  {
   "cell_type": "code",
   "execution_count": 7,
   "id": "1d5dc6d3",
   "metadata": {},
   "outputs": [
    {
     "name": "stdout",
     "output_type": "stream",
     "text": [
      "10.0\n",
      "20.0\n",
      "30.0\n",
      "12.0\n",
      "14.0\n",
      "15.0\n",
      "19.0\n",
      "17.0\n",
      "55.0\n"
     ]
    }
   ],
   "source": [
    "for i in np.nditer(a):\n",
    "    print(i)"
   ]
  },
  {
   "cell_type": "code",
   "execution_count": 8,
   "id": "887fcfde",
   "metadata": {},
   "outputs": [
    {
     "name": "stdout",
     "output_type": "stream",
     "text": [
      "[10 20 30 12 14 15 19 17 55]\n"
     ]
    }
   ],
   "source": [
    "list4=np.concatenate((list1,list2,list3))\n",
    "print(list4)"
   ]
  },
  {
   "cell_type": "code",
   "execution_count": 116,
   "id": "fee3d912",
   "metadata": {},
   "outputs": [
    {
     "name": "stdout",
     "output_type": "stream",
     "text": [
      "[array([10, 20, 30]), array([12, 14]), array([15, 19]), array([17, 55])]\n",
      "[array([10, 20, 30, 12, 14]), array([15, 19, 17, 55])]\n"
     ]
    }
   ],
   "source": [
    "a=np.array_split(list4,4)\n",
    "print(a)\n",
    "a=np.array_split(list4,2)\n",
    "print(a)"
   ]
  },
  {
   "cell_type": "code",
   "execution_count": 8,
   "id": "756ed440",
   "metadata": {},
   "outputs": [
    {
     "name": "stdout",
     "output_type": "stream",
     "text": [
      "(array([ 1,  4, 10, 16], dtype=int64),)\n",
      "(array([ 3,  7, 13], dtype=int64),)\n",
      "(array([ 6, 12], dtype=int64),)\n",
      "(array([11], dtype=int64),)\n",
      "(array([], dtype=int64),)\n",
      "-----------------------------------------------\n",
      "1\n"
     ]
    }
   ],
   "source": [
    "a=np.array([1,2,3,4,2,1,8,4,6,7,2,5,8,4,6,9,2,9])\n",
    "b=np.where(a==2)\n",
    "print(b)\n",
    "b=np.where(a==4)\n",
    "print(b)\n",
    "b=np.where(a==8)\n",
    "print(b)\n",
    "b=np.where(a==5)\n",
    "print(b)\n",
    "b=np.where(a==11)\n",
    "print(b)\n",
    "print(\"-----------------------------------------------\")\n",
    "a=np.searchsorted(a,2)\n",
    "print(a)"
   ]
  },
  {
   "cell_type": "code",
   "execution_count": 142,
   "id": "ddfaccf1",
   "metadata": {},
   "outputs": [
    {
     "name": "stdout",
     "output_type": "stream",
     "text": [
      "[['abhishek' 'rohit' 'shanker' 'suresh' 'vitthal']]\n"
     ]
    }
   ],
   "source": [
    "list5=[\"abhishek\",\"suresh\",\"vitthal\",\"shanker\",\"rohit\"]\n",
    "list5=np.array([list5])\n",
    "print(np.sort(list5))"
   ]
  },
  {
   "cell_type": "code",
   "execution_count": 149,
   "id": "65e413aa",
   "metadata": {},
   "outputs": [
    {
     "data": {
      "text/plain": [
       "array(['pratik', 'abhi', 'mobile', 'mode'], dtype='<U6')"
      ]
     },
     "execution_count": 149,
     "metadata": {},
     "output_type": "execute_result"
    }
   ],
   "source": [
    "list6=np.array([\"pratik\",\"vishal\",\"surya\",\"mode\"])\n",
    "list6[1]=\"abhi\"\n",
    "list6[2]=\"mobile\"\n",
    "list6"
   ]
  },
  {
   "cell_type": "code",
   "execution_count": 153,
   "id": "2dd4af02",
   "metadata": {},
   "outputs": [
    {
     "name": "stdout",
     "output_type": "stream",
     "text": [
      "[[[10 12]\n",
      "  [20 14]\n",
      "  [30 15]]]\n"
     ]
    }
   ],
   "source": [
    "arr1=np.dstack((list1,list2))\n",
    "print(arr1)"
   ]
  },
  {
   "cell_type": "code",
   "execution_count": 154,
   "id": "3e377f24",
   "metadata": {},
   "outputs": [
    {
     "name": "stdout",
     "output_type": "stream",
     "text": [
      "[10 20 30 12 14 15]\n"
     ]
    }
   ],
   "source": [
    "arr2=np.hstack((list1,list2))\n",
    "print(arr2)"
   ]
  },
  {
   "cell_type": "code",
   "execution_count": 155,
   "id": "39a61dea",
   "metadata": {},
   "outputs": [
    {
     "name": "stdout",
     "output_type": "stream",
     "text": [
      "[[10 20 30]\n",
      " [12 14 15]]\n"
     ]
    }
   ],
   "source": [
    "arr3=np.vstack((list1,list2))\n",
    "print(arr3)"
   ]
  },
  {
   "cell_type": "code",
   "execution_count": 160,
   "id": "f927a22c",
   "metadata": {},
   "outputs": [
    {
     "name": "stdout",
     "output_type": "stream",
     "text": [
      "[[0. 0. 0. 0. 0.]\n",
      " [0. 0. 0. 0. 0.]\n",
      " [0. 0. 0. 0. 0.]\n",
      " [0. 0. 0. 0. 0.]\n",
      " [0. 0. 0. 0. 0.]]\n"
     ]
    }
   ],
   "source": [
    "print(np.zeros((5,5)))"
   ]
  },
  {
   "cell_type": "code",
   "execution_count": 161,
   "id": "797ac9b1",
   "metadata": {},
   "outputs": [
    {
     "name": "stdout",
     "output_type": "stream",
     "text": [
      "[[1. 1. 1. 1. 1.]\n",
      " [1. 1. 1. 1. 1.]\n",
      " [1. 1. 1. 1. 1.]\n",
      " [1. 1. 1. 1. 1.]\n",
      " [1. 1. 1. 1. 1.]]\n"
     ]
    }
   ],
   "source": [
    "print(np.ones((5,5)))"
   ]
  },
  {
   "cell_type": "code",
   "execution_count": 164,
   "id": "1331e861",
   "metadata": {},
   "outputs": [
    {
     "name": "stdout",
     "output_type": "stream",
     "text": [
      "[[1. 0. 0. 0. 0.]\n",
      " [0. 1. 0. 0. 0.]\n",
      " [0. 0. 1. 0. 0.]\n",
      " [0. 0. 0. 1. 0.]\n",
      " [0. 0. 0. 0. 1.]]\n"
     ]
    }
   ],
   "source": [
    "print(np.eye((5)))"
   ]
  },
  {
   "cell_type": "code",
   "execution_count": 169,
   "id": "cc603ec1",
   "metadata": {},
   "outputs": [
    {
     "name": "stdout",
     "output_type": "stream",
     "text": [
      "[[2 2 2 2 2 2]\n",
      " [2 2 2 2 2 2]\n",
      " [2 2 2 2 2 2]\n",
      " [2 2 2 2 2 2]\n",
      " [2 2 2 2 2 2]]\n"
     ]
    }
   ],
   "source": [
    "print(np.full((5,6),2))"
   ]
  },
  {
   "cell_type": "code",
   "execution_count": 8,
   "id": "9f077b8a",
   "metadata": {},
   "outputs": [
    {
     "name": "stdout",
     "output_type": "stream",
     "text": [
      "[[4.67296746e-307 1.69121096e-306 4.67293691e-307 1.33511018e-306\n",
      "  1.33511969e-306]\n",
      " [6.23037996e-307 6.23053954e-307 9.34609790e-307 8.45593934e-307\n",
      "  9.34600963e-307]\n",
      " [1.86921143e-306 6.23061763e-307 8.90104239e-307 6.89804132e-307\n",
      "  9.34605716e-307]\n",
      " [1.37962456e-306 1.42418172e-306 8.06609645e-308 6.89810244e-307\n",
      "  1.22387550e-307]\n",
      " [2.22522596e-306 8.34423917e-308 1.11261162e-306 1.78021527e-306\n",
      "  2.46151512e-312]]\n"
     ]
    }
   ],
   "source": [
    "import numpy as np\n",
    "print(np.empty((5,5)))"
   ]
  },
  {
   "cell_type": "code",
   "execution_count": 6,
   "id": "b9bf0610",
   "metadata": {},
   "outputs": [
    {
     "name": "stdout",
     "output_type": "stream",
     "text": [
      "[0 1 2 3]\n",
      "[10 11 12 13 14 15 16 17 18 19]\n",
      "[10 12 14 16 18]\n"
     ]
    }
   ],
   "source": [
    "print(np.arange(4))\n",
    "print(np.arange(10,20))\n",
    "print(np.arange(10,20,2))"
   ]
  },
  {
   "cell_type": "code",
   "execution_count": 249,
   "id": "1ca1ec10",
   "metadata": {},
   "outputs": [
    {
     "name": "stdout",
     "output_type": "stream",
     "text": [
      "[ 0.          0.20408163  0.40816327  0.6122449   0.81632653  1.02040816\n",
      "  1.2244898   1.42857143  1.63265306  1.83673469  2.04081633  2.24489796\n",
      "  2.44897959  2.65306122  2.85714286  3.06122449  3.26530612  3.46938776\n",
      "  3.67346939  3.87755102  4.08163265  4.28571429  4.48979592  4.69387755\n",
      "  4.89795918  5.10204082  5.30612245  5.51020408  5.71428571  5.91836735\n",
      "  6.12244898  6.32653061  6.53061224  6.73469388  6.93877551  7.14285714\n",
      "  7.34693878  7.55102041  7.75510204  7.95918367  8.16326531  8.36734694\n",
      "  8.57142857  8.7755102   8.97959184  9.18367347  9.3877551   9.59183673\n",
      "  9.79591837 10.        ]\n"
     ]
    }
   ],
   "source": [
    "print(np.linspace(0,10))"
   ]
  },
  {
   "cell_type": "code",
   "execution_count": 185,
   "id": "c4ebeb3f",
   "metadata": {},
   "outputs": [
    {
     "name": "stdout",
     "output_type": "stream",
     "text": [
      "[0.61504351]\n",
      "[0.76582754 0.61396027 0.59272127 0.68911839 0.56829927 0.23068779\n",
      " 0.66236279 0.64512416 0.6707885  0.91727039]\n"
     ]
    }
   ],
   "source": [
    "print(np.random.random((1)))\n",
    "print(np.random.random((10)))"
   ]
  },
  {
   "cell_type": "code",
   "execution_count": 191,
   "id": "48933400",
   "metadata": {},
   "outputs": [
    {
     "name": "stdout",
     "output_type": "stream",
     "text": [
      "40\n"
     ]
    }
   ],
   "source": [
    "import random\n",
    "print(random.randint(0,50))"
   ]
  },
  {
   "cell_type": "code",
   "execution_count": 208,
   "id": "76dd005e",
   "metadata": {},
   "outputs": [
    {
     "name": "stdout",
     "output_type": "stream",
     "text": [
      "[10, 20, 30]\n",
      "[12, 14, 15]\n",
      "[22 34 45]\n",
      "[-2  6 15]\n",
      "[120 280 450]\n",
      "[0.83333333 1.42857143 2.        ]\n"
     ]
    }
   ],
   "source": [
    "print(list1)\n",
    "print(list2)\n",
    "print(np.add(list1,list2))\n",
    "print(np.subtract(list1,list2))\n",
    "print(np.multiply(list1,list2))\n",
    "print(np.divide(list1,list2))"
   ]
  },
  {
   "cell_type": "code",
   "execution_count": 212,
   "id": "a75343b8",
   "metadata": {},
   "outputs": [
    {
     "name": "stdout",
     "output_type": "stream",
     "text": [
      "1\n",
      "18\n",
      "6.2727272727272725\n",
      "[ 1  6 10 18 21 27 31 38 46 51 69]\n",
      "69\n",
      "4.223116236122522\n",
      "[ 1  5  4  8  3  6  4  7  8  5 18]\n"
     ]
    }
   ],
   "source": [
    "s=np.array([1,5,4,8,3,6,4,7,8,5,18])\n",
    "print(s.min())\n",
    "print(s.max())\n",
    "print(s.mean())\n",
    "print(s.cumsum())\n",
    "print(s.sum())\n",
    "print(s.std())\n",
    "print(s.ravel())"
   ]
  },
  {
   "cell_type": "code",
   "execution_count": 213,
   "id": "94c6815b",
   "metadata": {},
   "outputs": [],
   "source": [
    "#i=np.transpose(a)\n",
    "#a=np.delete(a,[6])\n",
    "#a=np.append(b,2)\n",
    "#kkk=np.insert(b,1,2)"
   ]
  },
  {
   "cell_type": "code",
   "execution_count": 26,
   "id": "64debc51",
   "metadata": {},
   "outputs": [
    {
     "name": "stdout",
     "output_type": "stream",
     "text": [
      "{'a': 4, 'b': 2, 'c': 5}\n",
      "<class 'numpy.ndarray'>\n",
      "object\n",
      "0\n",
      "1\n",
      "()\n"
     ]
    }
   ],
   "source": [
    "a=np.array([1,2,3,4,5,6])\n",
    "a=np.array((1,2,3,4,5))\n",
    "b=np.array({1,2,4,5,6,7})\n",
    "a=np.array({\"a\":4,\"b\":2,\"c\":5})\n",
    "print(a)\n",
    "print(type(a))\n",
    "print(a.dtype)\n",
    "print(a.ndim)\n",
    "print(a.size)\n",
    "print(a.shape)"
   ]
  },
  {
   "cell_type": "code",
   "execution_count": 42,
   "id": "d3354e52",
   "metadata": {},
   "outputs": [
    {
     "name": "stdout",
     "output_type": "stream",
     "text": [
      "[10]\n",
      "Number of dimention : 1\n",
      "[[10 20 40 50]]\n",
      "Number of dimention : 2\n",
      "[[[10 20 50 40 70]]]\n",
      "Number of dimention : 3\n",
      "[[[[10 20 30 40 50 60]]]]\n",
      "Number of dimention : 4\n",
      "------------------------------------------------\n",
      "[[[[[[[[[[10 20 30 40 50 60]]]]]]]]]]\n",
      "Number of dimention : 10\n"
     ]
    }
   ],
   "source": [
    "a=np.array([10])\n",
    "print(a)\n",
    "print(\"Number of dimention :\",a.ndim)\n",
    "a=np.array([[10,20,40,50]])\n",
    "print(a)\n",
    "print(\"Number of dimention :\",a.ndim)\n",
    "a=np.array([[[10,20,50,40,70]]])\n",
    "print(a)\n",
    "print(\"Number of dimention :\",a.ndim)\n",
    "a=np.array([[[[10,20,30,40,50,60]]]])\n",
    "print(a)\n",
    "print(\"Number of dimention :\",a.ndim)  \n",
    "print(\"------------------------------------------------\")\n",
    "a=np.array([10,20,30,40,50,60],ndmin=10)\n",
    "print(a)\n",
    "print(\"Number of dimention :\",a.ndim)"
   ]
  },
  {
   "cell_type": "code",
   "execution_count": 54,
   "id": "aaeca4ed",
   "metadata": {},
   "outputs": [
    {
     "name": "stdout",
     "output_type": "stream",
     "text": [
      "[50 10 20 40 80 70 78 79 45 12 12 45 25 78 65]\n",
      "[[50 10 20]\n",
      " [40 80 70]\n",
      " [78 79 45]\n",
      " [12 12 45]\n",
      " [25 78 65]]\n",
      "int32\n",
      "[50. 10. 20. 40. 80. 70. 78. 79. 45. 12. 12. 45. 25. 78. 65.]\n",
      "[[50. 10. 20.]\n",
      " [40. 80. 70.]\n",
      " [78. 79. 45.]\n",
      " [12. 12. 45.]\n",
      " [25. 78. 65.]]\n"
     ]
    }
   ],
   "source": [
    "list1=[50,10,20,40,80]\n",
    "list2=[70,78,79,45,12]\n",
    "list3=[12,45,25,78,65]\n",
    "a=np.array((list1+list2+list3))\n",
    "print(a)\n",
    "print(a.reshape(5,3))\n",
    "print(a.dtype)\n",
    "a=a.astype(float)\n",
    "print(a)\n",
    "print(a.reshape(5,3))"
   ]
  },
  {
   "cell_type": "code",
   "execution_count": 58,
   "id": "360eeda8",
   "metadata": {},
   "outputs": [
    {
     "name": "stdout",
     "output_type": "stream",
     "text": [
      "[[50 10 20]\n",
      " [40 80 70]\n",
      " [78 79 45]\n",
      " [12 12 45]\n",
      " [25 78 65]]\n",
      "(5, 3)\n"
     ]
    }
   ],
   "source": [
    "a=np.concatenate((list1,list2,list3)).reshape(5,3)\n",
    "print(a)\n",
    "print(a.shape)"
   ]
  },
  {
   "cell_type": "code",
   "execution_count": 66,
   "id": "9db68416",
   "metadata": {},
   "outputs": [
    {
     "name": "stdout",
     "output_type": "stream",
     "text": [
      "[array([50, 10, 20]), array([40, 80])]\n",
      "[array([70, 78]), array([79, 45]), array([12])]\n"
     ]
    }
   ],
   "source": [
    "a=np.array_split(list1,2)\n",
    "print(a)\n",
    "a=np.array_split(list2,3)\n",
    "print(a)"
   ]
  },
  {
   "cell_type": "code",
   "execution_count": 193,
   "id": "8d04e37c",
   "metadata": {},
   "outputs": [
    {
     "name": "stdout",
     "output_type": "stream",
     "text": [
      "[1 1 2 3 4 4 5 5 5 6 6 7 8 8 9]\n",
      "['abhi' 'apple' 'jackfruit' 'mango' 'pumkin']\n"
     ]
    }
   ],
   "source": [
    "a=np.array([1,5,4,2,3,6,1,8,9,5,6,4,7,8,5])\n",
    "b=np.array([\"apple\",\"mango\",\"abhi\",\"jackfruit\",\"pumkin\"])\n",
    "print(np.sort(a))\n",
    "print(np.sort((b)))"
   ]
  },
  {
   "cell_type": "code",
   "execution_count": 104,
   "id": "8d1d0ddf",
   "metadata": {},
   "outputs": [
    {
     "name": "stdout",
     "output_type": "stream",
     "text": [
      "(array([3], dtype=int64),)\n"
     ]
    }
   ],
   "source": [
    "b=np.where(a==2)\n",
    "print(b)"
   ]
  },
  {
   "cell_type": "code",
   "execution_count": 105,
   "id": "595fb635",
   "metadata": {},
   "outputs": [
    {
     "name": "stdout",
     "output_type": "stream",
     "text": [
      "(array([ 1,  9, 14], dtype=int64),)\n"
     ]
    }
   ],
   "source": [
    "c=np.where(a==5)\n",
    "print(c)"
   ]
  },
  {
   "cell_type": "code",
   "execution_count": 106,
   "id": "3451be9a",
   "metadata": {},
   "outputs": [
    {
     "name": "stdout",
     "output_type": "stream",
     "text": [
      "[ 1  5  4  2  3 60  1  8  9  5  6  4  7 80  5]\n"
     ]
    }
   ],
   "source": [
    "a[5]=60\n",
    "a[13]=80\n",
    "print(a)"
   ]
  },
  {
   "cell_type": "code",
   "execution_count": 113,
   "id": "56d8a6dd",
   "metadata": {},
   "outputs": [
    {
     "name": "stdout",
     "output_type": "stream",
     "text": [
      "<class 'numpy.ndarray'>\n"
     ]
    }
   ],
   "source": [
    "b=np.array([\"apple\",\"mango\",\"abhi\",\"jackfruit\",\"pumkin\"])\n",
    "print(type(b))\n",
    "b[1]=\"MNAGO\"\n",
    "b[2]=\"ABHISHEK\""
   ]
  },
  {
   "cell_type": "code",
   "execution_count": 114,
   "id": "1e23b229",
   "metadata": {},
   "outputs": [
    {
     "name": "stdout",
     "output_type": "stream",
     "text": [
      "['apple' 'MNAGO' 'ABHISHEK' 'jackfruit' 'pumkin']\n"
     ]
    }
   ],
   "source": [
    "print(b)"
   ]
  },
  {
   "cell_type": "code",
   "execution_count": 115,
   "id": "0f8ade59",
   "metadata": {},
   "outputs": [
    {
     "name": "stdout",
     "output_type": "stream",
     "text": [
      "[[[ 1  5  4  2  3 60  1  8  9  5  6  4  7 80  5]]]\n"
     ]
    }
   ],
   "source": [
    "print(np.dstack((a)))"
   ]
  },
  {
   "cell_type": "code",
   "execution_count": 116,
   "id": "326089bf",
   "metadata": {},
   "outputs": [
    {
     "name": "stdout",
     "output_type": "stream",
     "text": [
      "[[ 1]\n",
      " [ 5]\n",
      " [ 4]\n",
      " [ 2]\n",
      " [ 3]\n",
      " [60]\n",
      " [ 1]\n",
      " [ 8]\n",
      " [ 9]\n",
      " [ 5]\n",
      " [ 6]\n",
      " [ 4]\n",
      " [ 7]\n",
      " [80]\n",
      " [ 5]]\n"
     ]
    }
   ],
   "source": [
    "print(np.vstack(a))"
   ]
  },
  {
   "cell_type": "code",
   "execution_count": 117,
   "id": "7f8caca6",
   "metadata": {},
   "outputs": [
    {
     "name": "stdout",
     "output_type": "stream",
     "text": [
      "[ 1  5  4  2  3 60  1  8  9  5  6  4  7 80  5]\n"
     ]
    }
   ],
   "source": [
    "print(np.hstack(a))"
   ]
  },
  {
   "cell_type": "code",
   "execution_count": 123,
   "id": "542d3332",
   "metadata": {},
   "outputs": [
    {
     "name": "stdout",
     "output_type": "stream",
     "text": [
      "[0. 0. 0. 0. 0.]\n",
      "--------------------\n",
      "[[0. 0. 0. 0. 0.]\n",
      " [0. 0. 0. 0. 0.]\n",
      " [0. 0. 0. 0. 0.]\n",
      " [0. 0. 0. 0. 0.]\n",
      " [0. 0. 0. 0. 0.]]\n"
     ]
    }
   ],
   "source": [
    "print(np.zeros(5))\n",
    "print(\"--------------------\")\n",
    "print(np.zeros((5,5)))"
   ]
  },
  {
   "cell_type": "code",
   "execution_count": 125,
   "id": "ee06523b",
   "metadata": {},
   "outputs": [
    {
     "name": "stdout",
     "output_type": "stream",
     "text": [
      "[1. 1. 1. 1. 1. 1. 1. 1. 1. 1.]\n",
      "-----------------\n",
      "[[1. 1. 1. 1. 1.]\n",
      " [1. 1. 1. 1. 1.]\n",
      " [1. 1. 1. 1. 1.]\n",
      " [1. 1. 1. 1. 1.]\n",
      " [1. 1. 1. 1. 1.]]\n"
     ]
    }
   ],
   "source": [
    "print(np.ones(10))\n",
    "print(\"-----------------\")\n",
    "print(np.ones((5,5)))"
   ]
  },
  {
   "cell_type": "code",
   "execution_count": 133,
   "id": "6f82c168",
   "metadata": {},
   "outputs": [
    {
     "name": "stdout",
     "output_type": "stream",
     "text": [
      "[[1. 0. 0. 0. 0.]\n",
      " [0. 1. 0. 0. 0.]\n",
      " [0. 0. 1. 0. 0.]\n",
      " [0. 0. 0. 1. 0.]\n",
      " [0. 0. 0. 0. 1.]]\n"
     ]
    },
    {
     "data": {
      "text/plain": [
       "array([[1., 0., 0., 0., 0.],\n",
       "       [0., 1., 0., 0., 0.],\n",
       "       [0., 0., 1., 0., 0.],\n",
       "       [0., 0., 0., 1., 0.],\n",
       "       [0., 0., 0., 0., 1.]])"
      ]
     },
     "execution_count": 133,
     "metadata": {},
     "output_type": "execute_result"
    }
   ],
   "source": [
    "print(np.eye(5))\n",
    "np.eye(5,5)"
   ]
  },
  {
   "cell_type": "code",
   "execution_count": 138,
   "id": "823b30b1",
   "metadata": {},
   "outputs": [
    {
     "name": "stdout",
     "output_type": "stream",
     "text": [
      "[[2 2 2 2 2]\n",
      " [2 2 2 2 2]\n",
      " [2 2 2 2 2]\n",
      " [2 2 2 2 2]\n",
      " [2 2 2 2 2]]\n"
     ]
    }
   ],
   "source": [
    "print(np.full((5,5),2))"
   ]
  },
  {
   "cell_type": "code",
   "execution_count": 139,
   "id": "67366f02",
   "metadata": {},
   "outputs": [
    {
     "name": "stdout",
     "output_type": "stream",
     "text": [
      "[[1. 0. 0. 0. 0.]\n",
      " [0. 1. 0. 0. 0.]\n",
      " [0. 0. 1. 0. 0.]\n",
      " [0. 0. 0. 1. 0.]\n",
      " [0. 0. 0. 0. 1.]]\n"
     ]
    }
   ],
   "source": [
    "print(np.empty((5,5)))"
   ]
  },
  {
   "cell_type": "code",
   "execution_count": 148,
   "id": "e2aa5100",
   "metadata": {},
   "outputs": [
    {
     "name": "stdout",
     "output_type": "stream",
     "text": [
      "[ 0  2  4  6  8 10 12 14 16 18 20 22 24 26 28 30 32 34 36 38 40 42 44 46\n",
      " 48 50]\n"
     ]
    }
   ],
   "source": [
    "print(np.arange(0,51,2))"
   ]
  },
  {
   "cell_type": "code",
   "execution_count": 149,
   "id": "54d675de",
   "metadata": {},
   "outputs": [
    {
     "name": "stdout",
     "output_type": "stream",
     "text": [
      "[0 1 2 3 4 5 6 7 8 9]\n"
     ]
    }
   ],
   "source": [
    "print(np.arange(10))"
   ]
  },
  {
   "cell_type": "code",
   "execution_count": 165,
   "id": "5abab611",
   "metadata": {},
   "outputs": [
    {
     "name": "stdout",
     "output_type": "stream",
     "text": [
      "[ 0.          0.20408163  0.40816327  0.6122449   0.81632653  1.02040816\n",
      "  1.2244898   1.42857143  1.63265306  1.83673469  2.04081633  2.24489796\n",
      "  2.44897959  2.65306122  2.85714286  3.06122449  3.26530612  3.46938776\n",
      "  3.67346939  3.87755102  4.08163265  4.28571429  4.48979592  4.69387755\n",
      "  4.89795918  5.10204082  5.30612245  5.51020408  5.71428571  5.91836735\n",
      "  6.12244898  6.32653061  6.53061224  6.73469388  6.93877551  7.14285714\n",
      "  7.34693878  7.55102041  7.75510204  7.95918367  8.16326531  8.36734694\n",
      "  8.57142857  8.7755102   8.97959184  9.18367347  9.3877551   9.59183673\n",
      "  9.79591837 10.        ]\n"
     ]
    }
   ],
   "source": [
    "print(np.linspace(0,10))\n"
   ]
  },
  {
   "cell_type": "code",
   "execution_count": 167,
   "id": "37d03fff",
   "metadata": {},
   "outputs": [
    {
     "name": "stdout",
     "output_type": "stream",
     "text": [
      "[0.68957668 0.10635625 0.47713042 0.33068455 0.87695341 0.7922936\n",
      " 0.76090104 0.16647984 0.21968625 0.81038808]\n",
      "----------------------------------------------\n",
      "[0.42588533 0.14996245 0.47717387 0.50264085 0.19416813 0.271252\n",
      " 0.56735472 0.62171524 0.41701567 0.21160353 0.81379861 0.40179497\n",
      " 0.15219489 0.80219236 0.2067731  0.49625646 0.38488603 0.74239123\n",
      " 0.6801664  0.15478464]\n"
     ]
    }
   ],
   "source": [
    "print(np.random.random(10)) #you can get different value every time \n",
    "print(\"----------------------------------------------\")\n",
    "print(np.random.random(20))"
   ]
  },
  {
   "cell_type": "code",
   "execution_count": 252,
   "id": "62a50c7c",
   "metadata": {},
   "outputs": [
    {
     "name": "stdout",
     "output_type": "stream",
     "text": [
      "Different Value 7\n",
      "Different Value [ 4 15  7 16  3]\n"
     ]
    }
   ],
   "source": [
    "import random #you can get different value every time \n",
    "print(\"Different Value\",np.random.randint(10))\n",
    "print(\"Different Value\",np.random.randint(0,20,5))"
   ]
  },
  {
   "cell_type": "code",
   "execution_count": 232,
   "id": "659e762e",
   "metadata": {},
   "outputs": [],
   "source": [
    "x=np.array([10,20,30,40,50])\n",
    "y=np.array([5,10,15,20,25])"
   ]
  },
  {
   "cell_type": "code",
   "execution_count": 233,
   "id": "62dde94c",
   "metadata": {},
   "outputs": [
    {
     "name": "stdout",
     "output_type": "stream",
     "text": [
      "[10 20 30 40 50]\n",
      "[ 5 10 15 20 25]\n"
     ]
    }
   ],
   "source": [
    "print(x)\n",
    "print(y)"
   ]
  },
  {
   "cell_type": "code",
   "execution_count": 234,
   "id": "2a5eacac",
   "metadata": {},
   "outputs": [
    {
     "name": "stdout",
     "output_type": "stream",
     "text": [
      "-------------ADDITION--------------------\n",
      "[15 30 45 60 75]\n",
      "-------------SUBTRACTION--------------------\n",
      "[ 5 10 15 20 25]\n",
      "-------------MULTIPLICATION--------------------\n",
      "[  50  200  450  800 1250]\n",
      "-------------DIVITION--------------------\n",
      "[2. 2. 2. 2. 2.]\n"
     ]
    }
   ],
   "source": [
    "print(\"-------------ADDITION--------------------\")\n",
    "print(np.add(x,y))\n",
    "print(\"-------------SUBTRACTION--------------------\")\n",
    "print(np.subtract(x,y))\n",
    "print(\"-------------MULTIPLICATION--------------------\")\n",
    "print(np.multiply(x,y))\n",
    "print(\"-------------DIVITION--------------------\")\n",
    "print(np.divide(x,y))"
   ]
  },
  {
   "cell_type": "code",
   "execution_count": 238,
   "id": "5eb395ba",
   "metadata": {},
   "outputs": [
    {
     "name": "stdout",
     "output_type": "stream",
     "text": [
      " Sum of x     : 150\n",
      " Sum of y     : 75\n",
      " Minimum of x : 10\n",
      " Minimum of y : 5\n",
      " Maximam of x : 50\n",
      " Maximam of y : 25\n",
      " Mean of x    : 30.0\n",
      " Mean of y    : 15.0\n",
      " std of x     : 14.142135623730951\n",
      " std of y     : 7.0710678118654755\n",
      " Cumsum of x  : [ 10  30  60 100 150]\n",
      " Cumsum of y  : [ 5 15 30 50 75]\n",
      " Ravel of x   : [10 20 30 40 50]\n",
      " Ravel of y   : [ 5 10 15 20 25]\n"
     ]
    }
   ],
   "source": [
    "print(\" Sum of x     :\", np.sum(x))\n",
    "print(\" Sum of y     :\", np.sum(y))\n",
    "print(\" Minimum of x :\", np.min(x))\n",
    "print(\" Minimum of y :\", np.min(y))\n",
    "print(\" Maximam of x :\", np.max(x))\n",
    "print(\" Maximam of y :\", np.max(y))\n",
    "print(\" Mean of x    :\", np.mean(x))\n",
    "print(\" Mean of y    :\", np.mean(y))\n",
    "print(\" std of x     :\", np.std(x))\n",
    "print(\" std of y     :\", np.std(y))\n",
    "print(\" Cumsum of x  :\", np.cumsum(x))\n",
    "print(\" Cumsum of y  :\", np.cumsum(y))\n",
    "print(\" Ravel of x   :\", np.ravel(x))\n",
    "print(\" Ravel of y   :\", np.ravel(y))"
   ]
  },
  {
   "cell_type": "code",
   "execution_count": 236,
   "id": "4ec43ffc",
   "metadata": {},
   "outputs": [
    {
     "name": "stdout",
     "output_type": "stream",
     "text": [
      "[10 20 30 40 50]\n"
     ]
    }
   ],
   "source": [
    "print(np.transpose(x))"
   ]
  },
  {
   "cell_type": "code",
   "execution_count": 242,
   "id": "afd67d2f",
   "metadata": {},
   "outputs": [
    {
     "name": "stdout",
     "output_type": "stream",
     "text": [
      "[10 20 40 50]\n"
     ]
    }
   ],
   "source": [
    "print(np.delete(x,[2]))"
   ]
  },
  {
   "cell_type": "code",
   "execution_count": 246,
   "id": "463cb9f5",
   "metadata": {},
   "outputs": [
    {
     "name": "stdout",
     "output_type": "stream",
     "text": [
      "[10 20 30 40 50 60]\n"
     ]
    }
   ],
   "source": [
    "print(np.append(x,60))"
   ]
  },
  {
   "cell_type": "code",
   "execution_count": 247,
   "id": "01b7a9a9",
   "metadata": {},
   "outputs": [
    {
     "name": "stdout",
     "output_type": "stream",
     "text": [
      "[100  10  20  30  40  50]\n"
     ]
    }
   ],
   "source": [
    "print(np.insert(x,0,100))"
   ]
  },
  {
   "cell_type": "code",
   "execution_count": 256,
   "id": "a343ddf4",
   "metadata": {},
   "outputs": [
    {
     "name": "stdout",
     "output_type": "stream",
     "text": [
      "[[50 10 20 40 80]\n",
      " [70 78 79 45 12]\n",
      " [12 45 25 78 65]]\n"
     ]
    }
   ],
   "source": [
    "list1=[50,10,20,40,80]\n",
    "list2=[70,78,79,45,12]\n",
    "list3=[12,45,25,78,65]\n",
    "a=np.array((list1+list2+list3)).reshape(3,5)\n",
    "print(a)"
   ]
  },
  {
   "cell_type": "code",
   "execution_count": 257,
   "id": "5e006972",
   "metadata": {},
   "outputs": [
    {
     "data": {
      "text/plain": [
       "array([[12, 45, 25, 78, 65],\n",
       "       [70, 78, 79, 45, 12],\n",
       "       [50, 10, 20, 40, 80]])"
      ]
     },
     "execution_count": 257,
     "metadata": {},
     "output_type": "execute_result"
    }
   ],
   "source": [
    "a[::-1]"
   ]
  },
  {
   "cell_type": "code",
   "execution_count": 261,
   "id": "e0cc8729",
   "metadata": {},
   "outputs": [
    {
     "data": {
      "text/plain": [
       "array([80, 12, 65])"
      ]
     },
     "execution_count": 261,
     "metadata": {},
     "output_type": "execute_result"
    }
   ],
   "source": [
    "a[:,4]"
   ]
  },
  {
   "cell_type": "code",
   "execution_count": 293,
   "id": "08eda118",
   "metadata": {},
   "outputs": [
    {
     "data": {
      "text/plain": [
       "array([65, 78, 25, 45, 12])"
      ]
     },
     "execution_count": 293,
     "metadata": {},
     "output_type": "execute_result"
    }
   ],
   "source": [
    "a[-1][5::-1]"
   ]
  },
  {
   "cell_type": "markdown",
   "id": "b054c8b5",
   "metadata": {},
   "source": [
    "## Pandas"
   ]
  },
  {
   "cell_type": "code",
   "execution_count": 87,
   "id": "1ce3552a",
   "metadata": {},
   "outputs": [],
   "source": [
    "import pandas as pd"
   ]
  },
  {
   "cell_type": "code",
   "execution_count": 88,
   "id": "8300a255",
   "metadata": {},
   "outputs": [
    {
     "name": "stdout",
     "output_type": "stream",
     "text": [
      "0    1\n",
      "1    2\n",
      "2    3\n",
      "3    4\n",
      "4    5\n",
      "dtype: int64\n",
      "--------------One Deminention------------------\n",
      "a    1\n",
      "b    2\n",
      "c    3\n",
      "d    4\n",
      "dtype: int64\n"
     ]
    }
   ],
   "source": [
    "a=[1,2,3,4,5]\n",
    "data=pd.Series(a)\n",
    "print(data)\n",
    "print(\"--------------One Deminention------------------\")\n",
    "data=pd.Series((1,2,3,4),index=[\"a\",\"b\",\"c\",\"d\"])\n",
    "print(data)"
   ]
  },
  {
   "cell_type": "code",
   "execution_count": 89,
   "id": "ede58f25",
   "metadata": {},
   "outputs": [
    {
     "name": "stderr",
     "output_type": "stream",
     "text": [
      "C:\\Users\\ASUS\\AppData\\Local\\Temp\\ipykernel_24964\\3862107824.py:1: FutureWarning: Series.__getitem__ treating keys as positions is deprecated. In a future version, integer keys will always be treated as labels (consistent with DataFrame behavior). To access a value by position, use `ser.iloc[pos]`\n",
      "  data[1]\n"
     ]
    },
    {
     "data": {
      "text/plain": [
       "2"
      ]
     },
     "execution_count": 89,
     "metadata": {},
     "output_type": "execute_result"
    }
   ],
   "source": [
    "data[1]"
   ]
  },
  {
   "cell_type": "code",
   "execution_count": 90,
   "id": "71de39c5",
   "metadata": {},
   "outputs": [
    {
     "name": "stderr",
     "output_type": "stream",
     "text": [
      "C:\\Users\\ASUS\\AppData\\Local\\Temp\\ipykernel_24964\\977688468.py:1: FutureWarning: Series.__getitem__ treating keys as positions is deprecated. In a future version, integer keys will always be treated as labels (consistent with DataFrame behavior). To access a value by position, use `ser.iloc[pos]`\n",
      "  data[3]\n"
     ]
    },
    {
     "data": {
      "text/plain": [
       "4"
      ]
     },
     "execution_count": 90,
     "metadata": {},
     "output_type": "execute_result"
    }
   ],
   "source": [
    "data[3]"
   ]
  },
  {
   "cell_type": "code",
   "execution_count": 91,
   "id": "b8c2ffcc",
   "metadata": {},
   "outputs": [
    {
     "name": "stdout",
     "output_type": "stream",
     "text": [
      "a     1\n",
      "b     2\n",
      "c    33\n",
      "d    44\n",
      "dtype: int64\n"
     ]
    },
    {
     "name": "stderr",
     "output_type": "stream",
     "text": [
      "C:\\Users\\ASUS\\AppData\\Local\\Temp\\ipykernel_24964\\2297278332.py:1: FutureWarning: Series.__setitem__ treating keys as positions is deprecated. In a future version, integer keys will always be treated as labels (consistent with DataFrame behavior). To set a value by position, use `ser.iloc[pos] = value`\n",
      "  data[2]=33\n",
      "C:\\Users\\ASUS\\AppData\\Local\\Temp\\ipykernel_24964\\2297278332.py:2: FutureWarning: Series.__setitem__ treating keys as positions is deprecated. In a future version, integer keys will always be treated as labels (consistent with DataFrame behavior). To set a value by position, use `ser.iloc[pos] = value`\n",
      "  data[3]=44\n"
     ]
    }
   ],
   "source": [
    "data[2]=33\n",
    "data[3]=44\n",
    "print(data)"
   ]
  },
  {
   "cell_type": "code",
   "execution_count": 92,
   "id": "af7a7e54",
   "metadata": {},
   "outputs": [
    {
     "name": "stdout",
     "output_type": "stream",
     "text": [
      "4\n",
      "<class 'pandas.core.series.Series'>\n",
      "(4,)\n",
      "4\n",
      "int64\n"
     ]
    }
   ],
   "source": [
    "print(len(data))\n",
    "print(type(data))\n",
    "print(data.shape)\n",
    "print(data.size)\n",
    "print(data.dtype)"
   ]
  },
  {
   "cell_type": "code",
   "execution_count": 173,
   "id": "1c3ad063",
   "metadata": {},
   "outputs": [],
   "source": [
    "info={\"name\":[\"abhishek\",\"shanker\",\"suresh\",\"aniket\",\"vitthal\"],#two dimention\n",
    "      \"roll no\":[10,45,25,45,36],\n",
    "      \"laptop\":[\"yes\",\"yes\",\"no\",\"no\",\"no\"],\n",
    "      \"city\":[\"Benglore\",\"pune\",\"ratnagiri\",\"aurangabd\",\"london\"]}"
   ]
  },
  {
   "cell_type": "code",
   "execution_count": 174,
   "id": "45348125",
   "metadata": {},
   "outputs": [
    {
     "data": {
      "text/html": [
       "<div>\n",
       "<style scoped>\n",
       "    .dataframe tbody tr th:only-of-type {\n",
       "        vertical-align: middle;\n",
       "    }\n",
       "\n",
       "    .dataframe tbody tr th {\n",
       "        vertical-align: top;\n",
       "    }\n",
       "\n",
       "    .dataframe thead th {\n",
       "        text-align: right;\n",
       "    }\n",
       "</style>\n",
       "<table border=\"1\" class=\"dataframe\">\n",
       "  <thead>\n",
       "    <tr style=\"text-align: right;\">\n",
       "      <th></th>\n",
       "      <th>name</th>\n",
       "      <th>roll no</th>\n",
       "      <th>laptop</th>\n",
       "      <th>city</th>\n",
       "    </tr>\n",
       "  </thead>\n",
       "  <tbody>\n",
       "    <tr>\n",
       "      <th>0</th>\n",
       "      <td>abhishek</td>\n",
       "      <td>10</td>\n",
       "      <td>yes</td>\n",
       "      <td>Benglore</td>\n",
       "    </tr>\n",
       "    <tr>\n",
       "      <th>1</th>\n",
       "      <td>shanker</td>\n",
       "      <td>45</td>\n",
       "      <td>yes</td>\n",
       "      <td>pune</td>\n",
       "    </tr>\n",
       "    <tr>\n",
       "      <th>2</th>\n",
       "      <td>suresh</td>\n",
       "      <td>25</td>\n",
       "      <td>no</td>\n",
       "      <td>ratnagiri</td>\n",
       "    </tr>\n",
       "    <tr>\n",
       "      <th>3</th>\n",
       "      <td>aniket</td>\n",
       "      <td>45</td>\n",
       "      <td>no</td>\n",
       "      <td>aurangabd</td>\n",
       "    </tr>\n",
       "    <tr>\n",
       "      <th>4</th>\n",
       "      <td>vitthal</td>\n",
       "      <td>36</td>\n",
       "      <td>no</td>\n",
       "      <td>london</td>\n",
       "    </tr>\n",
       "  </tbody>\n",
       "</table>\n",
       "</div>"
      ],
      "text/plain": [
       "       name  roll no laptop       city\n",
       "0  abhishek       10    yes   Benglore\n",
       "1   shanker       45    yes       pune\n",
       "2    suresh       25     no  ratnagiri\n",
       "3    aniket       45     no  aurangabd\n",
       "4   vitthal       36     no     london"
      ]
     },
     "execution_count": 174,
     "metadata": {},
     "output_type": "execute_result"
    }
   ],
   "source": [
    "data=pd.DataFrame(info)\n",
    "data"
   ]
  },
  {
   "cell_type": "code",
   "execution_count": 175,
   "id": "c8f76538",
   "metadata": {},
   "outputs": [
    {
     "data": {
      "text/html": [
       "<div>\n",
       "<style scoped>\n",
       "    .dataframe tbody tr th:only-of-type {\n",
       "        vertical-align: middle;\n",
       "    }\n",
       "\n",
       "    .dataframe tbody tr th {\n",
       "        vertical-align: top;\n",
       "    }\n",
       "\n",
       "    .dataframe thead th {\n",
       "        text-align: right;\n",
       "    }\n",
       "</style>\n",
       "<table border=\"1\" class=\"dataframe\">\n",
       "  <thead>\n",
       "    <tr style=\"text-align: right;\">\n",
       "      <th></th>\n",
       "      <th>name</th>\n",
       "      <th>roll no</th>\n",
       "      <th>laptop</th>\n",
       "      <th>city</th>\n",
       "    </tr>\n",
       "  </thead>\n",
       "  <tbody>\n",
       "    <tr>\n",
       "      <th>4</th>\n",
       "      <td>vitthal</td>\n",
       "      <td>36</td>\n",
       "      <td>no</td>\n",
       "      <td>london</td>\n",
       "    </tr>\n",
       "    <tr>\n",
       "      <th>3</th>\n",
       "      <td>aniket</td>\n",
       "      <td>45</td>\n",
       "      <td>no</td>\n",
       "      <td>aurangabd</td>\n",
       "    </tr>\n",
       "    <tr>\n",
       "      <th>2</th>\n",
       "      <td>suresh</td>\n",
       "      <td>25</td>\n",
       "      <td>no</td>\n",
       "      <td>ratnagiri</td>\n",
       "    </tr>\n",
       "    <tr>\n",
       "      <th>1</th>\n",
       "      <td>shanker</td>\n",
       "      <td>45</td>\n",
       "      <td>yes</td>\n",
       "      <td>pune</td>\n",
       "    </tr>\n",
       "    <tr>\n",
       "      <th>0</th>\n",
       "      <td>abhishek</td>\n",
       "      <td>10</td>\n",
       "      <td>yes</td>\n",
       "      <td>Benglore</td>\n",
       "    </tr>\n",
       "  </tbody>\n",
       "</table>\n",
       "</div>"
      ],
      "text/plain": [
       "       name  roll no laptop       city\n",
       "4   vitthal       36     no     london\n",
       "3    aniket       45     no  aurangabd\n",
       "2    suresh       25     no  ratnagiri\n",
       "1   shanker       45    yes       pune\n",
       "0  abhishek       10    yes   Benglore"
      ]
     },
     "execution_count": 175,
     "metadata": {},
     "output_type": "execute_result"
    }
   ],
   "source": [
    "data[::-1]"
   ]
  },
  {
   "cell_type": "code",
   "execution_count": 176,
   "id": "da8a3d45",
   "metadata": {},
   "outputs": [
    {
     "data": {
      "text/html": [
       "<div>\n",
       "<style scoped>\n",
       "    .dataframe tbody tr th:only-of-type {\n",
       "        vertical-align: middle;\n",
       "    }\n",
       "\n",
       "    .dataframe tbody tr th {\n",
       "        vertical-align: top;\n",
       "    }\n",
       "\n",
       "    .dataframe thead th {\n",
       "        text-align: right;\n",
       "    }\n",
       "</style>\n",
       "<table border=\"1\" class=\"dataframe\">\n",
       "  <thead>\n",
       "    <tr style=\"text-align: right;\">\n",
       "      <th></th>\n",
       "      <th>name</th>\n",
       "      <th>roll no</th>\n",
       "      <th>laptop</th>\n",
       "      <th>city</th>\n",
       "    </tr>\n",
       "  </thead>\n",
       "  <tbody>\n",
       "    <tr>\n",
       "      <th>0</th>\n",
       "      <td>abhishek</td>\n",
       "      <td>10</td>\n",
       "      <td>yes</td>\n",
       "      <td>Benglore</td>\n",
       "    </tr>\n",
       "    <tr>\n",
       "      <th>2</th>\n",
       "      <td>suresh</td>\n",
       "      <td>25</td>\n",
       "      <td>no</td>\n",
       "      <td>ratnagiri</td>\n",
       "    </tr>\n",
       "    <tr>\n",
       "      <th>4</th>\n",
       "      <td>vitthal</td>\n",
       "      <td>36</td>\n",
       "      <td>no</td>\n",
       "      <td>london</td>\n",
       "    </tr>\n",
       "  </tbody>\n",
       "</table>\n",
       "</div>"
      ],
      "text/plain": [
       "       name  roll no laptop       city\n",
       "0  abhishek       10    yes   Benglore\n",
       "2    suresh       25     no  ratnagiri\n",
       "4   vitthal       36     no     london"
      ]
     },
     "execution_count": 176,
     "metadata": {},
     "output_type": "execute_result"
    }
   ],
   "source": [
    "data[0:5:2]"
   ]
  },
  {
   "cell_type": "code",
   "execution_count": 177,
   "id": "373c2641",
   "metadata": {},
   "outputs": [
    {
     "data": {
      "text/html": [
       "<div>\n",
       "<style scoped>\n",
       "    .dataframe tbody tr th:only-of-type {\n",
       "        vertical-align: middle;\n",
       "    }\n",
       "\n",
       "    .dataframe tbody tr th {\n",
       "        vertical-align: top;\n",
       "    }\n",
       "\n",
       "    .dataframe thead th {\n",
       "        text-align: right;\n",
       "    }\n",
       "</style>\n",
       "<table border=\"1\" class=\"dataframe\">\n",
       "  <thead>\n",
       "    <tr style=\"text-align: right;\">\n",
       "      <th></th>\n",
       "      <th>name</th>\n",
       "      <th>roll no</th>\n",
       "      <th>laptop</th>\n",
       "      <th>city</th>\n",
       "    </tr>\n",
       "  </thead>\n",
       "  <tbody>\n",
       "    <tr>\n",
       "      <th>0</th>\n",
       "      <td>abhishek</td>\n",
       "      <td>10</td>\n",
       "      <td>yes</td>\n",
       "      <td>Benglore</td>\n",
       "    </tr>\n",
       "    <tr>\n",
       "      <th>1</th>\n",
       "      <td>shanker</td>\n",
       "      <td>45</td>\n",
       "      <td>yes</td>\n",
       "      <td>pune</td>\n",
       "    </tr>\n",
       "    <tr>\n",
       "      <th>2</th>\n",
       "      <td>suresh</td>\n",
       "      <td>25</td>\n",
       "      <td>no</td>\n",
       "      <td>ratnagiri</td>\n",
       "    </tr>\n",
       "    <tr>\n",
       "      <th>3</th>\n",
       "      <td>aniket</td>\n",
       "      <td>45</td>\n",
       "      <td>no</td>\n",
       "      <td>aurangabd</td>\n",
       "    </tr>\n",
       "  </tbody>\n",
       "</table>\n",
       "</div>"
      ],
      "text/plain": [
       "       name  roll no laptop       city\n",
       "0  abhishek       10    yes   Benglore\n",
       "1   shanker       45    yes       pune\n",
       "2    suresh       25     no  ratnagiri\n",
       "3    aniket       45     no  aurangabd"
      ]
     },
     "execution_count": 177,
     "metadata": {},
     "output_type": "execute_result"
    }
   ],
   "source": [
    "data[:-1:]"
   ]
  },
  {
   "cell_type": "code",
   "execution_count": 178,
   "id": "0e6af689",
   "metadata": {},
   "outputs": [
    {
     "data": {
      "text/html": [
       "<div>\n",
       "<style scoped>\n",
       "    .dataframe tbody tr th:only-of-type {\n",
       "        vertical-align: middle;\n",
       "    }\n",
       "\n",
       "    .dataframe tbody tr th {\n",
       "        vertical-align: top;\n",
       "    }\n",
       "\n",
       "    .dataframe thead th {\n",
       "        text-align: right;\n",
       "    }\n",
       "</style>\n",
       "<table border=\"1\" class=\"dataframe\">\n",
       "  <thead>\n",
       "    <tr style=\"text-align: right;\">\n",
       "      <th></th>\n",
       "      <th>name</th>\n",
       "      <th>roll no</th>\n",
       "      <th>laptop</th>\n",
       "      <th>city</th>\n",
       "    </tr>\n",
       "  </thead>\n",
       "  <tbody>\n",
       "    <tr>\n",
       "      <th>0</th>\n",
       "      <td>abhishek</td>\n",
       "      <td>10</td>\n",
       "      <td>yes</td>\n",
       "      <td>Benglore</td>\n",
       "    </tr>\n",
       "  </tbody>\n",
       "</table>\n",
       "</div>"
      ],
      "text/plain": [
       "       name  roll no laptop      city\n",
       "0  abhishek       10    yes  Benglore"
      ]
     },
     "execution_count": 178,
     "metadata": {},
     "output_type": "execute_result"
    }
   ],
   "source": [
    "data.loc[0:0]"
   ]
  },
  {
   "cell_type": "code",
   "execution_count": 179,
   "id": "53807c01",
   "metadata": {},
   "outputs": [
    {
     "data": {
      "text/html": [
       "<div>\n",
       "<style scoped>\n",
       "    .dataframe tbody tr th:only-of-type {\n",
       "        vertical-align: middle;\n",
       "    }\n",
       "\n",
       "    .dataframe tbody tr th {\n",
       "        vertical-align: top;\n",
       "    }\n",
       "\n",
       "    .dataframe thead th {\n",
       "        text-align: right;\n",
       "    }\n",
       "</style>\n",
       "<table border=\"1\" class=\"dataframe\">\n",
       "  <thead>\n",
       "    <tr style=\"text-align: right;\">\n",
       "      <th></th>\n",
       "      <th>name</th>\n",
       "      <th>roll no</th>\n",
       "      <th>laptop</th>\n",
       "      <th>city</th>\n",
       "    </tr>\n",
       "  </thead>\n",
       "  <tbody>\n",
       "    <tr>\n",
       "      <th>0</th>\n",
       "      <td>abhishek</td>\n",
       "      <td>10</td>\n",
       "      <td>yes</td>\n",
       "      <td>Benglore</td>\n",
       "    </tr>\n",
       "    <tr>\n",
       "      <th>1</th>\n",
       "      <td>shanker</td>\n",
       "      <td>45</td>\n",
       "      <td>yes</td>\n",
       "      <td>pune</td>\n",
       "    </tr>\n",
       "    <tr>\n",
       "      <th>2</th>\n",
       "      <td>suresh</td>\n",
       "      <td>25</td>\n",
       "      <td>no</td>\n",
       "      <td>ratnagiri</td>\n",
       "    </tr>\n",
       "  </tbody>\n",
       "</table>\n",
       "</div>"
      ],
      "text/plain": [
       "       name  roll no laptop       city\n",
       "0  abhishek       10    yes   Benglore\n",
       "1   shanker       45    yes       pune\n",
       "2    suresh       25     no  ratnagiri"
      ]
     },
     "execution_count": 179,
     "metadata": {},
     "output_type": "execute_result"
    }
   ],
   "source": [
    "data.loc[0:2]"
   ]
  },
  {
   "cell_type": "code",
   "execution_count": 180,
   "id": "7567ce1a",
   "metadata": {},
   "outputs": [
    {
     "data": {
      "text/plain": [
       "name       abhishek\n",
       "roll no          10\n",
       "laptop          yes\n",
       "Name: 0, dtype: object"
      ]
     },
     "execution_count": 180,
     "metadata": {},
     "output_type": "execute_result"
    }
   ],
   "source": [
    "data.iloc[0][0:3]"
   ]
  },
  {
   "cell_type": "code",
   "execution_count": 181,
   "id": "15fc7e25",
   "metadata": {},
   "outputs": [
    {
     "data": {
      "text/plain": [
       "'Benglore'"
      ]
     },
     "execution_count": 181,
     "metadata": {},
     "output_type": "execute_result"
    }
   ],
   "source": [
    "data.iloc[0,3]"
   ]
  },
  {
   "cell_type": "code",
   "execution_count": 182,
   "id": "0a691f0f",
   "metadata": {},
   "outputs": [
    {
     "data": {
      "text/plain": [
       "'pune'"
      ]
     },
     "execution_count": 182,
     "metadata": {},
     "output_type": "execute_result"
    }
   ],
   "source": [
    "data.iloc[1,3]"
   ]
  },
  {
   "cell_type": "code",
   "execution_count": 183,
   "id": "e3700f05",
   "metadata": {},
   "outputs": [
    {
     "data": {
      "text/plain": [
       "'vitthal'"
      ]
     },
     "execution_count": 183,
     "metadata": {},
     "output_type": "execute_result"
    }
   ],
   "source": [
    "data.iloc[4,0]"
   ]
  },
  {
   "cell_type": "code",
   "execution_count": 184,
   "id": "827a23e2",
   "metadata": {},
   "outputs": [
    {
     "data": {
      "text/html": [
       "<div>\n",
       "<style scoped>\n",
       "    .dataframe tbody tr th:only-of-type {\n",
       "        vertical-align: middle;\n",
       "    }\n",
       "\n",
       "    .dataframe tbody tr th {\n",
       "        vertical-align: top;\n",
       "    }\n",
       "\n",
       "    .dataframe thead th {\n",
       "        text-align: right;\n",
       "    }\n",
       "</style>\n",
       "<table border=\"1\" class=\"dataframe\">\n",
       "  <thead>\n",
       "    <tr style=\"text-align: right;\">\n",
       "      <th></th>\n",
       "      <th>name</th>\n",
       "    </tr>\n",
       "  </thead>\n",
       "  <tbody>\n",
       "    <tr>\n",
       "      <th>0</th>\n",
       "      <td>abhishek</td>\n",
       "    </tr>\n",
       "    <tr>\n",
       "      <th>1</th>\n",
       "      <td>shanker</td>\n",
       "    </tr>\n",
       "    <tr>\n",
       "      <th>2</th>\n",
       "      <td>suresh</td>\n",
       "    </tr>\n",
       "    <tr>\n",
       "      <th>3</th>\n",
       "      <td>aniket</td>\n",
       "    </tr>\n",
       "    <tr>\n",
       "      <th>4</th>\n",
       "      <td>vitthal</td>\n",
       "    </tr>\n",
       "  </tbody>\n",
       "</table>\n",
       "</div>"
      ],
      "text/plain": [
       "       name\n",
       "0  abhishek\n",
       "1   shanker\n",
       "2    suresh\n",
       "3    aniket\n",
       "4   vitthal"
      ]
     },
     "execution_count": 184,
     "metadata": {},
     "output_type": "execute_result"
    }
   ],
   "source": [
    "data[[\"name\"]]"
   ]
  },
  {
   "cell_type": "code",
   "execution_count": 185,
   "id": "bb6a5605",
   "metadata": {},
   "outputs": [
    {
     "data": {
      "text/html": [
       "<div>\n",
       "<style scoped>\n",
       "    .dataframe tbody tr th:only-of-type {\n",
       "        vertical-align: middle;\n",
       "    }\n",
       "\n",
       "    .dataframe tbody tr th {\n",
       "        vertical-align: top;\n",
       "    }\n",
       "\n",
       "    .dataframe thead th {\n",
       "        text-align: right;\n",
       "    }\n",
       "</style>\n",
       "<table border=\"1\" class=\"dataframe\">\n",
       "  <thead>\n",
       "    <tr style=\"text-align: right;\">\n",
       "      <th></th>\n",
       "      <th>city</th>\n",
       "    </tr>\n",
       "  </thead>\n",
       "  <tbody>\n",
       "    <tr>\n",
       "      <th>0</th>\n",
       "      <td>Benglore</td>\n",
       "    </tr>\n",
       "    <tr>\n",
       "      <th>1</th>\n",
       "      <td>pune</td>\n",
       "    </tr>\n",
       "    <tr>\n",
       "      <th>2</th>\n",
       "      <td>ratnagiri</td>\n",
       "    </tr>\n",
       "    <tr>\n",
       "      <th>3</th>\n",
       "      <td>aurangabd</td>\n",
       "    </tr>\n",
       "    <tr>\n",
       "      <th>4</th>\n",
       "      <td>london</td>\n",
       "    </tr>\n",
       "  </tbody>\n",
       "</table>\n",
       "</div>"
      ],
      "text/plain": [
       "        city\n",
       "0   Benglore\n",
       "1       pune\n",
       "2  ratnagiri\n",
       "3  aurangabd\n",
       "4     london"
      ]
     },
     "execution_count": 185,
     "metadata": {},
     "output_type": "execute_result"
    }
   ],
   "source": [
    "data[[\"city\"]]"
   ]
  },
  {
   "cell_type": "code",
   "execution_count": 186,
   "id": "24f11918",
   "metadata": {},
   "outputs": [],
   "source": [
    "data.iloc[0,3]=\"Banglore\"\n",
    "data.iloc[1,3]=\"Pune\"\n",
    "data.iloc[2,3]=\"Rantnagiri\"\n",
    "data.iloc[3,3]=\"Aurangabad\"\n",
    "data.iloc[4,3]=\"London\"\n",
    "data.iloc[0,0]=\"Abhishek dighule\"\n",
    "data.iloc[1,0]=\"Shankar pande\"\n",
    "data.iloc[2,0]=\"Suresh dighule\"\n",
    "data.iloc[3,0]=\"Aniket akolkar\"\n",
    "data.iloc[4,0]=\"Vitthal dighule\""
   ]
  },
  {
   "cell_type": "code",
   "execution_count": 187,
   "id": "1f03ecd8",
   "metadata": {},
   "outputs": [
    {
     "data": {
      "text/html": [
       "<div>\n",
       "<style scoped>\n",
       "    .dataframe tbody tr th:only-of-type {\n",
       "        vertical-align: middle;\n",
       "    }\n",
       "\n",
       "    .dataframe tbody tr th {\n",
       "        vertical-align: top;\n",
       "    }\n",
       "\n",
       "    .dataframe thead th {\n",
       "        text-align: right;\n",
       "    }\n",
       "</style>\n",
       "<table border=\"1\" class=\"dataframe\">\n",
       "  <thead>\n",
       "    <tr style=\"text-align: right;\">\n",
       "      <th></th>\n",
       "      <th>name</th>\n",
       "      <th>roll no</th>\n",
       "      <th>laptop</th>\n",
       "      <th>city</th>\n",
       "    </tr>\n",
       "  </thead>\n",
       "  <tbody>\n",
       "    <tr>\n",
       "      <th>0</th>\n",
       "      <td>Abhishek dighule</td>\n",
       "      <td>10</td>\n",
       "      <td>yes</td>\n",
       "      <td>Banglore</td>\n",
       "    </tr>\n",
       "    <tr>\n",
       "      <th>1</th>\n",
       "      <td>Shankar pande</td>\n",
       "      <td>45</td>\n",
       "      <td>yes</td>\n",
       "      <td>Pune</td>\n",
       "    </tr>\n",
       "    <tr>\n",
       "      <th>2</th>\n",
       "      <td>Suresh dighule</td>\n",
       "      <td>25</td>\n",
       "      <td>no</td>\n",
       "      <td>Rantnagiri</td>\n",
       "    </tr>\n",
       "    <tr>\n",
       "      <th>3</th>\n",
       "      <td>Aniket akolkar</td>\n",
       "      <td>45</td>\n",
       "      <td>no</td>\n",
       "      <td>Aurangabad</td>\n",
       "    </tr>\n",
       "    <tr>\n",
       "      <th>4</th>\n",
       "      <td>Vitthal dighule</td>\n",
       "      <td>36</td>\n",
       "      <td>no</td>\n",
       "      <td>London</td>\n",
       "    </tr>\n",
       "  </tbody>\n",
       "</table>\n",
       "</div>"
      ],
      "text/plain": [
       "               name  roll no laptop        city\n",
       "0  Abhishek dighule       10    yes    Banglore\n",
       "1     Shankar pande       45    yes        Pune\n",
       "2    Suresh dighule       25     no  Rantnagiri\n",
       "3    Aniket akolkar       45     no  Aurangabad\n",
       "4   Vitthal dighule       36     no      London"
      ]
     },
     "execution_count": 187,
     "metadata": {},
     "output_type": "execute_result"
    }
   ],
   "source": [
    "data"
   ]
  },
  {
   "cell_type": "code",
   "execution_count": 188,
   "id": "0a6e4679",
   "metadata": {},
   "outputs": [],
   "source": [
    "data.rename(columns={\"name\":\"Name\",\"roll no\":\"Roll NO\",\"laptop\":\"Laptop\",\"city\":\"City\"},inplace=True)"
   ]
  },
  {
   "cell_type": "code",
   "execution_count": 189,
   "id": "01a35995",
   "metadata": {},
   "outputs": [],
   "source": [
    "data[\"Mobile\"]=\"Redmi\""
   ]
  },
  {
   "cell_type": "code",
   "execution_count": 190,
   "id": "ecc51d73",
   "metadata": {},
   "outputs": [],
   "source": [
    "data.iloc[2,4]=\"Apple\"\n",
    "data.iloc[3,4]=\"Samsung\"\n",
    "data.iloc[4,4]=\"No Mobile\""
   ]
  },
  {
   "cell_type": "code",
   "execution_count": 191,
   "id": "29592372",
   "metadata": {},
   "outputs": [
    {
     "data": {
      "text/html": [
       "<div>\n",
       "<style scoped>\n",
       "    .dataframe tbody tr th:only-of-type {\n",
       "        vertical-align: middle;\n",
       "    }\n",
       "\n",
       "    .dataframe tbody tr th {\n",
       "        vertical-align: top;\n",
       "    }\n",
       "\n",
       "    .dataframe thead th {\n",
       "        text-align: right;\n",
       "    }\n",
       "</style>\n",
       "<table border=\"1\" class=\"dataframe\">\n",
       "  <thead>\n",
       "    <tr style=\"text-align: right;\">\n",
       "      <th></th>\n",
       "      <th>Name</th>\n",
       "      <th>Roll NO</th>\n",
       "      <th>Laptop</th>\n",
       "      <th>City</th>\n",
       "      <th>Mobile</th>\n",
       "    </tr>\n",
       "  </thead>\n",
       "  <tbody>\n",
       "    <tr>\n",
       "      <th>0</th>\n",
       "      <td>Abhishek dighule</td>\n",
       "      <td>10</td>\n",
       "      <td>yes</td>\n",
       "      <td>Banglore</td>\n",
       "      <td>Redmi</td>\n",
       "    </tr>\n",
       "    <tr>\n",
       "      <th>1</th>\n",
       "      <td>Shankar pande</td>\n",
       "      <td>45</td>\n",
       "      <td>yes</td>\n",
       "      <td>Pune</td>\n",
       "      <td>Redmi</td>\n",
       "    </tr>\n",
       "    <tr>\n",
       "      <th>2</th>\n",
       "      <td>Suresh dighule</td>\n",
       "      <td>25</td>\n",
       "      <td>no</td>\n",
       "      <td>Rantnagiri</td>\n",
       "      <td>Apple</td>\n",
       "    </tr>\n",
       "    <tr>\n",
       "      <th>3</th>\n",
       "      <td>Aniket akolkar</td>\n",
       "      <td>45</td>\n",
       "      <td>no</td>\n",
       "      <td>Aurangabad</td>\n",
       "      <td>Samsung</td>\n",
       "    </tr>\n",
       "    <tr>\n",
       "      <th>4</th>\n",
       "      <td>Vitthal dighule</td>\n",
       "      <td>36</td>\n",
       "      <td>no</td>\n",
       "      <td>London</td>\n",
       "      <td>No Mobile</td>\n",
       "    </tr>\n",
       "  </tbody>\n",
       "</table>\n",
       "</div>"
      ],
      "text/plain": [
       "               Name  Roll NO Laptop        City     Mobile\n",
       "0  Abhishek dighule       10    yes    Banglore      Redmi\n",
       "1     Shankar pande       45    yes        Pune      Redmi\n",
       "2    Suresh dighule       25     no  Rantnagiri      Apple\n",
       "3    Aniket akolkar       45     no  Aurangabad    Samsung\n",
       "4   Vitthal dighule       36     no      London  No Mobile"
      ]
     },
     "execution_count": 191,
     "metadata": {},
     "output_type": "execute_result"
    }
   ],
   "source": [
    "data"
   ]
  },
  {
   "cell_type": "code",
   "execution_count": 192,
   "id": "1904c375",
   "metadata": {},
   "outputs": [
    {
     "data": {
      "text/html": [
       "<div>\n",
       "<style scoped>\n",
       "    .dataframe tbody tr th:only-of-type {\n",
       "        vertical-align: middle;\n",
       "    }\n",
       "\n",
       "    .dataframe tbody tr th {\n",
       "        vertical-align: top;\n",
       "    }\n",
       "\n",
       "    .dataframe thead th {\n",
       "        text-align: right;\n",
       "    }\n",
       "</style>\n",
       "<table border=\"1\" class=\"dataframe\">\n",
       "  <thead>\n",
       "    <tr style=\"text-align: right;\">\n",
       "      <th></th>\n",
       "      <th>Name</th>\n",
       "      <th>Mobile</th>\n",
       "    </tr>\n",
       "  </thead>\n",
       "  <tbody>\n",
       "    <tr>\n",
       "      <th>0</th>\n",
       "      <td>Abhishek dighule</td>\n",
       "      <td>Redmi</td>\n",
       "    </tr>\n",
       "    <tr>\n",
       "      <th>1</th>\n",
       "      <td>Shankar pande</td>\n",
       "      <td>Redmi</td>\n",
       "    </tr>\n",
       "    <tr>\n",
       "      <th>2</th>\n",
       "      <td>Suresh dighule</td>\n",
       "      <td>Apple</td>\n",
       "    </tr>\n",
       "    <tr>\n",
       "      <th>3</th>\n",
       "      <td>Aniket akolkar</td>\n",
       "      <td>Samsung</td>\n",
       "    </tr>\n",
       "    <tr>\n",
       "      <th>4</th>\n",
       "      <td>Vitthal dighule</td>\n",
       "      <td>No Mobile</td>\n",
       "    </tr>\n",
       "  </tbody>\n",
       "</table>\n",
       "</div>"
      ],
      "text/plain": [
       "               Name     Mobile\n",
       "0  Abhishek dighule      Redmi\n",
       "1     Shankar pande      Redmi\n",
       "2    Suresh dighule      Apple\n",
       "3    Aniket akolkar    Samsung\n",
       "4   Vitthal dighule  No Mobile"
      ]
     },
     "execution_count": 192,
     "metadata": {},
     "output_type": "execute_result"
    }
   ],
   "source": [
    "data[[\"Name\",\"Mobile\"]]#Columns"
   ]
  },
  {
   "cell_type": "code",
   "execution_count": 193,
   "id": "4ceb330a",
   "metadata": {},
   "outputs": [
    {
     "data": {
      "text/plain": [
       "array(['Redmi', 'Apple', 'Samsung', 'No Mobile'], dtype=object)"
      ]
     },
     "execution_count": 193,
     "metadata": {},
     "output_type": "execute_result"
    }
   ],
   "source": [
    "data[\"Mobile\"].unique()"
   ]
  },
  {
   "cell_type": "code",
   "execution_count": 194,
   "id": "609f43f8",
   "metadata": {},
   "outputs": [
    {
     "data": {
      "text/plain": [
       "array(['Abhishek dighule', 'Shankar pande', 'Suresh dighule',\n",
       "       'Aniket akolkar', 'Vitthal dighule'], dtype=object)"
      ]
     },
     "execution_count": 194,
     "metadata": {},
     "output_type": "execute_result"
    }
   ],
   "source": [
    "data[\"Name\"].unique()"
   ]
  },
  {
   "cell_type": "code",
   "execution_count": 195,
   "id": "154fc291",
   "metadata": {},
   "outputs": [
    {
     "data": {
      "text/plain": [
       "Laptop\n",
       "no     3\n",
       "yes    2\n",
       "Name: count, dtype: int64"
      ]
     },
     "execution_count": 195,
     "metadata": {},
     "output_type": "execute_result"
    }
   ],
   "source": [
    "data[\"Laptop\"].value_counts()"
   ]
  },
  {
   "cell_type": "code",
   "execution_count": 196,
   "id": "27b6d6cd",
   "metadata": {},
   "outputs": [
    {
     "data": {
      "text/html": [
       "<div>\n",
       "<style scoped>\n",
       "    .dataframe tbody tr th:only-of-type {\n",
       "        vertical-align: middle;\n",
       "    }\n",
       "\n",
       "    .dataframe tbody tr th {\n",
       "        vertical-align: top;\n",
       "    }\n",
       "\n",
       "    .dataframe thead th {\n",
       "        text-align: right;\n",
       "    }\n",
       "</style>\n",
       "<table border=\"1\" class=\"dataframe\">\n",
       "  <thead>\n",
       "    <tr style=\"text-align: right;\">\n",
       "      <th></th>\n",
       "      <th>Name</th>\n",
       "      <th>Roll NO</th>\n",
       "      <th>Laptop</th>\n",
       "      <th>City</th>\n",
       "      <th>Mobile</th>\n",
       "    </tr>\n",
       "  </thead>\n",
       "  <tbody>\n",
       "    <tr>\n",
       "      <th>0</th>\n",
       "      <td>Abhishek dighule</td>\n",
       "      <td>10</td>\n",
       "      <td>yes</td>\n",
       "      <td>Banglore</td>\n",
       "      <td>Redmi</td>\n",
       "    </tr>\n",
       "    <tr>\n",
       "      <th>1</th>\n",
       "      <td>Shankar pande</td>\n",
       "      <td>45</td>\n",
       "      <td>yes</td>\n",
       "      <td>Pune</td>\n",
       "      <td>Redmi</td>\n",
       "    </tr>\n",
       "  </tbody>\n",
       "</table>\n",
       "</div>"
      ],
      "text/plain": [
       "               Name  Roll NO Laptop      City Mobile\n",
       "0  Abhishek dighule       10    yes  Banglore  Redmi\n",
       "1     Shankar pande       45    yes      Pune  Redmi"
      ]
     },
     "execution_count": 196,
     "metadata": {},
     "output_type": "execute_result"
    }
   ],
   "source": [
    "data.head(2)"
   ]
  },
  {
   "cell_type": "code",
   "execution_count": 197,
   "id": "3dccbf5d",
   "metadata": {},
   "outputs": [
    {
     "data": {
      "text/html": [
       "<div>\n",
       "<style scoped>\n",
       "    .dataframe tbody tr th:only-of-type {\n",
       "        vertical-align: middle;\n",
       "    }\n",
       "\n",
       "    .dataframe tbody tr th {\n",
       "        vertical-align: top;\n",
       "    }\n",
       "\n",
       "    .dataframe thead th {\n",
       "        text-align: right;\n",
       "    }\n",
       "</style>\n",
       "<table border=\"1\" class=\"dataframe\">\n",
       "  <thead>\n",
       "    <tr style=\"text-align: right;\">\n",
       "      <th></th>\n",
       "      <th>Name</th>\n",
       "      <th>Roll NO</th>\n",
       "      <th>Laptop</th>\n",
       "      <th>City</th>\n",
       "      <th>Mobile</th>\n",
       "    </tr>\n",
       "  </thead>\n",
       "  <tbody>\n",
       "    <tr>\n",
       "      <th>3</th>\n",
       "      <td>Aniket akolkar</td>\n",
       "      <td>45</td>\n",
       "      <td>no</td>\n",
       "      <td>Aurangabad</td>\n",
       "      <td>Samsung</td>\n",
       "    </tr>\n",
       "    <tr>\n",
       "      <th>4</th>\n",
       "      <td>Vitthal dighule</td>\n",
       "      <td>36</td>\n",
       "      <td>no</td>\n",
       "      <td>London</td>\n",
       "      <td>No Mobile</td>\n",
       "    </tr>\n",
       "  </tbody>\n",
       "</table>\n",
       "</div>"
      ],
      "text/plain": [
       "              Name  Roll NO Laptop        City     Mobile\n",
       "3   Aniket akolkar       45     no  Aurangabad    Samsung\n",
       "4  Vitthal dighule       36     no      London  No Mobile"
      ]
     },
     "execution_count": 197,
     "metadata": {},
     "output_type": "execute_result"
    }
   ],
   "source": [
    "data.tail(2)"
   ]
  },
  {
   "cell_type": "code",
   "execution_count": 198,
   "id": "786a687e",
   "metadata": {},
   "outputs": [
    {
     "data": {
      "text/html": [
       "<div>\n",
       "<style scoped>\n",
       "    .dataframe tbody tr th:only-of-type {\n",
       "        vertical-align: middle;\n",
       "    }\n",
       "\n",
       "    .dataframe tbody tr th {\n",
       "        vertical-align: top;\n",
       "    }\n",
       "\n",
       "    .dataframe thead th {\n",
       "        text-align: right;\n",
       "    }\n",
       "</style>\n",
       "<table border=\"1\" class=\"dataframe\">\n",
       "  <thead>\n",
       "    <tr style=\"text-align: right;\">\n",
       "      <th></th>\n",
       "      <th>Roll NO</th>\n",
       "    </tr>\n",
       "  </thead>\n",
       "  <tbody>\n",
       "    <tr>\n",
       "      <th>count</th>\n",
       "      <td>5.000000</td>\n",
       "    </tr>\n",
       "    <tr>\n",
       "      <th>mean</th>\n",
       "      <td>32.200000</td>\n",
       "    </tr>\n",
       "    <tr>\n",
       "      <th>std</th>\n",
       "      <td>14.889594</td>\n",
       "    </tr>\n",
       "    <tr>\n",
       "      <th>min</th>\n",
       "      <td>10.000000</td>\n",
       "    </tr>\n",
       "    <tr>\n",
       "      <th>25%</th>\n",
       "      <td>25.000000</td>\n",
       "    </tr>\n",
       "    <tr>\n",
       "      <th>50%</th>\n",
       "      <td>36.000000</td>\n",
       "    </tr>\n",
       "    <tr>\n",
       "      <th>75%</th>\n",
       "      <td>45.000000</td>\n",
       "    </tr>\n",
       "    <tr>\n",
       "      <th>max</th>\n",
       "      <td>45.000000</td>\n",
       "    </tr>\n",
       "  </tbody>\n",
       "</table>\n",
       "</div>"
      ],
      "text/plain": [
       "         Roll NO\n",
       "count   5.000000\n",
       "mean   32.200000\n",
       "std    14.889594\n",
       "min    10.000000\n",
       "25%    25.000000\n",
       "50%    36.000000\n",
       "75%    45.000000\n",
       "max    45.000000"
      ]
     },
     "execution_count": 198,
     "metadata": {},
     "output_type": "execute_result"
    }
   ],
   "source": [
    "data.describe()"
   ]
  },
  {
   "cell_type": "code",
   "execution_count": 199,
   "id": "af1e6a5d",
   "metadata": {},
   "outputs": [
    {
     "name": "stdout",
     "output_type": "stream",
     "text": [
      "<class 'pandas.core.frame.DataFrame'>\n",
      "RangeIndex: 5 entries, 0 to 4\n",
      "Data columns (total 5 columns):\n",
      " #   Column   Non-Null Count  Dtype \n",
      "---  ------   --------------  ----- \n",
      " 0   Name     5 non-null      object\n",
      " 1   Roll NO  5 non-null      int64 \n",
      " 2   Laptop   5 non-null      object\n",
      " 3   City     5 non-null      object\n",
      " 4   Mobile   5 non-null      object\n",
      "dtypes: int64(1), object(4)\n",
      "memory usage: 328.0+ bytes\n"
     ]
    }
   ],
   "source": [
    "data.info()"
   ]
  },
  {
   "cell_type": "code",
   "execution_count": 200,
   "id": "5caa7363",
   "metadata": {},
   "outputs": [
    {
     "data": {
      "text/html": [
       "<div>\n",
       "<style scoped>\n",
       "    .dataframe tbody tr th:only-of-type {\n",
       "        vertical-align: middle;\n",
       "    }\n",
       "\n",
       "    .dataframe tbody tr th {\n",
       "        vertical-align: top;\n",
       "    }\n",
       "\n",
       "    .dataframe thead th {\n",
       "        text-align: right;\n",
       "    }\n",
       "</style>\n",
       "<table border=\"1\" class=\"dataframe\">\n",
       "  <thead>\n",
       "    <tr style=\"text-align: right;\">\n",
       "      <th></th>\n",
       "      <th>Name</th>\n",
       "      <th>Roll NO</th>\n",
       "      <th>Laptop</th>\n",
       "      <th>City</th>\n",
       "      <th>Mobile</th>\n",
       "    </tr>\n",
       "  </thead>\n",
       "  <tbody>\n",
       "    <tr>\n",
       "      <th>0</th>\n",
       "      <td>Abhishek dighule</td>\n",
       "      <td>10</td>\n",
       "      <td>yes</td>\n",
       "      <td>Banglore</td>\n",
       "      <td>Redmi</td>\n",
       "    </tr>\n",
       "    <tr>\n",
       "      <th>1</th>\n",
       "      <td>Shankar pande</td>\n",
       "      <td>45</td>\n",
       "      <td>yes</td>\n",
       "      <td>Pune</td>\n",
       "      <td>Redmi</td>\n",
       "    </tr>\n",
       "  </tbody>\n",
       "</table>\n",
       "</div>"
      ],
      "text/plain": [
       "               Name  Roll NO Laptop      City Mobile\n",
       "0  Abhishek dighule       10    yes  Banglore  Redmi\n",
       "1     Shankar pande       45    yes      Pune  Redmi"
      ]
     },
     "execution_count": 200,
     "metadata": {},
     "output_type": "execute_result"
    }
   ],
   "source": [
    "data.loc[data[\"Mobile\"]==\"Redmi\"]"
   ]
  },
  {
   "cell_type": "code",
   "execution_count": 201,
   "id": "f683dde4",
   "metadata": {},
   "outputs": [
    {
     "data": {
      "text/html": [
       "<div>\n",
       "<style scoped>\n",
       "    .dataframe tbody tr th:only-of-type {\n",
       "        vertical-align: middle;\n",
       "    }\n",
       "\n",
       "    .dataframe tbody tr th {\n",
       "        vertical-align: top;\n",
       "    }\n",
       "\n",
       "    .dataframe thead th {\n",
       "        text-align: right;\n",
       "    }\n",
       "</style>\n",
       "<table border=\"1\" class=\"dataframe\">\n",
       "  <thead>\n",
       "    <tr style=\"text-align: right;\">\n",
       "      <th></th>\n",
       "      <th>Name</th>\n",
       "      <th>Roll NO</th>\n",
       "      <th>Laptop</th>\n",
       "      <th>City</th>\n",
       "      <th>Mobile</th>\n",
       "    </tr>\n",
       "  </thead>\n",
       "  <tbody>\n",
       "    <tr>\n",
       "      <th>0</th>\n",
       "      <td>Abhishek dighule</td>\n",
       "      <td>10</td>\n",
       "      <td>yes</td>\n",
       "      <td>Banglore</td>\n",
       "      <td>Redmi</td>\n",
       "    </tr>\n",
       "    <tr>\n",
       "      <th>3</th>\n",
       "      <td>Aniket akolkar</td>\n",
       "      <td>45</td>\n",
       "      <td>no</td>\n",
       "      <td>Aurangabad</td>\n",
       "      <td>Samsung</td>\n",
       "    </tr>\n",
       "  </tbody>\n",
       "</table>\n",
       "</div>"
      ],
      "text/plain": [
       "               Name  Roll NO Laptop        City   Mobile\n",
       "0  Abhishek dighule       10    yes    Banglore    Redmi\n",
       "3    Aniket akolkar       45     no  Aurangabad  Samsung"
      ]
     },
     "execution_count": 201,
     "metadata": {},
     "output_type": "execute_result"
    }
   ],
   "source": [
    "data.loc[data[\"Name\"].str.startswith(\"A\")]"
   ]
  },
  {
   "cell_type": "code",
   "execution_count": 202,
   "id": "a2282be3",
   "metadata": {},
   "outputs": [
    {
     "data": {
      "text/html": [
       "<div>\n",
       "<style scoped>\n",
       "    .dataframe tbody tr th:only-of-type {\n",
       "        vertical-align: middle;\n",
       "    }\n",
       "\n",
       "    .dataframe tbody tr th {\n",
       "        vertical-align: top;\n",
       "    }\n",
       "\n",
       "    .dataframe thead th {\n",
       "        text-align: right;\n",
       "    }\n",
       "</style>\n",
       "<table border=\"1\" class=\"dataframe\">\n",
       "  <thead>\n",
       "    <tr style=\"text-align: right;\">\n",
       "      <th></th>\n",
       "      <th>Name</th>\n",
       "      <th>Roll NO</th>\n",
       "      <th>Laptop</th>\n",
       "      <th>City</th>\n",
       "      <th>Mobile</th>\n",
       "    </tr>\n",
       "  </thead>\n",
       "  <tbody>\n",
       "    <tr>\n",
       "      <th>0</th>\n",
       "      <td>Abhishek dighule</td>\n",
       "      <td>10</td>\n",
       "      <td>yes</td>\n",
       "      <td>Banglore</td>\n",
       "      <td>Redmi</td>\n",
       "    </tr>\n",
       "    <tr>\n",
       "      <th>1</th>\n",
       "      <td>Shankar pande</td>\n",
       "      <td>45</td>\n",
       "      <td>yes</td>\n",
       "      <td>Pune</td>\n",
       "      <td>Redmi</td>\n",
       "    </tr>\n",
       "    <tr>\n",
       "      <th>2</th>\n",
       "      <td>Suresh dighule</td>\n",
       "      <td>25</td>\n",
       "      <td>no</td>\n",
       "      <td>Rantnagiri</td>\n",
       "      <td>Apple</td>\n",
       "    </tr>\n",
       "    <tr>\n",
       "      <th>4</th>\n",
       "      <td>Vitthal dighule</td>\n",
       "      <td>36</td>\n",
       "      <td>no</td>\n",
       "      <td>London</td>\n",
       "      <td>No Mobile</td>\n",
       "    </tr>\n",
       "  </tbody>\n",
       "</table>\n",
       "</div>"
      ],
      "text/plain": [
       "               Name  Roll NO Laptop        City     Mobile\n",
       "0  Abhishek dighule       10    yes    Banglore      Redmi\n",
       "1     Shankar pande       45    yes        Pune      Redmi\n",
       "2    Suresh dighule       25     no  Rantnagiri      Apple\n",
       "4   Vitthal dighule       36     no      London  No Mobile"
      ]
     },
     "execution_count": 202,
     "metadata": {},
     "output_type": "execute_result"
    }
   ],
   "source": [
    "data.loc[data[\"Name\"].str.endswith(\"e\")]"
   ]
  },
  {
   "cell_type": "code",
   "execution_count": 203,
   "id": "08185b41",
   "metadata": {},
   "outputs": [
    {
     "data": {
      "text/html": [
       "<div>\n",
       "<style scoped>\n",
       "    .dataframe tbody tr th:only-of-type {\n",
       "        vertical-align: middle;\n",
       "    }\n",
       "\n",
       "    .dataframe tbody tr th {\n",
       "        vertical-align: top;\n",
       "    }\n",
       "\n",
       "    .dataframe thead th {\n",
       "        text-align: right;\n",
       "    }\n",
       "</style>\n",
       "<table border=\"1\" class=\"dataframe\">\n",
       "  <thead>\n",
       "    <tr style=\"text-align: right;\">\n",
       "      <th></th>\n",
       "      <th>Name</th>\n",
       "      <th>Roll NO</th>\n",
       "      <th>Laptop</th>\n",
       "      <th>City</th>\n",
       "      <th>Mobile</th>\n",
       "    </tr>\n",
       "  </thead>\n",
       "  <tbody>\n",
       "    <tr>\n",
       "      <th>0</th>\n",
       "      <td>Abhishek dighule</td>\n",
       "      <td>10</td>\n",
       "      <td>yes</td>\n",
       "      <td>Banglore</td>\n",
       "      <td>Redmi</td>\n",
       "    </tr>\n",
       "  </tbody>\n",
       "</table>\n",
       "</div>"
      ],
      "text/plain": [
       "               Name  Roll NO Laptop      City Mobile\n",
       "0  Abhishek dighule       10    yes  Banglore  Redmi"
      ]
     },
     "execution_count": 203,
     "metadata": {},
     "output_type": "execute_result"
    }
   ],
   "source": [
    "data.loc[(data[\"Laptop\"]==\"yes\")&(data[\"Name\"].str.startswith(\"A\"))]"
   ]
  },
  {
   "cell_type": "code",
   "execution_count": 204,
   "id": "9a714ed6",
   "metadata": {
    "scrolled": true
   },
   "outputs": [
    {
     "data": {
      "text/html": [
       "<div>\n",
       "<style scoped>\n",
       "    .dataframe tbody tr th:only-of-type {\n",
       "        vertical-align: middle;\n",
       "    }\n",
       "\n",
       "    .dataframe tbody tr th {\n",
       "        vertical-align: top;\n",
       "    }\n",
       "\n",
       "    .dataframe thead th {\n",
       "        text-align: right;\n",
       "    }\n",
       "</style>\n",
       "<table border=\"1\" class=\"dataframe\">\n",
       "  <thead>\n",
       "    <tr style=\"text-align: right;\">\n",
       "      <th></th>\n",
       "      <th>Name</th>\n",
       "      <th>Roll NO</th>\n",
       "      <th>Laptop</th>\n",
       "      <th>City</th>\n",
       "      <th>Mobile</th>\n",
       "    </tr>\n",
       "  </thead>\n",
       "  <tbody>\n",
       "    <tr>\n",
       "      <th>0</th>\n",
       "      <td>Abhishek dighule</td>\n",
       "      <td>10</td>\n",
       "      <td>yes</td>\n",
       "      <td>Banglore</td>\n",
       "      <td>Redmi</td>\n",
       "    </tr>\n",
       "    <tr>\n",
       "      <th>1</th>\n",
       "      <td>Shankar pande</td>\n",
       "      <td>45</td>\n",
       "      <td>yes</td>\n",
       "      <td>Pune</td>\n",
       "      <td>Redmi</td>\n",
       "    </tr>\n",
       "    <tr>\n",
       "      <th>2</th>\n",
       "      <td>Suresh dighule</td>\n",
       "      <td>25</td>\n",
       "      <td>no</td>\n",
       "      <td>Rantnagiri</td>\n",
       "      <td>Apple</td>\n",
       "    </tr>\n",
       "    <tr>\n",
       "      <th>3</th>\n",
       "      <td>Aniket akolkar</td>\n",
       "      <td>45</td>\n",
       "      <td>no</td>\n",
       "      <td>Aurangabad</td>\n",
       "      <td>Samsung</td>\n",
       "    </tr>\n",
       "    <tr>\n",
       "      <th>4</th>\n",
       "      <td>Vitthal dighule</td>\n",
       "      <td>36</td>\n",
       "      <td>no</td>\n",
       "      <td>London</td>\n",
       "      <td>No Mobile</td>\n",
       "    </tr>\n",
       "  </tbody>\n",
       "</table>\n",
       "</div>"
      ],
      "text/plain": [
       "               Name  Roll NO Laptop        City     Mobile\n",
       "0  Abhishek dighule       10    yes    Banglore      Redmi\n",
       "1     Shankar pande       45    yes        Pune      Redmi\n",
       "2    Suresh dighule       25     no  Rantnagiri      Apple\n",
       "3    Aniket akolkar       45     no  Aurangabad    Samsung\n",
       "4   Vitthal dighule       36     no      London  No Mobile"
      ]
     },
     "execution_count": 204,
     "metadata": {},
     "output_type": "execute_result"
    }
   ],
   "source": [
    "data"
   ]
  },
  {
   "cell_type": "code",
   "execution_count": 205,
   "id": "20159d54",
   "metadata": {},
   "outputs": [
    {
     "data": {
      "text/html": [
       "<div>\n",
       "<style scoped>\n",
       "    .dataframe tbody tr th:only-of-type {\n",
       "        vertical-align: middle;\n",
       "    }\n",
       "\n",
       "    .dataframe tbody tr th {\n",
       "        vertical-align: top;\n",
       "    }\n",
       "\n",
       "    .dataframe thead th {\n",
       "        text-align: right;\n",
       "    }\n",
       "</style>\n",
       "<table border=\"1\" class=\"dataframe\">\n",
       "  <thead>\n",
       "    <tr style=\"text-align: right;\">\n",
       "      <th></th>\n",
       "      <th>Name</th>\n",
       "      <th>Roll NO</th>\n",
       "      <th>Laptop</th>\n",
       "      <th>City</th>\n",
       "      <th>Mobile</th>\n",
       "    </tr>\n",
       "  </thead>\n",
       "  <tbody>\n",
       "    <tr>\n",
       "      <th>0</th>\n",
       "      <td>1.0</td>\n",
       "      <td>1.0</td>\n",
       "      <td>4.5</td>\n",
       "      <td>2.0</td>\n",
       "      <td>3.5</td>\n",
       "    </tr>\n",
       "    <tr>\n",
       "      <th>1</th>\n",
       "      <td>3.0</td>\n",
       "      <td>4.5</td>\n",
       "      <td>4.5</td>\n",
       "      <td>4.0</td>\n",
       "      <td>3.5</td>\n",
       "    </tr>\n",
       "    <tr>\n",
       "      <th>2</th>\n",
       "      <td>4.0</td>\n",
       "      <td>2.0</td>\n",
       "      <td>2.0</td>\n",
       "      <td>5.0</td>\n",
       "      <td>1.0</td>\n",
       "    </tr>\n",
       "    <tr>\n",
       "      <th>3</th>\n",
       "      <td>2.0</td>\n",
       "      <td>4.5</td>\n",
       "      <td>2.0</td>\n",
       "      <td>1.0</td>\n",
       "      <td>5.0</td>\n",
       "    </tr>\n",
       "    <tr>\n",
       "      <th>4</th>\n",
       "      <td>5.0</td>\n",
       "      <td>3.0</td>\n",
       "      <td>2.0</td>\n",
       "      <td>3.0</td>\n",
       "      <td>2.0</td>\n",
       "    </tr>\n",
       "  </tbody>\n",
       "</table>\n",
       "</div>"
      ],
      "text/plain": [
       "   Name  Roll NO  Laptop  City  Mobile\n",
       "0   1.0      1.0     4.5   2.0     3.5\n",
       "1   3.0      4.5     4.5   4.0     3.5\n",
       "2   4.0      2.0     2.0   5.0     1.0\n",
       "3   2.0      4.5     2.0   1.0     5.0\n",
       "4   5.0      3.0     2.0   3.0     2.0"
      ]
     },
     "execution_count": 205,
     "metadata": {},
     "output_type": "execute_result"
    }
   ],
   "source": [
    "data.rank()"
   ]
  },
  {
   "cell_type": "code",
   "execution_count": 206,
   "id": "6ad617bf",
   "metadata": {},
   "outputs": [
    {
     "data": {
      "text/html": [
       "<div>\n",
       "<style scoped>\n",
       "    .dataframe tbody tr th:only-of-type {\n",
       "        vertical-align: middle;\n",
       "    }\n",
       "\n",
       "    .dataframe tbody tr th {\n",
       "        vertical-align: top;\n",
       "    }\n",
       "\n",
       "    .dataframe thead th {\n",
       "        text-align: right;\n",
       "    }\n",
       "</style>\n",
       "<table border=\"1\" class=\"dataframe\">\n",
       "  <thead>\n",
       "    <tr style=\"text-align: right;\">\n",
       "      <th></th>\n",
       "      <th>Name</th>\n",
       "      <th>Roll NO</th>\n",
       "      <th>Laptop</th>\n",
       "      <th>City</th>\n",
       "      <th>Mobile</th>\n",
       "    </tr>\n",
       "  </thead>\n",
       "  <tbody>\n",
       "    <tr>\n",
       "      <th>0</th>\n",
       "      <td>Abhishek dighule</td>\n",
       "      <td>10</td>\n",
       "      <td>yes</td>\n",
       "      <td>Banglore</td>\n",
       "      <td>Redmi</td>\n",
       "    </tr>\n",
       "    <tr>\n",
       "      <th>3</th>\n",
       "      <td>Aniket akolkar</td>\n",
       "      <td>45</td>\n",
       "      <td>no</td>\n",
       "      <td>Aurangabad</td>\n",
       "      <td>Samsung</td>\n",
       "    </tr>\n",
       "    <tr>\n",
       "      <th>1</th>\n",
       "      <td>Shankar pande</td>\n",
       "      <td>45</td>\n",
       "      <td>yes</td>\n",
       "      <td>Pune</td>\n",
       "      <td>Redmi</td>\n",
       "    </tr>\n",
       "    <tr>\n",
       "      <th>2</th>\n",
       "      <td>Suresh dighule</td>\n",
       "      <td>25</td>\n",
       "      <td>no</td>\n",
       "      <td>Rantnagiri</td>\n",
       "      <td>Apple</td>\n",
       "    </tr>\n",
       "    <tr>\n",
       "      <th>4</th>\n",
       "      <td>Vitthal dighule</td>\n",
       "      <td>36</td>\n",
       "      <td>no</td>\n",
       "      <td>London</td>\n",
       "      <td>No Mobile</td>\n",
       "    </tr>\n",
       "  </tbody>\n",
       "</table>\n",
       "</div>"
      ],
      "text/plain": [
       "               Name  Roll NO Laptop        City     Mobile\n",
       "0  Abhishek dighule       10    yes    Banglore      Redmi\n",
       "3    Aniket akolkar       45     no  Aurangabad    Samsung\n",
       "1     Shankar pande       45    yes        Pune      Redmi\n",
       "2    Suresh dighule       25     no  Rantnagiri      Apple\n",
       "4   Vitthal dighule       36     no      London  No Mobile"
      ]
     },
     "execution_count": 206,
     "metadata": {},
     "output_type": "execute_result"
    }
   ],
   "source": [
    "data.sort_values(by=\"Name\")"
   ]
  },
  {
   "cell_type": "code",
   "execution_count": 207,
   "id": "a3003642",
   "metadata": {},
   "outputs": [
    {
     "data": {
      "text/html": [
       "<div>\n",
       "<style scoped>\n",
       "    .dataframe tbody tr th:only-of-type {\n",
       "        vertical-align: middle;\n",
       "    }\n",
       "\n",
       "    .dataframe tbody tr th {\n",
       "        vertical-align: top;\n",
       "    }\n",
       "\n",
       "    .dataframe thead th {\n",
       "        text-align: right;\n",
       "    }\n",
       "</style>\n",
       "<table border=\"1\" class=\"dataframe\">\n",
       "  <thead>\n",
       "    <tr style=\"text-align: right;\">\n",
       "      <th></th>\n",
       "      <th>Name</th>\n",
       "      <th>Roll NO</th>\n",
       "      <th>Laptop</th>\n",
       "      <th>City</th>\n",
       "      <th>Mobile</th>\n",
       "    </tr>\n",
       "  </thead>\n",
       "  <tbody>\n",
       "    <tr>\n",
       "      <th>3</th>\n",
       "      <td>Aniket akolkar</td>\n",
       "      <td>45</td>\n",
       "      <td>no</td>\n",
       "      <td>Aurangabad</td>\n",
       "      <td>Samsung</td>\n",
       "    </tr>\n",
       "    <tr>\n",
       "      <th>0</th>\n",
       "      <td>Abhishek dighule</td>\n",
       "      <td>10</td>\n",
       "      <td>yes</td>\n",
       "      <td>Banglore</td>\n",
       "      <td>Redmi</td>\n",
       "    </tr>\n",
       "    <tr>\n",
       "      <th>4</th>\n",
       "      <td>Vitthal dighule</td>\n",
       "      <td>36</td>\n",
       "      <td>no</td>\n",
       "      <td>London</td>\n",
       "      <td>No Mobile</td>\n",
       "    </tr>\n",
       "    <tr>\n",
       "      <th>1</th>\n",
       "      <td>Shankar pande</td>\n",
       "      <td>45</td>\n",
       "      <td>yes</td>\n",
       "      <td>Pune</td>\n",
       "      <td>Redmi</td>\n",
       "    </tr>\n",
       "    <tr>\n",
       "      <th>2</th>\n",
       "      <td>Suresh dighule</td>\n",
       "      <td>25</td>\n",
       "      <td>no</td>\n",
       "      <td>Rantnagiri</td>\n",
       "      <td>Apple</td>\n",
       "    </tr>\n",
       "  </tbody>\n",
       "</table>\n",
       "</div>"
      ],
      "text/plain": [
       "               Name  Roll NO Laptop        City     Mobile\n",
       "3    Aniket akolkar       45     no  Aurangabad    Samsung\n",
       "0  Abhishek dighule       10    yes    Banglore      Redmi\n",
       "4   Vitthal dighule       36     no      London  No Mobile\n",
       "1     Shankar pande       45    yes        Pune      Redmi\n",
       "2    Suresh dighule       25     no  Rantnagiri      Apple"
      ]
     },
     "execution_count": 207,
     "metadata": {},
     "output_type": "execute_result"
    }
   ],
   "source": [
    "data.sort_values(by=\"City\")"
   ]
  },
  {
   "cell_type": "code",
   "execution_count": 208,
   "id": "f5daf606",
   "metadata": {},
   "outputs": [
    {
     "data": {
      "text/html": [
       "<div>\n",
       "<style scoped>\n",
       "    .dataframe tbody tr th:only-of-type {\n",
       "        vertical-align: middle;\n",
       "    }\n",
       "\n",
       "    .dataframe tbody tr th {\n",
       "        vertical-align: top;\n",
       "    }\n",
       "\n",
       "    .dataframe thead th {\n",
       "        text-align: right;\n",
       "    }\n",
       "</style>\n",
       "<table border=\"1\" class=\"dataframe\">\n",
       "  <thead>\n",
       "    <tr style=\"text-align: right;\">\n",
       "      <th></th>\n",
       "      <th>Name</th>\n",
       "      <th>Roll NO</th>\n",
       "      <th>Laptop</th>\n",
       "      <th>City</th>\n",
       "      <th>Mobile</th>\n",
       "    </tr>\n",
       "  </thead>\n",
       "  <tbody>\n",
       "    <tr>\n",
       "      <th>2</th>\n",
       "      <td>Suresh dighule</td>\n",
       "      <td>25</td>\n",
       "      <td>no</td>\n",
       "      <td>Rantnagiri</td>\n",
       "      <td>Apple</td>\n",
       "    </tr>\n",
       "    <tr>\n",
       "      <th>4</th>\n",
       "      <td>Vitthal dighule</td>\n",
       "      <td>36</td>\n",
       "      <td>no</td>\n",
       "      <td>London</td>\n",
       "      <td>No Mobile</td>\n",
       "    </tr>\n",
       "    <tr>\n",
       "      <th>0</th>\n",
       "      <td>Abhishek dighule</td>\n",
       "      <td>10</td>\n",
       "      <td>yes</td>\n",
       "      <td>Banglore</td>\n",
       "      <td>Redmi</td>\n",
       "    </tr>\n",
       "    <tr>\n",
       "      <th>1</th>\n",
       "      <td>Shankar pande</td>\n",
       "      <td>45</td>\n",
       "      <td>yes</td>\n",
       "      <td>Pune</td>\n",
       "      <td>Redmi</td>\n",
       "    </tr>\n",
       "    <tr>\n",
       "      <th>3</th>\n",
       "      <td>Aniket akolkar</td>\n",
       "      <td>45</td>\n",
       "      <td>no</td>\n",
       "      <td>Aurangabad</td>\n",
       "      <td>Samsung</td>\n",
       "    </tr>\n",
       "  </tbody>\n",
       "</table>\n",
       "</div>"
      ],
      "text/plain": [
       "               Name  Roll NO Laptop        City     Mobile\n",
       "2    Suresh dighule       25     no  Rantnagiri      Apple\n",
       "4   Vitthal dighule       36     no      London  No Mobile\n",
       "0  Abhishek dighule       10    yes    Banglore      Redmi\n",
       "1     Shankar pande       45    yes        Pune      Redmi\n",
       "3    Aniket akolkar       45     no  Aurangabad    Samsung"
      ]
     },
     "execution_count": 208,
     "metadata": {},
     "output_type": "execute_result"
    }
   ],
   "source": [
    "data.sort_values(by=\"Mobile\")"
   ]
  },
  {
   "cell_type": "code",
   "execution_count": 209,
   "id": "8a246656",
   "metadata": {},
   "outputs": [
    {
     "data": {
      "text/html": [
       "<div>\n",
       "<style scoped>\n",
       "    .dataframe tbody tr th:only-of-type {\n",
       "        vertical-align: middle;\n",
       "    }\n",
       "\n",
       "    .dataframe tbody tr th {\n",
       "        vertical-align: top;\n",
       "    }\n",
       "\n",
       "    .dataframe thead th {\n",
       "        text-align: right;\n",
       "    }\n",
       "</style>\n",
       "<table border=\"1\" class=\"dataframe\">\n",
       "  <thead>\n",
       "    <tr style=\"text-align: right;\">\n",
       "      <th></th>\n",
       "      <th>Name</th>\n",
       "      <th>Roll NO</th>\n",
       "      <th>Laptop</th>\n",
       "      <th>City</th>\n",
       "      <th>Mobile</th>\n",
       "    </tr>\n",
       "  </thead>\n",
       "  <tbody>\n",
       "    <tr>\n",
       "      <th>0</th>\n",
       "      <td>Abhishek dighule</td>\n",
       "      <td>10</td>\n",
       "      <td>yes</td>\n",
       "      <td>Banglore</td>\n",
       "      <td>Redmi</td>\n",
       "    </tr>\n",
       "    <tr>\n",
       "      <th>1</th>\n",
       "      <td>Shankar pande</td>\n",
       "      <td>45</td>\n",
       "      <td>yes</td>\n",
       "      <td>Pune</td>\n",
       "      <td>Redmi</td>\n",
       "    </tr>\n",
       "    <tr>\n",
       "      <th>2</th>\n",
       "      <td>Suresh dighule</td>\n",
       "      <td>25</td>\n",
       "      <td>no</td>\n",
       "      <td>Rantnagiri</td>\n",
       "      <td>Apple</td>\n",
       "    </tr>\n",
       "    <tr>\n",
       "      <th>3</th>\n",
       "      <td>Aniket akolkar</td>\n",
       "      <td>45</td>\n",
       "      <td>no</td>\n",
       "      <td>Aurangabad</td>\n",
       "      <td>Samsung</td>\n",
       "    </tr>\n",
       "    <tr>\n",
       "      <th>4</th>\n",
       "      <td>Vitthal dighule</td>\n",
       "      <td>36</td>\n",
       "      <td>no</td>\n",
       "      <td>London</td>\n",
       "      <td>No Mobile</td>\n",
       "    </tr>\n",
       "  </tbody>\n",
       "</table>\n",
       "</div>"
      ],
      "text/plain": [
       "               Name  Roll NO Laptop        City     Mobile\n",
       "0  Abhishek dighule       10    yes    Banglore      Redmi\n",
       "1     Shankar pande       45    yes        Pune      Redmi\n",
       "2    Suresh dighule       25     no  Rantnagiri      Apple\n",
       "3    Aniket akolkar       45     no  Aurangabad    Samsung\n",
       "4   Vitthal dighule       36     no      London  No Mobile"
      ]
     },
     "execution_count": 209,
     "metadata": {},
     "output_type": "execute_result"
    }
   ],
   "source": [
    "data"
   ]
  },
  {
   "cell_type": "code",
   "execution_count": 210,
   "id": "f242e5cf",
   "metadata": {},
   "outputs": [
    {
     "data": {
      "text/plain": [
       "14"
      ]
     },
     "execution_count": 210,
     "metadata": {},
     "output_type": "execute_result"
    }
   ],
   "source": [
    "len(\"Aniket akolkar\")"
   ]
  },
  {
   "cell_type": "code",
   "execution_count": 211,
   "id": "e0ca24cb",
   "metadata": {},
   "outputs": [],
   "source": [
    "data.drop(4,axis=0,inplace=True\n",
    "         )"
   ]
  },
  {
   "cell_type": "code",
   "execution_count": 212,
   "id": "ac643cb0",
   "metadata": {},
   "outputs": [
    {
     "data": {
      "text/html": [
       "<div>\n",
       "<style scoped>\n",
       "    .dataframe tbody tr th:only-of-type {\n",
       "        vertical-align: middle;\n",
       "    }\n",
       "\n",
       "    .dataframe tbody tr th {\n",
       "        vertical-align: top;\n",
       "    }\n",
       "\n",
       "    .dataframe thead th {\n",
       "        text-align: right;\n",
       "    }\n",
       "</style>\n",
       "<table border=\"1\" class=\"dataframe\">\n",
       "  <thead>\n",
       "    <tr style=\"text-align: right;\">\n",
       "      <th></th>\n",
       "      <th>Name</th>\n",
       "      <th>Roll NO</th>\n",
       "      <th>Laptop</th>\n",
       "      <th>City</th>\n",
       "      <th>Mobile</th>\n",
       "    </tr>\n",
       "  </thead>\n",
       "  <tbody>\n",
       "    <tr>\n",
       "      <th>0</th>\n",
       "      <td>Abhishek dighule</td>\n",
       "      <td>10</td>\n",
       "      <td>yes</td>\n",
       "      <td>Banglore</td>\n",
       "      <td>Redmi</td>\n",
       "    </tr>\n",
       "    <tr>\n",
       "      <th>1</th>\n",
       "      <td>Shankar pande</td>\n",
       "      <td>45</td>\n",
       "      <td>yes</td>\n",
       "      <td>Pune</td>\n",
       "      <td>Redmi</td>\n",
       "    </tr>\n",
       "    <tr>\n",
       "      <th>2</th>\n",
       "      <td>Suresh dighule</td>\n",
       "      <td>25</td>\n",
       "      <td>no</td>\n",
       "      <td>Rantnagiri</td>\n",
       "      <td>Apple</td>\n",
       "    </tr>\n",
       "    <tr>\n",
       "      <th>3</th>\n",
       "      <td>Aniket akolkar</td>\n",
       "      <td>45</td>\n",
       "      <td>no</td>\n",
       "      <td>Aurangabad</td>\n",
       "      <td>Samsung</td>\n",
       "    </tr>\n",
       "  </tbody>\n",
       "</table>\n",
       "</div>"
      ],
      "text/plain": [
       "               Name  Roll NO Laptop        City   Mobile\n",
       "0  Abhishek dighule       10    yes    Banglore    Redmi\n",
       "1     Shankar pande       45    yes        Pune    Redmi\n",
       "2    Suresh dighule       25     no  Rantnagiri    Apple\n",
       "3    Aniket akolkar       45     no  Aurangabad  Samsung"
      ]
     },
     "execution_count": 212,
     "metadata": {},
     "output_type": "execute_result"
    }
   ],
   "source": [
    "data"
   ]
  },
  {
   "cell_type": "code",
   "execution_count": 213,
   "id": "d4eaf2b5",
   "metadata": {},
   "outputs": [],
   "source": [
    "info1={\"Name\":[\"Vitthal\",\"Sadhana\",\"Yeshraj\",\"Rohit\",\"Rushi\"],\n",
    "       \"Roll NO\":[12,45,32,45,25],\n",
    "       \"Laptop\":[\"Yes\",\"Yes\",\"No\",\"Yes\",\"No\"],\n",
    "       \"Mobile\":[\"Redmi\",\"Oppo\",\"Iphone\",\"Vivo\",\"oneplus\"],\n",
    "       \"City\" :[\"Delhi\",\"Kolhapur\",\"Mumbai\",\"Pune\",\"Aurangabd\"]\n",
    "}"
   ]
  },
  {
   "cell_type": "code",
   "execution_count": 214,
   "id": "1e6ae013",
   "metadata": {},
   "outputs": [],
   "source": [
    "data1=pd.DataFrame(info1)"
   ]
  },
  {
   "cell_type": "code",
   "execution_count": 215,
   "id": "dc74afc8",
   "metadata": {},
   "outputs": [
    {
     "data": {
      "text/html": [
       "<div>\n",
       "<style scoped>\n",
       "    .dataframe tbody tr th:only-of-type {\n",
       "        vertical-align: middle;\n",
       "    }\n",
       "\n",
       "    .dataframe tbody tr th {\n",
       "        vertical-align: top;\n",
       "    }\n",
       "\n",
       "    .dataframe thead th {\n",
       "        text-align: right;\n",
       "    }\n",
       "</style>\n",
       "<table border=\"1\" class=\"dataframe\">\n",
       "  <thead>\n",
       "    <tr style=\"text-align: right;\">\n",
       "      <th></th>\n",
       "      <th>Name</th>\n",
       "      <th>Roll NO</th>\n",
       "      <th>Laptop</th>\n",
       "      <th>Mobile</th>\n",
       "      <th>City</th>\n",
       "    </tr>\n",
       "  </thead>\n",
       "  <tbody>\n",
       "    <tr>\n",
       "      <th>0</th>\n",
       "      <td>Vitthal</td>\n",
       "      <td>12</td>\n",
       "      <td>Yes</td>\n",
       "      <td>Redmi</td>\n",
       "      <td>Delhi</td>\n",
       "    </tr>\n",
       "    <tr>\n",
       "      <th>1</th>\n",
       "      <td>Sadhana</td>\n",
       "      <td>45</td>\n",
       "      <td>Yes</td>\n",
       "      <td>Oppo</td>\n",
       "      <td>Kolhapur</td>\n",
       "    </tr>\n",
       "    <tr>\n",
       "      <th>2</th>\n",
       "      <td>Yeshraj</td>\n",
       "      <td>32</td>\n",
       "      <td>No</td>\n",
       "      <td>Iphone</td>\n",
       "      <td>Mumbai</td>\n",
       "    </tr>\n",
       "    <tr>\n",
       "      <th>3</th>\n",
       "      <td>Rohit</td>\n",
       "      <td>45</td>\n",
       "      <td>Yes</td>\n",
       "      <td>Vivo</td>\n",
       "      <td>Pune</td>\n",
       "    </tr>\n",
       "    <tr>\n",
       "      <th>4</th>\n",
       "      <td>Rushi</td>\n",
       "      <td>25</td>\n",
       "      <td>No</td>\n",
       "      <td>oneplus</td>\n",
       "      <td>Aurangabd</td>\n",
       "    </tr>\n",
       "  </tbody>\n",
       "</table>\n",
       "</div>"
      ],
      "text/plain": [
       "      Name  Roll NO Laptop   Mobile       City\n",
       "0  Vitthal       12    Yes    Redmi      Delhi\n",
       "1  Sadhana       45    Yes     Oppo   Kolhapur\n",
       "2  Yeshraj       32     No   Iphone     Mumbai\n",
       "3    Rohit       45    Yes     Vivo       Pune\n",
       "4    Rushi       25     No  oneplus  Aurangabd"
      ]
     },
     "execution_count": 215,
     "metadata": {},
     "output_type": "execute_result"
    }
   ],
   "source": [
    "data1"
   ]
  },
  {
   "cell_type": "code",
   "execution_count": 139,
   "id": "b6845ac1",
   "metadata": {},
   "outputs": [],
   "source": [
    "a=pd.concat([data,data1],axis=0)"
   ]
  },
  {
   "cell_type": "code",
   "execution_count": 140,
   "id": "0fc9cafc",
   "metadata": {},
   "outputs": [
    {
     "data": {
      "text/html": [
       "<div>\n",
       "<style scoped>\n",
       "    .dataframe tbody tr th:only-of-type {\n",
       "        vertical-align: middle;\n",
       "    }\n",
       "\n",
       "    .dataframe tbody tr th {\n",
       "        vertical-align: top;\n",
       "    }\n",
       "\n",
       "    .dataframe thead th {\n",
       "        text-align: right;\n",
       "    }\n",
       "</style>\n",
       "<table border=\"1\" class=\"dataframe\">\n",
       "  <thead>\n",
       "    <tr style=\"text-align: right;\">\n",
       "      <th></th>\n",
       "      <th>Name</th>\n",
       "      <th>Roll NO</th>\n",
       "      <th>Laptop</th>\n",
       "      <th>City</th>\n",
       "      <th>Mobile</th>\n",
       "    </tr>\n",
       "  </thead>\n",
       "  <tbody>\n",
       "    <tr>\n",
       "      <th>0</th>\n",
       "      <td>Abhishek dighule</td>\n",
       "      <td>10</td>\n",
       "      <td>yes</td>\n",
       "      <td>Banglore</td>\n",
       "      <td>Redmi</td>\n",
       "    </tr>\n",
       "    <tr>\n",
       "      <th>1</th>\n",
       "      <td>Shankar pande</td>\n",
       "      <td>45</td>\n",
       "      <td>yes</td>\n",
       "      <td>Pune</td>\n",
       "      <td>Redmi</td>\n",
       "    </tr>\n",
       "    <tr>\n",
       "      <th>2</th>\n",
       "      <td>Suresh dighule</td>\n",
       "      <td>25</td>\n",
       "      <td>no</td>\n",
       "      <td>Rantnagiri</td>\n",
       "      <td>Apple</td>\n",
       "    </tr>\n",
       "    <tr>\n",
       "      <th>3</th>\n",
       "      <td>Aniket akolkar</td>\n",
       "      <td>45</td>\n",
       "      <td>no</td>\n",
       "      <td>Aurangabad</td>\n",
       "      <td>Samsung</td>\n",
       "    </tr>\n",
       "    <tr>\n",
       "      <th>0</th>\n",
       "      <td>Vitthal</td>\n",
       "      <td>12</td>\n",
       "      <td>Yes</td>\n",
       "      <td>Delhi</td>\n",
       "      <td>Redmi</td>\n",
       "    </tr>\n",
       "    <tr>\n",
       "      <th>1</th>\n",
       "      <td>Sadhana</td>\n",
       "      <td>45</td>\n",
       "      <td>Yes</td>\n",
       "      <td>Kolhapur</td>\n",
       "      <td>Oppo</td>\n",
       "    </tr>\n",
       "    <tr>\n",
       "      <th>2</th>\n",
       "      <td>Yeshraj</td>\n",
       "      <td>32</td>\n",
       "      <td>No</td>\n",
       "      <td>Mumbai</td>\n",
       "      <td>Iphone</td>\n",
       "    </tr>\n",
       "    <tr>\n",
       "      <th>3</th>\n",
       "      <td>Rohit</td>\n",
       "      <td>45</td>\n",
       "      <td>Yes</td>\n",
       "      <td>Pune</td>\n",
       "      <td>Vivo</td>\n",
       "    </tr>\n",
       "    <tr>\n",
       "      <th>4</th>\n",
       "      <td>Rushi</td>\n",
       "      <td>25</td>\n",
       "      <td>No</td>\n",
       "      <td>Aurangabd</td>\n",
       "      <td>oneplus</td>\n",
       "    </tr>\n",
       "  </tbody>\n",
       "</table>\n",
       "</div>"
      ],
      "text/plain": [
       "               Name  Roll NO Laptop        City   Mobile\n",
       "0  Abhishek dighule       10    yes    Banglore    Redmi\n",
       "1     Shankar pande       45    yes        Pune    Redmi\n",
       "2    Suresh dighule       25     no  Rantnagiri    Apple\n",
       "3    Aniket akolkar       45     no  Aurangabad  Samsung\n",
       "0           Vitthal       12    Yes       Delhi    Redmi\n",
       "1           Sadhana       45    Yes    Kolhapur     Oppo\n",
       "2           Yeshraj       32     No      Mumbai   Iphone\n",
       "3             Rohit       45    Yes        Pune     Vivo\n",
       "4             Rushi       25     No   Aurangabd  oneplus"
      ]
     },
     "execution_count": 140,
     "metadata": {},
     "output_type": "execute_result"
    }
   ],
   "source": [
    "a"
   ]
  },
  {
   "cell_type": "code",
   "execution_count": 141,
   "id": "f90f2ca9",
   "metadata": {},
   "outputs": [
    {
     "data": {
      "text/html": [
       "<div>\n",
       "<style scoped>\n",
       "    .dataframe tbody tr th:only-of-type {\n",
       "        vertical-align: middle;\n",
       "    }\n",
       "\n",
       "    .dataframe tbody tr th {\n",
       "        vertical-align: top;\n",
       "    }\n",
       "\n",
       "    .dataframe thead th {\n",
       "        text-align: right;\n",
       "    }\n",
       "</style>\n",
       "<table border=\"1\" class=\"dataframe\">\n",
       "  <thead>\n",
       "    <tr style=\"text-align: right;\">\n",
       "      <th></th>\n",
       "      <th>Name</th>\n",
       "      <th>Roll NO</th>\n",
       "      <th>Laptop</th>\n",
       "      <th>City</th>\n",
       "      <th>Mobile</th>\n",
       "    </tr>\n",
       "  </thead>\n",
       "  <tbody>\n",
       "    <tr>\n",
       "      <th>0</th>\n",
       "      <td>Abhishek dighule</td>\n",
       "      <td>10</td>\n",
       "      <td>yes</td>\n",
       "      <td>Banglore</td>\n",
       "      <td>Redmi</td>\n",
       "    </tr>\n",
       "    <tr>\n",
       "      <th>3</th>\n",
       "      <td>Aniket akolkar</td>\n",
       "      <td>45</td>\n",
       "      <td>no</td>\n",
       "      <td>Aurangabad</td>\n",
       "      <td>Samsung</td>\n",
       "    </tr>\n",
       "    <tr>\n",
       "      <th>3</th>\n",
       "      <td>Rohit</td>\n",
       "      <td>45</td>\n",
       "      <td>Yes</td>\n",
       "      <td>Pune</td>\n",
       "      <td>Vivo</td>\n",
       "    </tr>\n",
       "    <tr>\n",
       "      <th>4</th>\n",
       "      <td>Rushi</td>\n",
       "      <td>25</td>\n",
       "      <td>No</td>\n",
       "      <td>Aurangabd</td>\n",
       "      <td>oneplus</td>\n",
       "    </tr>\n",
       "    <tr>\n",
       "      <th>1</th>\n",
       "      <td>Sadhana</td>\n",
       "      <td>45</td>\n",
       "      <td>Yes</td>\n",
       "      <td>Kolhapur</td>\n",
       "      <td>Oppo</td>\n",
       "    </tr>\n",
       "    <tr>\n",
       "      <th>1</th>\n",
       "      <td>Shankar pande</td>\n",
       "      <td>45</td>\n",
       "      <td>yes</td>\n",
       "      <td>Pune</td>\n",
       "      <td>Redmi</td>\n",
       "    </tr>\n",
       "    <tr>\n",
       "      <th>2</th>\n",
       "      <td>Suresh dighule</td>\n",
       "      <td>25</td>\n",
       "      <td>no</td>\n",
       "      <td>Rantnagiri</td>\n",
       "      <td>Apple</td>\n",
       "    </tr>\n",
       "    <tr>\n",
       "      <th>0</th>\n",
       "      <td>Vitthal</td>\n",
       "      <td>12</td>\n",
       "      <td>Yes</td>\n",
       "      <td>Delhi</td>\n",
       "      <td>Redmi</td>\n",
       "    </tr>\n",
       "    <tr>\n",
       "      <th>2</th>\n",
       "      <td>Yeshraj</td>\n",
       "      <td>32</td>\n",
       "      <td>No</td>\n",
       "      <td>Mumbai</td>\n",
       "      <td>Iphone</td>\n",
       "    </tr>\n",
       "  </tbody>\n",
       "</table>\n",
       "</div>"
      ],
      "text/plain": [
       "               Name  Roll NO Laptop        City   Mobile\n",
       "0  Abhishek dighule       10    yes    Banglore    Redmi\n",
       "3    Aniket akolkar       45     no  Aurangabad  Samsung\n",
       "3             Rohit       45    Yes        Pune     Vivo\n",
       "4             Rushi       25     No   Aurangabd  oneplus\n",
       "1           Sadhana       45    Yes    Kolhapur     Oppo\n",
       "1     Shankar pande       45    yes        Pune    Redmi\n",
       "2    Suresh dighule       25     no  Rantnagiri    Apple\n",
       "0           Vitthal       12    Yes       Delhi    Redmi\n",
       "2           Yeshraj       32     No      Mumbai   Iphone"
      ]
     },
     "execution_count": 141,
     "metadata": {},
     "output_type": "execute_result"
    }
   ],
   "source": [
    "a.sort_values(by=\"Name\")"
   ]
  },
  {
   "cell_type": "code",
   "execution_count": 142,
   "id": "8a64490d",
   "metadata": {},
   "outputs": [
    {
     "name": "stdout",
     "output_type": "stream",
     "text": [
      "0    1\n",
      "1    2\n",
      "2    3\n",
      "3    4\n",
      "4    5\n",
      "5    6\n",
      "dtype: int64\n"
     ]
    }
   ],
   "source": [
    "data=pd.Series((1,2,3,4,5,6))\n",
    "print(data)"
   ]
  },
  {
   "cell_type": "code",
   "execution_count": 143,
   "id": "88e054ef",
   "metadata": {},
   "outputs": [
    {
     "data": {
      "text/plain": [
       "4"
      ]
     },
     "execution_count": 143,
     "metadata": {},
     "output_type": "execute_result"
    }
   ],
   "source": [
    "data[2]\n",
    "data[3]"
   ]
  },
  {
   "cell_type": "code",
   "execution_count": 144,
   "id": "9797e583",
   "metadata": {},
   "outputs": [],
   "source": [
    "data[3]=40\n",
    "data[4]=50"
   ]
  },
  {
   "cell_type": "code",
   "execution_count": 145,
   "id": "dcc2a256",
   "metadata": {},
   "outputs": [
    {
     "data": {
      "text/plain": [
       "0     1\n",
       "1     2\n",
       "2     3\n",
       "3    40\n",
       "4    50\n",
       "5     6\n",
       "dtype: int64"
      ]
     },
     "execution_count": 145,
     "metadata": {},
     "output_type": "execute_result"
    }
   ],
   "source": [
    "data"
   ]
  },
  {
   "cell_type": "code",
   "execution_count": 146,
   "id": "88427f29",
   "metadata": {},
   "outputs": [
    {
     "name": "stdout",
     "output_type": "stream",
     "text": [
      "1\n",
      "2\n",
      "3\n",
      "40\n",
      "50\n",
      "6\n"
     ]
    }
   ],
   "source": [
    "for i in data:\n",
    "    print(i)"
   ]
  },
  {
   "cell_type": "code",
   "execution_count": 147,
   "id": "8d758400",
   "metadata": {},
   "outputs": [
    {
     "name": "stdout",
     "output_type": "stream",
     "text": [
      "<class 'pandas.core.series.Series'>\n",
      "6\n",
      "int64\n",
      "(6,)\n",
      "(6,)\n"
     ]
    }
   ],
   "source": [
    "print(type(data))\n",
    "print(len(data))\n",
    "print(data.dtype)\n",
    "print(data.shape)\n",
    "print(data.shape)"
   ]
  },
  {
   "cell_type": "code",
   "execution_count": 148,
   "id": "a6ea750c",
   "metadata": {},
   "outputs": [],
   "source": [
    "info={\"name\":[\"Abhishek\",\"shankar\",\"rohit\",\"aniket\",\"shanker\"],\n",
    "     \"roll no\":[10,20,30,40,50],\n",
    "     \"country \":[\"indian\",\"pakistan\",\"usa\",\"isril\",\"iran\"]}"
   ]
  },
  {
   "cell_type": "code",
   "execution_count": 149,
   "id": "44f9dcfe",
   "metadata": {},
   "outputs": [],
   "source": [
    "data=pd.DataFrame(info)"
   ]
  },
  {
   "cell_type": "code",
   "execution_count": 150,
   "id": "7a4a4070",
   "metadata": {},
   "outputs": [
    {
     "data": {
      "text/html": [
       "<div>\n",
       "<style scoped>\n",
       "    .dataframe tbody tr th:only-of-type {\n",
       "        vertical-align: middle;\n",
       "    }\n",
       "\n",
       "    .dataframe tbody tr th {\n",
       "        vertical-align: top;\n",
       "    }\n",
       "\n",
       "    .dataframe thead th {\n",
       "        text-align: right;\n",
       "    }\n",
       "</style>\n",
       "<table border=\"1\" class=\"dataframe\">\n",
       "  <thead>\n",
       "    <tr style=\"text-align: right;\">\n",
       "      <th></th>\n",
       "      <th>name</th>\n",
       "      <th>roll no</th>\n",
       "      <th>country</th>\n",
       "    </tr>\n",
       "  </thead>\n",
       "  <tbody>\n",
       "    <tr>\n",
       "      <th>0</th>\n",
       "      <td>Abhishek</td>\n",
       "      <td>10</td>\n",
       "      <td>indian</td>\n",
       "    </tr>\n",
       "    <tr>\n",
       "      <th>1</th>\n",
       "      <td>shankar</td>\n",
       "      <td>20</td>\n",
       "      <td>pakistan</td>\n",
       "    </tr>\n",
       "    <tr>\n",
       "      <th>2</th>\n",
       "      <td>rohit</td>\n",
       "      <td>30</td>\n",
       "      <td>usa</td>\n",
       "    </tr>\n",
       "    <tr>\n",
       "      <th>3</th>\n",
       "      <td>aniket</td>\n",
       "      <td>40</td>\n",
       "      <td>isril</td>\n",
       "    </tr>\n",
       "    <tr>\n",
       "      <th>4</th>\n",
       "      <td>shanker</td>\n",
       "      <td>50</td>\n",
       "      <td>iran</td>\n",
       "    </tr>\n",
       "  </tbody>\n",
       "</table>\n",
       "</div>"
      ],
      "text/plain": [
       "       name  roll no  country \n",
       "0  Abhishek       10    indian\n",
       "1   shankar       20  pakistan\n",
       "2     rohit       30       usa\n",
       "3    aniket       40     isril\n",
       "4   shanker       50      iran"
      ]
     },
     "execution_count": 150,
     "metadata": {},
     "output_type": "execute_result"
    }
   ],
   "source": [
    "data"
   ]
  },
  {
   "cell_type": "code",
   "execution_count": 151,
   "id": "25104dde",
   "metadata": {},
   "outputs": [
    {
     "data": {
      "text/html": [
       "<div>\n",
       "<style scoped>\n",
       "    .dataframe tbody tr th:only-of-type {\n",
       "        vertical-align: middle;\n",
       "    }\n",
       "\n",
       "    .dataframe tbody tr th {\n",
       "        vertical-align: top;\n",
       "    }\n",
       "\n",
       "    .dataframe thead th {\n",
       "        text-align: right;\n",
       "    }\n",
       "</style>\n",
       "<table border=\"1\" class=\"dataframe\">\n",
       "  <thead>\n",
       "    <tr style=\"text-align: right;\">\n",
       "      <th></th>\n",
       "      <th>name</th>\n",
       "      <th>roll no</th>\n",
       "      <th>country</th>\n",
       "    </tr>\n",
       "  </thead>\n",
       "  <tbody>\n",
       "    <tr>\n",
       "      <th>0</th>\n",
       "      <td>Abhishek</td>\n",
       "      <td>10</td>\n",
       "      <td>indian</td>\n",
       "    </tr>\n",
       "  </tbody>\n",
       "</table>\n",
       "</div>"
      ],
      "text/plain": [
       "       name  roll no country \n",
       "0  Abhishek       10   indian"
      ]
     },
     "execution_count": 151,
     "metadata": {},
     "output_type": "execute_result"
    }
   ],
   "source": [
    "data.loc[0:0]"
   ]
  },
  {
   "cell_type": "code",
   "execution_count": 152,
   "id": "09a287ce",
   "metadata": {},
   "outputs": [
    {
     "data": {
      "text/html": [
       "<div>\n",
       "<style scoped>\n",
       "    .dataframe tbody tr th:only-of-type {\n",
       "        vertical-align: middle;\n",
       "    }\n",
       "\n",
       "    .dataframe tbody tr th {\n",
       "        vertical-align: top;\n",
       "    }\n",
       "\n",
       "    .dataframe thead th {\n",
       "        text-align: right;\n",
       "    }\n",
       "</style>\n",
       "<table border=\"1\" class=\"dataframe\">\n",
       "  <thead>\n",
       "    <tr style=\"text-align: right;\">\n",
       "      <th></th>\n",
       "      <th>name</th>\n",
       "      <th>roll no</th>\n",
       "      <th>country</th>\n",
       "    </tr>\n",
       "  </thead>\n",
       "  <tbody>\n",
       "    <tr>\n",
       "      <th>0</th>\n",
       "      <td>Abhishek</td>\n",
       "      <td>10</td>\n",
       "      <td>indian</td>\n",
       "    </tr>\n",
       "    <tr>\n",
       "      <th>1</th>\n",
       "      <td>shankar</td>\n",
       "      <td>20</td>\n",
       "      <td>pakistan</td>\n",
       "    </tr>\n",
       "    <tr>\n",
       "      <th>2</th>\n",
       "      <td>rohit</td>\n",
       "      <td>30</td>\n",
       "      <td>usa</td>\n",
       "    </tr>\n",
       "  </tbody>\n",
       "</table>\n",
       "</div>"
      ],
      "text/plain": [
       "       name  roll no  country \n",
       "0  Abhishek       10    indian\n",
       "1   shankar       20  pakistan\n",
       "2     rohit       30       usa"
      ]
     },
     "execution_count": 152,
     "metadata": {},
     "output_type": "execute_result"
    }
   ],
   "source": [
    "data.loc[0 :2]"
   ]
  },
  {
   "cell_type": "code",
   "execution_count": 153,
   "id": "41f64346",
   "metadata": {},
   "outputs": [
    {
     "data": {
      "text/html": [
       "<div>\n",
       "<style scoped>\n",
       "    .dataframe tbody tr th:only-of-type {\n",
       "        vertical-align: middle;\n",
       "    }\n",
       "\n",
       "    .dataframe tbody tr th {\n",
       "        vertical-align: top;\n",
       "    }\n",
       "\n",
       "    .dataframe thead th {\n",
       "        text-align: right;\n",
       "    }\n",
       "</style>\n",
       "<table border=\"1\" class=\"dataframe\">\n",
       "  <thead>\n",
       "    <tr style=\"text-align: right;\">\n",
       "      <th></th>\n",
       "      <th>name</th>\n",
       "    </tr>\n",
       "  </thead>\n",
       "  <tbody>\n",
       "    <tr>\n",
       "      <th>0</th>\n",
       "      <td>Abhishek</td>\n",
       "    </tr>\n",
       "    <tr>\n",
       "      <th>1</th>\n",
       "      <td>shankar</td>\n",
       "    </tr>\n",
       "    <tr>\n",
       "      <th>2</th>\n",
       "      <td>rohit</td>\n",
       "    </tr>\n",
       "    <tr>\n",
       "      <th>3</th>\n",
       "      <td>aniket</td>\n",
       "    </tr>\n",
       "    <tr>\n",
       "      <th>4</th>\n",
       "      <td>shanker</td>\n",
       "    </tr>\n",
       "  </tbody>\n",
       "</table>\n",
       "</div>"
      ],
      "text/plain": [
       "       name\n",
       "0  Abhishek\n",
       "1   shankar\n",
       "2     rohit\n",
       "3    aniket\n",
       "4   shanker"
      ]
     },
     "execution_count": 153,
     "metadata": {},
     "output_type": "execute_result"
    }
   ],
   "source": [
    "data[[\"name\"]]"
   ]
  },
  {
   "cell_type": "code",
   "execution_count": 154,
   "id": "0aca65de",
   "metadata": {},
   "outputs": [
    {
     "data": {
      "text/html": [
       "<div>\n",
       "<style scoped>\n",
       "    .dataframe tbody tr th:only-of-type {\n",
       "        vertical-align: middle;\n",
       "    }\n",
       "\n",
       "    .dataframe tbody tr th {\n",
       "        vertical-align: top;\n",
       "    }\n",
       "\n",
       "    .dataframe thead th {\n",
       "        text-align: right;\n",
       "    }\n",
       "</style>\n",
       "<table border=\"1\" class=\"dataframe\">\n",
       "  <thead>\n",
       "    <tr style=\"text-align: right;\">\n",
       "      <th></th>\n",
       "      <th>roll no</th>\n",
       "    </tr>\n",
       "  </thead>\n",
       "  <tbody>\n",
       "    <tr>\n",
       "      <th>0</th>\n",
       "      <td>10</td>\n",
       "    </tr>\n",
       "    <tr>\n",
       "      <th>1</th>\n",
       "      <td>20</td>\n",
       "    </tr>\n",
       "    <tr>\n",
       "      <th>2</th>\n",
       "      <td>30</td>\n",
       "    </tr>\n",
       "    <tr>\n",
       "      <th>3</th>\n",
       "      <td>40</td>\n",
       "    </tr>\n",
       "    <tr>\n",
       "      <th>4</th>\n",
       "      <td>50</td>\n",
       "    </tr>\n",
       "  </tbody>\n",
       "</table>\n",
       "</div>"
      ],
      "text/plain": [
       "   roll no\n",
       "0       10\n",
       "1       20\n",
       "2       30\n",
       "3       40\n",
       "4       50"
      ]
     },
     "execution_count": 154,
     "metadata": {},
     "output_type": "execute_result"
    }
   ],
   "source": [
    "data[[\"roll no\"]]"
   ]
  },
  {
   "cell_type": "code",
   "execution_count": 155,
   "id": "2d178810",
   "metadata": {},
   "outputs": [],
   "source": [
    "data.iloc[2,0]=\"ROHIT PAWAR\""
   ]
  },
  {
   "cell_type": "code",
   "execution_count": 156,
   "id": "a0b9edb7",
   "metadata": {},
   "outputs": [
    {
     "data": {
      "text/plain": [
       "'ROHIT PAWAR'"
      ]
     },
     "execution_count": 156,
     "metadata": {},
     "output_type": "execute_result"
    }
   ],
   "source": [
    "data.iloc[2,0]"
   ]
  },
  {
   "cell_type": "code",
   "execution_count": 157,
   "id": "4d5884f6",
   "metadata": {},
   "outputs": [],
   "source": [
    "data.rename(columns={\"name\":\"NAME\",\"roll no\":\"ROLL NO\",\"country\":\"COUNTRY\"},inplace=True)"
   ]
  },
  {
   "cell_type": "code",
   "execution_count": 158,
   "id": "dd8e00a7",
   "metadata": {},
   "outputs": [
    {
     "data": {
      "text/html": [
       "<div>\n",
       "<style scoped>\n",
       "    .dataframe tbody tr th:only-of-type {\n",
       "        vertical-align: middle;\n",
       "    }\n",
       "\n",
       "    .dataframe tbody tr th {\n",
       "        vertical-align: top;\n",
       "    }\n",
       "\n",
       "    .dataframe thead th {\n",
       "        text-align: right;\n",
       "    }\n",
       "</style>\n",
       "<table border=\"1\" class=\"dataframe\">\n",
       "  <thead>\n",
       "    <tr style=\"text-align: right;\">\n",
       "      <th></th>\n",
       "      <th>NAME</th>\n",
       "      <th>ROLL NO</th>\n",
       "      <th>country</th>\n",
       "    </tr>\n",
       "  </thead>\n",
       "  <tbody>\n",
       "    <tr>\n",
       "      <th>0</th>\n",
       "      <td>Abhishek</td>\n",
       "      <td>10</td>\n",
       "      <td>indian</td>\n",
       "    </tr>\n",
       "    <tr>\n",
       "      <th>2</th>\n",
       "      <td>ROHIT PAWAR</td>\n",
       "      <td>30</td>\n",
       "      <td>usa</td>\n",
       "    </tr>\n",
       "    <tr>\n",
       "      <th>3</th>\n",
       "      <td>aniket</td>\n",
       "      <td>40</td>\n",
       "      <td>isril</td>\n",
       "    </tr>\n",
       "    <tr>\n",
       "      <th>1</th>\n",
       "      <td>shankar</td>\n",
       "      <td>20</td>\n",
       "      <td>pakistan</td>\n",
       "    </tr>\n",
       "    <tr>\n",
       "      <th>4</th>\n",
       "      <td>shanker</td>\n",
       "      <td>50</td>\n",
       "      <td>iran</td>\n",
       "    </tr>\n",
       "  </tbody>\n",
       "</table>\n",
       "</div>"
      ],
      "text/plain": [
       "          NAME  ROLL NO  country \n",
       "0     Abhishek       10    indian\n",
       "2  ROHIT PAWAR       30       usa\n",
       "3       aniket       40     isril\n",
       "1      shankar       20  pakistan\n",
       "4      shanker       50      iran"
      ]
     },
     "execution_count": 158,
     "metadata": {},
     "output_type": "execute_result"
    }
   ],
   "source": [
    "data.sort_values(by=\"NAME\")"
   ]
  },
  {
   "cell_type": "code",
   "execution_count": 168,
   "id": "2e8c5390",
   "metadata": {},
   "outputs": [
    {
     "data": {
      "text/html": [
       "<div>\n",
       "<style scoped>\n",
       "    .dataframe tbody tr th:only-of-type {\n",
       "        vertical-align: middle;\n",
       "    }\n",
       "\n",
       "    .dataframe tbody tr th {\n",
       "        vertical-align: top;\n",
       "    }\n",
       "\n",
       "    .dataframe thead th {\n",
       "        text-align: right;\n",
       "    }\n",
       "</style>\n",
       "<table border=\"1\" class=\"dataframe\">\n",
       "  <thead>\n",
       "    <tr style=\"text-align: right;\">\n",
       "      <th></th>\n",
       "      <th>NAME</th>\n",
       "      <th>ROLL NO</th>\n",
       "      <th>country</th>\n",
       "    </tr>\n",
       "  </thead>\n",
       "  <tbody>\n",
       "    <tr>\n",
       "      <th>0</th>\n",
       "      <td>Abhishek</td>\n",
       "      <td>10</td>\n",
       "      <td>indian</td>\n",
       "    </tr>\n",
       "    <tr>\n",
       "      <th>1</th>\n",
       "      <td>shankar</td>\n",
       "      <td>20</td>\n",
       "      <td>pakistan</td>\n",
       "    </tr>\n",
       "    <tr>\n",
       "      <th>2</th>\n",
       "      <td>ROHIT PAWAR</td>\n",
       "      <td>30</td>\n",
       "      <td>usa</td>\n",
       "    </tr>\n",
       "    <tr>\n",
       "      <th>3</th>\n",
       "      <td>aniket</td>\n",
       "      <td>40</td>\n",
       "      <td>isril</td>\n",
       "    </tr>\n",
       "    <tr>\n",
       "      <th>4</th>\n",
       "      <td>shanker</td>\n",
       "      <td>50</td>\n",
       "      <td>iran</td>\n",
       "    </tr>\n",
       "  </tbody>\n",
       "</table>\n",
       "</div>"
      ],
      "text/plain": [
       "          NAME  ROLL NO  country \n",
       "0     Abhishek       10    indian\n",
       "1      shankar       20  pakistan\n",
       "2  ROHIT PAWAR       30       usa\n",
       "3       aniket       40     isril\n",
       "4      shanker       50      iran"
      ]
     },
     "execution_count": 168,
     "metadata": {},
     "output_type": "execute_result"
    }
   ],
   "source": [
    "data"
   ]
  },
  {
   "cell_type": "code",
   "execution_count": 164,
   "id": "0e140578",
   "metadata": {},
   "outputs": [
    {
     "name": "stdout",
     "output_type": "stream",
     "text": [
      "(5, 3)\n",
      "15\n",
      "<class 'pandas.core.frame.DataFrame'>\n",
      "5\n"
     ]
    }
   ],
   "source": [
    "print(data.shape)\n",
    "print(data.size)\n",
    "print(type(data))\n",
    "print(len(data))"
   ]
  },
  {
   "cell_type": "code",
   "execution_count": 165,
   "id": "6537806c",
   "metadata": {},
   "outputs": [
    {
     "data": {
      "text/plain": [
       "NAME        5\n",
       "ROLL NO     5\n",
       "country     5\n",
       "dtype: int64"
      ]
     },
     "execution_count": 165,
     "metadata": {},
     "output_type": "execute_result"
    }
   ],
   "source": [
    "data.count()"
   ]
  },
  {
   "cell_type": "code",
   "execution_count": 167,
   "id": "ac863847",
   "metadata": {},
   "outputs": [
    {
     "data": {
      "text/plain": [
       "NAME        AbhishekshankarROHIT PAWARaniketshanker\n",
       "ROLL NO                                         150\n",
       "country                  indianpakistanusaisriliran\n",
       "dtype: object"
      ]
     },
     "execution_count": 167,
     "metadata": {},
     "output_type": "execute_result"
    }
   ],
   "source": [
    "data.sum()"
   ]
  },
  {
   "cell_type": "code",
   "execution_count": null,
   "id": "4c833341",
   "metadata": {},
   "outputs": [],
   "source": []
  },
  {
   "cell_type": "code",
   "execution_count": null,
   "id": "3a32b652",
   "metadata": {},
   "outputs": [],
   "source": []
  },
  {
   "cell_type": "code",
   "execution_count": null,
   "id": "21712c5e",
   "metadata": {},
   "outputs": [],
   "source": []
  },
  {
   "cell_type": "code",
   "execution_count": null,
   "id": "7b94f868",
   "metadata": {},
   "outputs": [],
   "source": []
  },
  {
   "cell_type": "code",
   "execution_count": null,
   "id": "e49e4f1c",
   "metadata": {},
   "outputs": [],
   "source": []
  },
  {
   "cell_type": "code",
   "execution_count": null,
   "id": "11bc4255",
   "metadata": {},
   "outputs": [],
   "source": []
  },
  {
   "cell_type": "code",
   "execution_count": null,
   "id": "e9845372",
   "metadata": {},
   "outputs": [],
   "source": []
  },
  {
   "cell_type": "code",
   "execution_count": null,
   "id": "4915618c",
   "metadata": {},
   "outputs": [],
   "source": []
  },
  {
   "cell_type": "code",
   "execution_count": null,
   "id": "950bac05",
   "metadata": {},
   "outputs": [],
   "source": []
  },
  {
   "cell_type": "code",
   "execution_count": null,
   "id": "45ca224a",
   "metadata": {},
   "outputs": [],
   "source": []
  }
 ],
 "metadata": {
  "kernelspec": {
   "display_name": "Python 3 (ipykernel)",
   "language": "python",
   "name": "python3"
  },
  "language_info": {
   "codemirror_mode": {
    "name": "ipython",
    "version": 3
   },
   "file_extension": ".py",
   "mimetype": "text/x-python",
   "name": "python",
   "nbconvert_exporter": "python",
   "pygments_lexer": "ipython3",
   "version": "3.10.13"
  }
 },
 "nbformat": 4,
 "nbformat_minor": 5
}
